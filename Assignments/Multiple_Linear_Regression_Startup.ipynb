{
 "cells": [
  {
   "cell_type": "code",
   "execution_count": null,
   "id": "946d0d2b",
   "metadata": {},
   "outputs": [],
   "source": [
    "import pandas as pd\n",
    "import numpy as np\n",
    "import matplotlib.pyplot as plt\n",
    "import seaborn as sns\n",
    "import statsmodels.formula.api as smf"
   ]
  },
  {
   "cell_type": "code",
   "execution_count": null,
   "id": "60dd0c8e",
   "metadata": {},
   "outputs": [],
   "source": [
    "startup_df=pd.read_csv(\"50_Startups.csv\")\n",
    "startup_df.head()"
   ]
  },
  {
   "cell_type": "code",
   "execution_count": null,
   "id": "7d63055a",
   "metadata": {},
   "outputs": [],
   "source": [
    "startup_df.tail()"
   ]
  },
  {
   "cell_type": "code",
   "execution_count": null,
   "id": "1869fc95",
   "metadata": {},
   "outputs": [],
   "source": [
    "startup_df.info()"
   ]
  },
  {
   "cell_type": "code",
   "execution_count": null,
   "id": "2a68691b",
   "metadata": {},
   "outputs": [],
   "source": [
    "startup_df.isnull().sum()"
   ]
  },
  {
   "cell_type": "code",
   "execution_count": null,
   "id": "922a6ebe",
   "metadata": {},
   "outputs": [],
   "source": [
    "startup_df.dtypes"
   ]
  },
  {
   "cell_type": "code",
   "execution_count": null,
   "id": "2388d180",
   "metadata": {},
   "outputs": [],
   "source": [
    "startup_df.duplicated().sum()"
   ]
  },
  {
   "cell_type": "code",
   "execution_count": null,
   "id": "0d4dba36",
   "metadata": {},
   "outputs": [],
   "source": [
    "startup_df=startup_df.rename({'R&D Spend':'R_DSpend','Marketing Spend':'MarketingSpend'},axis=1)"
   ]
  },
  {
   "cell_type": "code",
   "execution_count": null,
   "id": "35c10d1a",
   "metadata": {},
   "outputs": [],
   "source": [
    "#fig = plt.figure(figsize=(10,60))\n",
    "\n",
    "fig, axis = plt.subplots(nrows=2,ncols=2)\n",
    "axis[0,0].boxplot(startup_df.R_DSpend)\n",
    "axis[0,0].set_title('R  & D Spent')\n",
    "axis[0,1].boxplot(startup_df.Administration)\n",
    "axis[0,1].set_title('Administration spent')\n",
    "axis[1,0].boxplot(startup_df.MarketingSpend)\n",
    "axis[1,0].set_title('Marketing Spent')\n",
    "axis[1,1].boxplot(startup_df.Profit)\n",
    "axis[1,1].set_title('Profit')\n",
    "fig.tight_layout()"
   ]
  },
  {
   "cell_type": "code",
   "execution_count": null,
   "id": "061ab9aa",
   "metadata": {},
   "outputs": [],
   "source": [
    "# There are no outliers in the data"
   ]
  },
  {
   "cell_type": "markdown",
   "id": "c9eccb13",
   "metadata": {},
   "source": [
    "#\n",
    "CORRELATION AND LINEARITY TEST"
   ]
  },
  {
   "cell_type": "code",
   "execution_count": null,
   "id": "c884c9c5",
   "metadata": {},
   "outputs": [],
   "source": [
    "startup_df.corr()"
   ]
  },
  {
   "cell_type": "code",
   "execution_count": null,
   "id": "01c239d2",
   "metadata": {},
   "outputs": [],
   "source": [
    "sns.pairplot(startup_df)"
   ]
  },
  {
   "cell_type": "code",
   "execution_count": null,
   "id": "cb8c6467",
   "metadata": {},
   "outputs": [],
   "source": [
    "### MarketSpend and R&D  have good correlation coefficient"
   ]
  },
  {
   "cell_type": "markdown",
   "id": "5c8cc051",
   "metadata": {},
   "source": [
    "#\n",
    "BUILDING MODEL"
   ]
  },
  {
   "cell_type": "code",
   "execution_count": null,
   "id": "8f16d5a8",
   "metadata": {},
   "outputs": [],
   "source": [
    "model_basic=smf.ols('Profit~R_DSpend+Administration+MarketingSpend',data=startup_df).fit()\n",
    "predicted_basic=model_basic.predict(startup_df)\n",
    "model_basic.summary()"
   ]
  },
  {
   "cell_type": "code",
   "execution_count": null,
   "id": "3a30e9b0",
   "metadata": {},
   "outputs": [],
   "source": [
    "error_basic=startup_df.Profit-predicted_basic\n",
    "error_basic.sum()"
   ]
  },
  {
   "cell_type": "markdown",
   "id": "bdc7a41c",
   "metadata": {},
   "source": [
    "#\n",
    "RMSE AND VIF METHODS\n"
   ]
  },
  {
   "cell_type": "code",
   "execution_count": null,
   "id": "9bdc5704",
   "metadata": {},
   "outputs": [],
   "source": [
    "def RMSE(actual,predicted):\n",
    "    error=actual-predicted\n",
    "    rmse_value=np.sqrt(np.mean(error*error))\n",
    "    return rmse_value\n",
    "\n",
    "def vif(rSquared):\n",
    "    vif_value=1/(1-rSquared)\n",
    "    return vif_value\n",
    "\n",
    "    "
   ]
  },
  {
   "cell_type": "code",
   "execution_count": null,
   "id": "0b46763e",
   "metadata": {},
   "outputs": [],
   "source": [
    "RMSE_basic=RMSE(startup_df.Profit,predicted_basic)\n",
    "#vif_basic=vif(model_basic.rsquared)\n",
    "RMSE_basic"
   ]
  },
  {
   "cell_type": "code",
   "execution_count": null,
   "id": "a0729469",
   "metadata": {},
   "outputs": [],
   "source": [
    "# Since Administration has a probability value more it has no significance\n",
    "\n",
    "# BUILDING MODEL BY REMOVING THE ADMINISTRATION FROM INPUT"
   ]
  },
  {
   "cell_type": "code",
   "execution_count": null,
   "id": "f21ceefc",
   "metadata": {},
   "outputs": [],
   "source": [
    "model_rem_admin=smf.ols('Profit~R_DSpend+MarketingSpend',data=startup_df).fit()\n",
    "predict_rem_admin=model_rem_admin.predict(startup_df)\n",
    "model_rem_admin.summary()"
   ]
  },
  {
   "cell_type": "code",
   "execution_count": null,
   "id": "3a412748",
   "metadata": {},
   "outputs": [],
   "source": [
    "RMSE_rem_admin=RMSE(startup_df.Profit,predict_rem_admin)\n",
    "RMSE_rem_admin"
   ]
  },
  {
   "cell_type": "code",
   "execution_count": null,
   "id": "aad6c2c2",
   "metadata": {},
   "outputs": [],
   "source": [
    "model_rem_admin_market=smf.ols('Profit~R_DSpend',data=startup_df).fit()\n",
    "predict_rem_admin_market=model_rem_admin_market.predict(startup_df)\n",
    "model_rem_admin_market.summary()"
   ]
  },
  {
   "cell_type": "code",
   "execution_count": null,
   "id": "b653a55e",
   "metadata": {},
   "outputs": [],
   "source": [
    "RMSE_rem_admin_market=RMSE(startup_df.Profit,predict_rem_admin_market)\n",
    "RMSE_rem_admin_market"
   ]
  },
  {
   "cell_type": "markdown",
   "id": "f56fcce1",
   "metadata": {},
   "source": [
    "# Regression plot"
   ]
  },
  {
   "cell_type": "code",
   "execution_count": null,
   "id": "7b295155",
   "metadata": {},
   "outputs": [],
   "source": [
    "import statsmodels.api as sm\n",
    "fig = plt.figure(figsize=(15,8))\n",
    "fig = sm.graphics.plot_partregress_grid(model_basic, fig=fig)\n",
    "plt.show()"
   ]
  },
  {
   "cell_type": "markdown",
   "id": "9fe94f7b",
   "metadata": {},
   "source": [
    "# COOKS Distance and H leverage to remove row outliers"
   ]
  },
  {
   "cell_type": "code",
   "execution_count": null,
   "id": "613e84e5",
   "metadata": {},
   "outputs": [],
   "source": [
    "model_influence=model_rem_admin_market.get_influence()\n",
    "(cooks_values,_)=model_influence.cooks_distance\n",
    "cooks_values"
   ]
  },
  {
   "cell_type": "code",
   "execution_count": null,
   "id": "d3c96220",
   "metadata": {},
   "outputs": [],
   "source": [
    "#Ploting the cooks values \n",
    "fig = plt.subplots(figsize=(20,7))\n",
    "plt.stem(np.arange(len(startup_df)),np.round(cooks_values,3))\n",
    "plt.xlabel('Indexes')\n",
    "plt.ylabel('cooks values')"
   ]
  },
  {
   "cell_type": "code",
   "execution_count": null,
   "id": "a3a0e446",
   "metadata": {},
   "outputs": [],
   "source": [
    "(np.argmax(cooks_values),np.max(cooks_values))"
   ]
  },
  {
   "cell_type": "code",
   "execution_count": null,
   "id": "295ddcb0",
   "metadata": {},
   "outputs": [],
   "source": [
    "from statsmodels.graphics.regressionplots import influence_plot\n",
    "\n",
    "influence_plot(model_rem_admin_market)\n",
    "plt.show()"
   ]
  },
  {
   "cell_type": "code",
   "execution_count": null,
   "id": "dadb9d74",
   "metadata": {},
   "outputs": [],
   "source": [
    "k=startup_df.shape[1]\n",
    "r=startup_df.shape[0]\n",
    "leverage_cutoff = 3*((k + 1)/r)\n",
    "leverage_cutoff"
   ]
  },
  {
   "cell_type": "code",
   "execution_count": null,
   "id": "ee156720",
   "metadata": {},
   "outputs": [],
   "source": [
    "startup_df_new=startup_df.copy()"
   ]
  },
  {
   "cell_type": "code",
   "execution_count": null,
   "id": "da2158ad",
   "metadata": {},
   "outputs": [],
   "source": [
    "startup_df_changed=startup_df_new.drop(startup_df_new.index[49],axis=0)\n",
    "startup_df_changed.shape"
   ]
  },
  {
   "cell_type": "code",
   "execution_count": null,
   "id": "85ffb359",
   "metadata": {},
   "outputs": [],
   "source": [
    "# After removing the row outliers checking the model parameters"
   ]
  },
  {
   "cell_type": "code",
   "execution_count": null,
   "id": "69d12de0",
   "metadata": {},
   "outputs": [],
   "source": [
    "model_new=smf.ols('Profit~R_DSpend+MarketingSpend',data=startup_df_changed).fit()\n",
    "predicted_new=model_new.predict(startup_df_changed)\n",
    "model_new.summary()"
   ]
  },
  {
   "cell_type": "code",
   "execution_count": null,
   "id": "e51fb946",
   "metadata": {},
   "outputs": [],
   "source": [
    "RMSE_new=RMSE(startup_df_changed.Profit,predicted_new)\n",
    "RMSE_new"
   ]
  },
  {
   "cell_type": "code",
   "execution_count": null,
   "id": "c55ba0e9",
   "metadata": {},
   "outputs": [],
   "source": [
    "df_rsq={'Model':['basic','rem_admin','rem_admin_market','model_new'],\n",
    "        'R^2':[model_basic.rsquared,model_rem_admin.rsquared,model_rem_admin_market.rsquared,model_new.rsquared],\n",
    "        'AIC':[model_basic.aic,model_rem_admin.aic,model_rem_admin_market.aic,model_new.aic],\n",
    "        'RMSE':[RMSE_basic,RMSE_rem_admin,RMSE_rem_admin_market,RMSE_new]\n",
    "       }\n",
    "rsq_df=pd.DataFrame(df_rsq)\n",
    "rsq_df"
   ]
  },
  {
   "cell_type": "code",
   "execution_count": null,
   "id": "7912ed5f",
   "metadata": {},
   "outputs": [],
   "source": [
    "error_changed=predicted_new-startup_df_changed.Profit\n",
    "plt.hist(error_changed)\n",
    "plt.ylabel(\"error\")"
   ]
  },
  {
   "cell_type": "code",
   "execution_count": null,
   "id": "d67fc339",
   "metadata": {},
   "outputs": [],
   "source": [
    "error_changed=sns.scatterplot(x=startup_df_changed.Profit,y=error_changed,data=startup_df_changed)\n",
    "error_changed.set(xlabel=\"Original Profit\", ylabel=\"Error\", title=\"Residual Plot\")"
   ]
  },
  {
   "cell_type": "code",
   "execution_count": null,
   "id": "84bb2aee",
   "metadata": {},
   "outputs": [],
   "source": []
  }
 ],
 "metadata": {
  "kernelspec": {
   "display_name": "Python 3 (ipykernel)",
   "language": "python",
   "name": "python3"
  },
  "language_info": {
   "codemirror_mode": {
    "name": "ipython",
    "version": 3
   },
   "file_extension": ".py",
   "mimetype": "text/x-python",
   "name": "python",
   "nbconvert_exporter": "python",
   "pygments_lexer": "ipython3",
   "version": "3.9.7"
  }
 },
 "nbformat": 4,
 "nbformat_minor": 5
}
