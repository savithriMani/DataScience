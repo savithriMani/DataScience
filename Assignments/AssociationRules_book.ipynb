{
 "cells": [
  {
   "cell_type": "code",
   "execution_count": null,
   "id": "0ad12324",
   "metadata": {},
   "outputs": [],
   "source": [
    "import pandas as pd \n",
    "\n",
    "from mlxtend.frequent_patterns import apriori,association_rules\n",
    "from mlxtend.preprocessing import TransactionEncoder"
   ]
  },
  {
   "cell_type": "code",
   "execution_count": null,
   "id": "97ce3538",
   "metadata": {},
   "outputs": [],
   "source": [
    "book_df=pd.read_csv(\"book.csv\")"
   ]
  },
  {
   "cell_type": "code",
   "execution_count": null,
   "id": "5251e529",
   "metadata": {},
   "outputs": [],
   "source": [
    "book_df.head()"
   ]
  },
  {
   "cell_type": "code",
   "execution_count": null,
   "id": "96a0ef7b",
   "metadata": {},
   "outputs": [],
   "source": [
    "book_df.info()"
   ]
  },
  {
   "cell_type": "code",
   "execution_count": null,
   "id": "301cc7ab",
   "metadata": {},
   "outputs": [],
   "source": [
    "# Building the model using Aproiori algorithm"
   ]
  },
  {
   "cell_type": "code",
   "execution_count": null,
   "id": "faa1ea12",
   "metadata": {},
   "outputs": [],
   "source": [
    "total_itemsets = apriori(movie_df, min_support=0.15, use_colnames=True)\n",
    "total_itemsets"
   ]
  },
  {
   "cell_type": "code",
   "execution_count": null,
   "id": "67d4b8b4",
   "metadata": {},
   "outputs": [],
   "source": [
    "rules = association_rules(total_itemsets, metric=\"lift\", min_threshold=1.6)\n",
    "rules"
   ]
  },
  {
   "cell_type": "code",
   "execution_count": null,
   "id": "f397d9c2",
   "metadata": {},
   "outputs": [],
   "source": [
    "rules.sort_values('lift',ascending = False)"
   ]
  },
  {
   "cell_type": "code",
   "execution_count": null,
   "id": "c98786ee",
   "metadata": {},
   "outputs": [],
   "source": [
    "rules[rules.lift>9].shape"
   ]
  },
  {
   "cell_type": "code",
   "execution_count": null,
   "id": "84435426",
   "metadata": {},
   "outputs": [],
   "source": [
    "rules[rules.support>0.1]"
   ]
  },
  {
   "cell_type": "code",
   "execution_count": null,
   "id": "78c404cf",
   "metadata": {},
   "outputs": [],
   "source": [
    "import matplotlib.pyplot as plt\n",
    "rules[['support','confidence','lift']].hist()"
   ]
  },
  {
   "cell_type": "code",
   "execution_count": null,
   "id": "b6a6da10",
   "metadata": {},
   "outputs": [],
   "source": []
  }
 ],
 "metadata": {
  "kernelspec": {
   "display_name": "Python 3 (ipykernel)",
   "language": "python",
   "name": "python3"
  },
  "language_info": {
   "codemirror_mode": {
    "name": "ipython",
    "version": 3
   },
   "file_extension": ".py",
   "mimetype": "text/x-python",
   "name": "python",
   "nbconvert_exporter": "python",
   "pygments_lexer": "ipython3",
   "version": "3.9.7"
  }
 },
 "nbformat": 4,
 "nbformat_minor": 5
}
