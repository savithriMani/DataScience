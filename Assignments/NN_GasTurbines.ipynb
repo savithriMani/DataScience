{
 "cells": [
  {
   "cell_type": "code",
   "execution_count": 1,
   "id": "0803a696",
   "metadata": {},
   "outputs": [],
   "source": [
    "import pandas as pd\n",
    "import numpy as np\n",
    "import seaborn as sns\n",
    "import tensorflow as tf\n",
    "import matplotlib.pyplot as plt"
   ]
  },
  {
   "cell_type": "code",
   "execution_count": 2,
   "id": "a852fbd1",
   "metadata": {},
   "outputs": [],
   "source": [
    "gt_df=pd.read_csv(\"gas_turbines.csv\")"
   ]
  },
  {
   "cell_type": "code",
   "execution_count": 3,
   "id": "09d13870",
   "metadata": {},
   "outputs": [
    {
     "data": {
      "text/html": [
       "<div>\n",
       "<style scoped>\n",
       "    .dataframe tbody tr th:only-of-type {\n",
       "        vertical-align: middle;\n",
       "    }\n",
       "\n",
       "    .dataframe tbody tr th {\n",
       "        vertical-align: top;\n",
       "    }\n",
       "\n",
       "    .dataframe thead th {\n",
       "        text-align: right;\n",
       "    }\n",
       "</style>\n",
       "<table border=\"1\" class=\"dataframe\">\n",
       "  <thead>\n",
       "    <tr style=\"text-align: right;\">\n",
       "      <th></th>\n",
       "      <th>AT</th>\n",
       "      <th>AP</th>\n",
       "      <th>AH</th>\n",
       "      <th>AFDP</th>\n",
       "      <th>GTEP</th>\n",
       "      <th>TIT</th>\n",
       "      <th>TAT</th>\n",
       "      <th>TEY</th>\n",
       "      <th>CDP</th>\n",
       "      <th>CO</th>\n",
       "      <th>NOX</th>\n",
       "    </tr>\n",
       "  </thead>\n",
       "  <tbody>\n",
       "    <tr>\n",
       "      <th>0</th>\n",
       "      <td>6.8594</td>\n",
       "      <td>1007.9</td>\n",
       "      <td>96.799</td>\n",
       "      <td>3.5000</td>\n",
       "      <td>19.663</td>\n",
       "      <td>1059.2</td>\n",
       "      <td>550.00</td>\n",
       "      <td>114.70</td>\n",
       "      <td>10.605</td>\n",
       "      <td>3.1547</td>\n",
       "      <td>82.722</td>\n",
       "    </tr>\n",
       "    <tr>\n",
       "      <th>1</th>\n",
       "      <td>6.7850</td>\n",
       "      <td>1008.4</td>\n",
       "      <td>97.118</td>\n",
       "      <td>3.4998</td>\n",
       "      <td>19.728</td>\n",
       "      <td>1059.3</td>\n",
       "      <td>550.00</td>\n",
       "      <td>114.72</td>\n",
       "      <td>10.598</td>\n",
       "      <td>3.2363</td>\n",
       "      <td>82.776</td>\n",
       "    </tr>\n",
       "    <tr>\n",
       "      <th>2</th>\n",
       "      <td>6.8977</td>\n",
       "      <td>1008.8</td>\n",
       "      <td>95.939</td>\n",
       "      <td>3.4824</td>\n",
       "      <td>19.779</td>\n",
       "      <td>1059.4</td>\n",
       "      <td>549.87</td>\n",
       "      <td>114.71</td>\n",
       "      <td>10.601</td>\n",
       "      <td>3.2012</td>\n",
       "      <td>82.468</td>\n",
       "    </tr>\n",
       "    <tr>\n",
       "      <th>3</th>\n",
       "      <td>7.0569</td>\n",
       "      <td>1009.2</td>\n",
       "      <td>95.249</td>\n",
       "      <td>3.4805</td>\n",
       "      <td>19.792</td>\n",
       "      <td>1059.6</td>\n",
       "      <td>549.99</td>\n",
       "      <td>114.72</td>\n",
       "      <td>10.606</td>\n",
       "      <td>3.1923</td>\n",
       "      <td>82.670</td>\n",
       "    </tr>\n",
       "    <tr>\n",
       "      <th>4</th>\n",
       "      <td>7.3978</td>\n",
       "      <td>1009.7</td>\n",
       "      <td>95.150</td>\n",
       "      <td>3.4976</td>\n",
       "      <td>19.765</td>\n",
       "      <td>1059.7</td>\n",
       "      <td>549.98</td>\n",
       "      <td>114.72</td>\n",
       "      <td>10.612</td>\n",
       "      <td>3.2484</td>\n",
       "      <td>82.311</td>\n",
       "    </tr>\n",
       "  </tbody>\n",
       "</table>\n",
       "</div>"
      ],
      "text/plain": [
       "       AT      AP      AH    AFDP    GTEP     TIT     TAT     TEY     CDP  \\\n",
       "0  6.8594  1007.9  96.799  3.5000  19.663  1059.2  550.00  114.70  10.605   \n",
       "1  6.7850  1008.4  97.118  3.4998  19.728  1059.3  550.00  114.72  10.598   \n",
       "2  6.8977  1008.8  95.939  3.4824  19.779  1059.4  549.87  114.71  10.601   \n",
       "3  7.0569  1009.2  95.249  3.4805  19.792  1059.6  549.99  114.72  10.606   \n",
       "4  7.3978  1009.7  95.150  3.4976  19.765  1059.7  549.98  114.72  10.612   \n",
       "\n",
       "       CO     NOX  \n",
       "0  3.1547  82.722  \n",
       "1  3.2363  82.776  \n",
       "2  3.2012  82.468  \n",
       "3  3.1923  82.670  \n",
       "4  3.2484  82.311  "
      ]
     },
     "execution_count": 3,
     "metadata": {},
     "output_type": "execute_result"
    }
   ],
   "source": [
    "gt_df.head()"
   ]
  },
  {
   "cell_type": "code",
   "execution_count": 4,
   "id": "125819b5",
   "metadata": {},
   "outputs": [
    {
     "name": "stdout",
     "output_type": "stream",
     "text": [
      "<class 'pandas.core.frame.DataFrame'>\n",
      "RangeIndex: 15039 entries, 0 to 15038\n",
      "Data columns (total 11 columns):\n",
      " #   Column  Non-Null Count  Dtype  \n",
      "---  ------  --------------  -----  \n",
      " 0   AT      15039 non-null  float64\n",
      " 1   AP      15039 non-null  float64\n",
      " 2   AH      15039 non-null  float64\n",
      " 3   AFDP    15039 non-null  float64\n",
      " 4   GTEP    15039 non-null  float64\n",
      " 5   TIT     15039 non-null  float64\n",
      " 6   TAT     15039 non-null  float64\n",
      " 7   TEY     15039 non-null  float64\n",
      " 8   CDP     15039 non-null  float64\n",
      " 9   CO      15039 non-null  float64\n",
      " 10  NOX     15039 non-null  float64\n",
      "dtypes: float64(11)\n",
      "memory usage: 1.3 MB\n"
     ]
    }
   ],
   "source": [
    "gt_df.info()"
   ]
  },
  {
   "cell_type": "code",
   "execution_count": 5,
   "id": "0359549c",
   "metadata": {},
   "outputs": [],
   "source": [
    "# No null values in the data set"
   ]
  },
  {
   "cell_type": "code",
   "execution_count": 6,
   "id": "17a28b36",
   "metadata": {},
   "outputs": [
    {
     "data": {
      "text/html": [
       "<div>\n",
       "<style scoped>\n",
       "    .dataframe tbody tr th:only-of-type {\n",
       "        vertical-align: middle;\n",
       "    }\n",
       "\n",
       "    .dataframe tbody tr th {\n",
       "        vertical-align: top;\n",
       "    }\n",
       "\n",
       "    .dataframe thead th {\n",
       "        text-align: right;\n",
       "    }\n",
       "</style>\n",
       "<table border=\"1\" class=\"dataframe\">\n",
       "  <thead>\n",
       "    <tr style=\"text-align: right;\">\n",
       "      <th></th>\n",
       "      <th>AT</th>\n",
       "      <th>AP</th>\n",
       "      <th>AH</th>\n",
       "      <th>AFDP</th>\n",
       "      <th>GTEP</th>\n",
       "      <th>TIT</th>\n",
       "      <th>TAT</th>\n",
       "      <th>TEY</th>\n",
       "      <th>CDP</th>\n",
       "      <th>CO</th>\n",
       "      <th>NOX</th>\n",
       "    </tr>\n",
       "  </thead>\n",
       "  <tbody>\n",
       "    <tr>\n",
       "      <th>count</th>\n",
       "      <td>15039.000000</td>\n",
       "      <td>15039.00000</td>\n",
       "      <td>15039.000000</td>\n",
       "      <td>15039.000000</td>\n",
       "      <td>15039.000000</td>\n",
       "      <td>15039.000000</td>\n",
       "      <td>15039.000000</td>\n",
       "      <td>15039.000000</td>\n",
       "      <td>15039.000000</td>\n",
       "      <td>15039.000000</td>\n",
       "      <td>15039.000000</td>\n",
       "    </tr>\n",
       "    <tr>\n",
       "      <th>mean</th>\n",
       "      <td>17.764381</td>\n",
       "      <td>1013.19924</td>\n",
       "      <td>79.124174</td>\n",
       "      <td>4.200294</td>\n",
       "      <td>25.419061</td>\n",
       "      <td>1083.798770</td>\n",
       "      <td>545.396183</td>\n",
       "      <td>134.188464</td>\n",
       "      <td>12.102353</td>\n",
       "      <td>1.972499</td>\n",
       "      <td>68.190934</td>\n",
       "    </tr>\n",
       "    <tr>\n",
       "      <th>std</th>\n",
       "      <td>7.574323</td>\n",
       "      <td>6.41076</td>\n",
       "      <td>13.793439</td>\n",
       "      <td>0.760197</td>\n",
       "      <td>4.173916</td>\n",
       "      <td>16.527806</td>\n",
       "      <td>7.866803</td>\n",
       "      <td>15.829717</td>\n",
       "      <td>1.103196</td>\n",
       "      <td>2.222206</td>\n",
       "      <td>10.470586</td>\n",
       "    </tr>\n",
       "    <tr>\n",
       "      <th>min</th>\n",
       "      <td>0.522300</td>\n",
       "      <td>985.85000</td>\n",
       "      <td>30.344000</td>\n",
       "      <td>2.087400</td>\n",
       "      <td>17.878000</td>\n",
       "      <td>1000.800000</td>\n",
       "      <td>512.450000</td>\n",
       "      <td>100.170000</td>\n",
       "      <td>9.904400</td>\n",
       "      <td>0.000388</td>\n",
       "      <td>27.765000</td>\n",
       "    </tr>\n",
       "    <tr>\n",
       "      <th>25%</th>\n",
       "      <td>11.408000</td>\n",
       "      <td>1008.90000</td>\n",
       "      <td>69.750000</td>\n",
       "      <td>3.723900</td>\n",
       "      <td>23.294000</td>\n",
       "      <td>1079.600000</td>\n",
       "      <td>542.170000</td>\n",
       "      <td>127.985000</td>\n",
       "      <td>11.622000</td>\n",
       "      <td>0.858055</td>\n",
       "      <td>61.303500</td>\n",
       "    </tr>\n",
       "    <tr>\n",
       "      <th>50%</th>\n",
       "      <td>18.186000</td>\n",
       "      <td>1012.80000</td>\n",
       "      <td>82.266000</td>\n",
       "      <td>4.186200</td>\n",
       "      <td>25.082000</td>\n",
       "      <td>1088.700000</td>\n",
       "      <td>549.890000</td>\n",
       "      <td>133.780000</td>\n",
       "      <td>12.025000</td>\n",
       "      <td>1.390200</td>\n",
       "      <td>66.601000</td>\n",
       "    </tr>\n",
       "    <tr>\n",
       "      <th>75%</th>\n",
       "      <td>23.862500</td>\n",
       "      <td>1016.90000</td>\n",
       "      <td>90.043500</td>\n",
       "      <td>4.550900</td>\n",
       "      <td>27.184000</td>\n",
       "      <td>1096.000000</td>\n",
       "      <td>550.060000</td>\n",
       "      <td>140.895000</td>\n",
       "      <td>12.578000</td>\n",
       "      <td>2.160400</td>\n",
       "      <td>73.935500</td>\n",
       "    </tr>\n",
       "    <tr>\n",
       "      <th>max</th>\n",
       "      <td>34.929000</td>\n",
       "      <td>1034.20000</td>\n",
       "      <td>100.200000</td>\n",
       "      <td>7.610600</td>\n",
       "      <td>37.402000</td>\n",
       "      <td>1100.800000</td>\n",
       "      <td>550.610000</td>\n",
       "      <td>174.610000</td>\n",
       "      <td>15.081000</td>\n",
       "      <td>44.103000</td>\n",
       "      <td>119.890000</td>\n",
       "    </tr>\n",
       "  </tbody>\n",
       "</table>\n",
       "</div>"
      ],
      "text/plain": [
       "                 AT           AP            AH          AFDP          GTEP  \\\n",
       "count  15039.000000  15039.00000  15039.000000  15039.000000  15039.000000   \n",
       "mean      17.764381   1013.19924     79.124174      4.200294     25.419061   \n",
       "std        7.574323      6.41076     13.793439      0.760197      4.173916   \n",
       "min        0.522300    985.85000     30.344000      2.087400     17.878000   \n",
       "25%       11.408000   1008.90000     69.750000      3.723900     23.294000   \n",
       "50%       18.186000   1012.80000     82.266000      4.186200     25.082000   \n",
       "75%       23.862500   1016.90000     90.043500      4.550900     27.184000   \n",
       "max       34.929000   1034.20000    100.200000      7.610600     37.402000   \n",
       "\n",
       "                TIT           TAT           TEY           CDP            CO  \\\n",
       "count  15039.000000  15039.000000  15039.000000  15039.000000  15039.000000   \n",
       "mean    1083.798770    545.396183    134.188464     12.102353      1.972499   \n",
       "std       16.527806      7.866803     15.829717      1.103196      2.222206   \n",
       "min     1000.800000    512.450000    100.170000      9.904400      0.000388   \n",
       "25%     1079.600000    542.170000    127.985000     11.622000      0.858055   \n",
       "50%     1088.700000    549.890000    133.780000     12.025000      1.390200   \n",
       "75%     1096.000000    550.060000    140.895000     12.578000      2.160400   \n",
       "max     1100.800000    550.610000    174.610000     15.081000     44.103000   \n",
       "\n",
       "                NOX  \n",
       "count  15039.000000  \n",
       "mean      68.190934  \n",
       "std       10.470586  \n",
       "min       27.765000  \n",
       "25%       61.303500  \n",
       "50%       66.601000  \n",
       "75%       73.935500  \n",
       "max      119.890000  "
      ]
     },
     "execution_count": 6,
     "metadata": {},
     "output_type": "execute_result"
    }
   ],
   "source": [
    "gt_df.describe()"
   ]
  },
  {
   "cell_type": "markdown",
   "id": "e2864fb3",
   "metadata": {},
   "source": [
    "# Data Visualization"
   ]
  },
  {
   "cell_type": "code",
   "execution_count": 7,
   "id": "e203fc11",
   "metadata": {},
   "outputs": [
    {
     "data": {
      "text/plain": [
       "<AxesSubplot:>"
      ]
     },
     "execution_count": 7,
     "metadata": {},
     "output_type": "execute_result"
    },
    {
     "data": {
      "image/png": "[encoded data removed]",
      "text/plain": [
       "<Figure size 432x288 with 2 Axes>"
      ]
     },
     "metadata": {
      "needs_background": "light"
     },
     "output_type": "display_data"
    }
   ],
   "source": [
    "sns.heatmap(gt_df.corr())"
   ]
  },
  {
   "cell_type": "code",
   "execution_count": 8,
   "id": "5dd616ed",
   "metadata": {},
   "outputs": [],
   "source": [
    "# The output variable TEY is more linear to TAT and CO\n",
    "# AT is more linearly dependent on NOX and AH\n",
    "# GTEP is linearly dependent on TAT"
   ]
  },
  {
   "cell_type": "code",
   "execution_count": 9,
   "id": "c1bee8b2",
   "metadata": {},
   "outputs": [
    {
     "data": {
      "image/png": "[encoded data removed]",
      "text/plain": [
       "<Figure size 432x288 with 1 Axes>"
      ]
     },
     "metadata": {
      "needs_background": "light"
     },
     "output_type": "display_data"
    }
   ],
   "source": [
    "a=sns.boxplot(data=gt_df['AT']).set(title='Ambient temperature')\n"
   ]
  },
  {
   "cell_type": "code",
   "execution_count": 10,
   "id": "43bea50b",
   "metadata": {},
   "outputs": [],
   "source": [
    "# Ambient temperature has no outliers and its median is arround 18"
   ]
  },
  {
   "cell_type": "code",
   "execution_count": 11,
   "id": "6c8cdb91",
   "metadata": {},
   "outputs": [
    {
     "data": {
      "text/plain": [
       "[Text(0.5, 1.0, ' Ambient pressure')]"
      ]
     },
     "execution_count": 11,
     "metadata": {},
     "output_type": "execute_result"
    },
    {
     "data": {
      "image/png": "[encoded data removed]",
      "text/plain": [
       "<Figure size 432x288 with 1 Axes>"
      ]
     },
     "metadata": {
      "needs_background": "light"
     },
     "output_type": "display_data"
    }
   ],
   "source": [
    "sns.boxplot(data=gt_df['AP']).set(title=' Ambient pressure')"
   ]
  },
  {
   "cell_type": "code",
   "execution_count": 12,
   "id": "857288cd",
   "metadata": {},
   "outputs": [],
   "source": [
    "# Ambient pressure has few outliers and its median is arround 1015"
   ]
  },
  {
   "cell_type": "code",
   "execution_count": 13,
   "id": "cf9bcb62",
   "metadata": {},
   "outputs": [
    {
     "data": {
      "text/plain": [
       "[Text(0.5, 1.0, 'Ambient humidity')]"
      ]
     },
     "execution_count": 13,
     "metadata": {},
     "output_type": "execute_result"
    },
    {
     "data": {
      "image/png": "[encoded data removed]",
      "text/plain": [
       "<Figure size 432x288 with 1 Axes>"
      ]
     },
     "metadata": {
      "needs_background": "light"
     },
     "output_type": "display_data"
    }
   ],
   "source": [
    "sns.boxplot(data=gt_df['AH']).set(title='Ambient humidity')"
   ]
  },
  {
   "cell_type": "code",
   "execution_count": 14,
   "id": "2aecafff",
   "metadata": {},
   "outputs": [],
   "source": [
    "# Ambient humidity also has outliers and its median is arround 80"
   ]
  },
  {
   "cell_type": "code",
   "execution_count": 15,
   "id": "b78a5492",
   "metadata": {},
   "outputs": [
    {
     "data": {
      "text/plain": [
       "[Text(0.5, 1.0, 'Air filter difference pressure')]"
      ]
     },
     "execution_count": 15,
     "metadata": {},
     "output_type": "execute_result"
    },
    {
     "data": {
      "image/png": "[encoded data removed]",
      "text/plain": [
       "<Figure size 432x288 with 1 Axes>"
      ]
     },
     "metadata": {
      "needs_background": "light"
     },
     "output_type": "display_data"
    }
   ],
   "source": [
    "sns.boxplot(data=gt_df['AFDP']).set(title='Air filter difference pressure')"
   ]
  },
  {
   "cell_type": "code",
   "execution_count": 16,
   "id": "4dc75dc3",
   "metadata": {},
   "outputs": [],
   "source": [
    "# Air filter difference pressure also has outliers and its median is around 4"
   ]
  },
  {
   "cell_type": "code",
   "execution_count": 17,
   "id": "d1ff3b8e",
   "metadata": {},
   "outputs": [
    {
     "data": {
      "text/plain": [
       "[Text(0.5, 1.0, 'Gas turbine exhaust pressure')]"
      ]
     },
     "execution_count": 17,
     "metadata": {},
     "output_type": "execute_result"
    },
    {
     "data": {
      "image/png": "[encoded data removed]",
      "text/plain": [
       "<Figure size 432x288 with 1 Axes>"
      ]
     },
     "metadata": {
      "needs_background": "light"
     },
     "output_type": "display_data"
    }
   ],
   "source": [
    "sns.boxplot(data=gt_df['GTEP']).set(title='Gas turbine exhaust pressure')"
   ]
  },
  {
   "cell_type": "code",
   "execution_count": 18,
   "id": "68f311e2",
   "metadata": {},
   "outputs": [],
   "source": [
    "# Gas turbine exhaust pressure median is arround 25"
   ]
  },
  {
   "cell_type": "code",
   "execution_count": 19,
   "id": "9dd34034",
   "metadata": {},
   "outputs": [
    {
     "data": {
      "text/plain": [
       "[Text(0.5, 1.0, 'Turbine inlet temperature')]"
      ]
     },
     "execution_count": 19,
     "metadata": {},
     "output_type": "execute_result"
    },
    {
     "data": {
      "image/png": "[encoded data removed]",
      "text/plain": [
       "<Figure size 432x288 with 1 Axes>"
      ]
     },
     "metadata": {
      "needs_background": "light"
     },
     "output_type": "display_data"
    }
   ],
   "source": [
    "sns.boxplot(data=gt_df['TIT']).set(title='Turbine inlet temperature')"
   ]
  },
  {
   "cell_type": "code",
   "execution_count": 20,
   "id": "199e09f2",
   "metadata": {},
   "outputs": [],
   "source": [
    "# Turbine inlet temperature median is arround 1090"
   ]
  },
  {
   "cell_type": "code",
   "execution_count": 21,
   "id": "7769af5e",
   "metadata": {},
   "outputs": [
    {
     "data": {
      "text/plain": [
       "[Text(0.5, 1.0, 'Turbine after temperature')]"
      ]
     },
     "execution_count": 21,
     "metadata": {},
     "output_type": "execute_result"
    },
    {
     "data": {
      "image/png": "[encoded data removed]",
      "text/plain": [
       "<Figure size 432x288 with 1 Axes>"
      ]
     },
     "metadata": {
      "needs_background": "light"
     },
     "output_type": "display_data"
    }
   ],
   "source": [
    "sns.boxplot(data=gt_df['TAT']).set(title='Turbine after temperature')"
   ]
  },
  {
   "cell_type": "code",
   "execution_count": 22,
   "id": "b5bf1c0b",
   "metadata": {},
   "outputs": [],
   "source": [
    "# Turbine after temperature median is around 550"
   ]
  },
  {
   "cell_type": "code",
   "execution_count": 23,
   "id": "92678c51",
   "metadata": {},
   "outputs": [
    {
     "data": {
      "text/plain": [
       "[Text(0.5, 1.0, 'Turbine energy yield')]"
      ]
     },
     "execution_count": 23,
     "metadata": {},
     "output_type": "execute_result"
    },
    {
     "data": {
      "image/png": "[encoded data removed]",
      "text/plain": [
       "<Figure size 432x288 with 1 Axes>"
      ]
     },
     "metadata": {
      "needs_background": "light"
     },
     "output_type": "display_data"
    }
   ],
   "source": [
    "sns.boxplot(data=gt_df['TEY']).set(title='Turbine energy yield')"
   ]
  },
  {
   "cell_type": "code",
   "execution_count": 24,
   "id": "65a38f99",
   "metadata": {},
   "outputs": [],
   "source": [
    "# Turbine energy yield median is around 135"
   ]
  },
  {
   "cell_type": "code",
   "execution_count": 25,
   "id": "5bdb1c08",
   "metadata": {},
   "outputs": [
    {
     "data": {
      "text/plain": [
       "[Text(0.5, 1.0, 'Compressor discharge pressure')]"
      ]
     },
     "execution_count": 25,
     "metadata": {},
     "output_type": "execute_result"
    },
    {
     "data": {
      "image/png": "[encoded data removed]",
      "text/plain": [
       "<Figure size 432x288 with 1 Axes>"
      ]
     },
     "metadata": {
      "needs_background": "light"
     },
     "output_type": "display_data"
    }
   ],
   "source": [
    "sns.boxplot(data=gt_df['CDP']).set(title='Compressor discharge pressure')"
   ]
  },
  {
   "cell_type": "code",
   "execution_count": 26,
   "id": "57a0ab00",
   "metadata": {},
   "outputs": [],
   "source": [
    "# Compressor discharge pressure median is around  12"
   ]
  },
  {
   "cell_type": "code",
   "execution_count": 27,
   "id": "dd7c24f8",
   "metadata": {},
   "outputs": [
    {
     "data": {
      "text/plain": [
       "[Text(0.5, 1.0, 'Carbon monoxide')]"
      ]
     },
     "execution_count": 27,
     "metadata": {},
     "output_type": "execute_result"
    },
    {
     "data": {
      "image/png": "[encoded data removed]",
      "text/plain": [
       "<Figure size 432x288 with 1 Axes>"
      ]
     },
     "metadata": {
      "needs_background": "light"
     },
     "output_type": "display_data"
    }
   ],
   "source": [
    "sns.boxplot(data=gt_df['CO']).set(title='Carbon monoxide')"
   ]
  },
  {
   "cell_type": "code",
   "execution_count": 28,
   "id": "eb795896",
   "metadata": {},
   "outputs": [],
   "source": [
    "# Carbon monoxide median is around 3"
   ]
  },
  {
   "cell_type": "code",
   "execution_count": 29,
   "id": "d7929a24",
   "metadata": {},
   "outputs": [
    {
     "data": {
      "text/plain": [
       "[Text(0.5, 1.0, 'Nitrogen oxides')]"
      ]
     },
     "execution_count": 29,
     "metadata": {},
     "output_type": "execute_result"
    },
    {
     "data": {
      "image/png": "[encoded data removed]",
      "text/plain": [
       "<Figure size 432x288 with 1 Axes>"
      ]
     },
     "metadata": {
      "needs_background": "light"
     },
     "output_type": "display_data"
    }
   ],
   "source": [
    "sns.boxplot(data=gt_df['NOX']).set(title='Nitrogen oxides')"
   ]
  },
  {
   "cell_type": "code",
   "execution_count": 30,
   "id": "07e4b6a0",
   "metadata": {},
   "outputs": [],
   "source": [
    "# Nitrogen oxides median is around 65"
   ]
  },
  {
   "cell_type": "markdown",
   "id": "250ebdd1",
   "metadata": {},
   "source": [
    "# Seperating features and target variables"
   ]
  },
  {
   "cell_type": "code",
   "execution_count": 31,
   "id": "4170c078",
   "metadata": {},
   "outputs": [],
   "source": [
    "x=gt_df.iloc[:,[0,1,2,3,4,5,6,8,9,10]]"
   ]
  },
  {
   "cell_type": "code",
   "execution_count": 32,
   "id": "f84ff9d0",
   "metadata": {},
   "outputs": [
    {
     "data": {
      "text/html": [
       "<div>\n",
       "<style scoped>\n",
       "    .dataframe tbody tr th:only-of-type {\n",
       "        vertical-align: middle;\n",
       "    }\n",
       "\n",
       "    .dataframe tbody tr th {\n",
       "        vertical-align: top;\n",
       "    }\n",
       "\n",
       "    .dataframe thead th {\n",
       "        text-align: right;\n",
       "    }\n",
       "</style>\n",
       "<table border=\"1\" class=\"dataframe\">\n",
       "  <thead>\n",
       "    <tr style=\"text-align: right;\">\n",
       "      <th></th>\n",
       "      <th>AT</th>\n",
       "      <th>AP</th>\n",
       "      <th>AH</th>\n",
       "      <th>AFDP</th>\n",
       "      <th>GTEP</th>\n",
       "      <th>TIT</th>\n",
       "      <th>TAT</th>\n",
       "      <th>CDP</th>\n",
       "      <th>CO</th>\n",
       "      <th>NOX</th>\n",
       "    </tr>\n",
       "  </thead>\n",
       "  <tbody>\n",
       "    <tr>\n",
       "      <th>0</th>\n",
       "      <td>6.8594</td>\n",
       "      <td>1007.9</td>\n",
       "      <td>96.799</td>\n",
       "      <td>3.5000</td>\n",
       "      <td>19.663</td>\n",
       "      <td>1059.2</td>\n",
       "      <td>550.00</td>\n",
       "      <td>10.605</td>\n",
       "      <td>3.1547</td>\n",
       "      <td>82.722</td>\n",
       "    </tr>\n",
       "    <tr>\n",
       "      <th>1</th>\n",
       "      <td>6.7850</td>\n",
       "      <td>1008.4</td>\n",
       "      <td>97.118</td>\n",
       "      <td>3.4998</td>\n",
       "      <td>19.728</td>\n",
       "      <td>1059.3</td>\n",
       "      <td>550.00</td>\n",
       "      <td>10.598</td>\n",
       "      <td>3.2363</td>\n",
       "      <td>82.776</td>\n",
       "    </tr>\n",
       "    <tr>\n",
       "      <th>2</th>\n",
       "      <td>6.8977</td>\n",
       "      <td>1008.8</td>\n",
       "      <td>95.939</td>\n",
       "      <td>3.4824</td>\n",
       "      <td>19.779</td>\n",
       "      <td>1059.4</td>\n",
       "      <td>549.87</td>\n",
       "      <td>10.601</td>\n",
       "      <td>3.2012</td>\n",
       "      <td>82.468</td>\n",
       "    </tr>\n",
       "    <tr>\n",
       "      <th>3</th>\n",
       "      <td>7.0569</td>\n",
       "      <td>1009.2</td>\n",
       "      <td>95.249</td>\n",
       "      <td>3.4805</td>\n",
       "      <td>19.792</td>\n",
       "      <td>1059.6</td>\n",
       "      <td>549.99</td>\n",
       "      <td>10.606</td>\n",
       "      <td>3.1923</td>\n",
       "      <td>82.670</td>\n",
       "    </tr>\n",
       "    <tr>\n",
       "      <th>4</th>\n",
       "      <td>7.3978</td>\n",
       "      <td>1009.7</td>\n",
       "      <td>95.150</td>\n",
       "      <td>3.4976</td>\n",
       "      <td>19.765</td>\n",
       "      <td>1059.7</td>\n",
       "      <td>549.98</td>\n",
       "      <td>10.612</td>\n",
       "      <td>3.2484</td>\n",
       "      <td>82.311</td>\n",
       "    </tr>\n",
       "    <tr>\n",
       "      <th>...</th>\n",
       "      <td>...</td>\n",
       "      <td>...</td>\n",
       "      <td>...</td>\n",
       "      <td>...</td>\n",
       "      <td>...</td>\n",
       "      <td>...</td>\n",
       "      <td>...</td>\n",
       "      <td>...</td>\n",
       "      <td>...</td>\n",
       "      <td>...</td>\n",
       "    </tr>\n",
       "    <tr>\n",
       "      <th>15034</th>\n",
       "      <td>9.0301</td>\n",
       "      <td>1005.6</td>\n",
       "      <td>98.460</td>\n",
       "      <td>3.5421</td>\n",
       "      <td>19.164</td>\n",
       "      <td>1049.7</td>\n",
       "      <td>546.21</td>\n",
       "      <td>10.400</td>\n",
       "      <td>4.5186</td>\n",
       "      <td>79.559</td>\n",
       "    </tr>\n",
       "    <tr>\n",
       "      <th>15035</th>\n",
       "      <td>7.8879</td>\n",
       "      <td>1005.9</td>\n",
       "      <td>99.093</td>\n",
       "      <td>3.5059</td>\n",
       "      <td>19.414</td>\n",
       "      <td>1046.3</td>\n",
       "      <td>543.22</td>\n",
       "      <td>10.433</td>\n",
       "      <td>4.8470</td>\n",
       "      <td>79.917</td>\n",
       "    </tr>\n",
       "    <tr>\n",
       "      <th>15036</th>\n",
       "      <td>7.2647</td>\n",
       "      <td>1006.3</td>\n",
       "      <td>99.496</td>\n",
       "      <td>3.4770</td>\n",
       "      <td>19.530</td>\n",
       "      <td>1037.7</td>\n",
       "      <td>537.32</td>\n",
       "      <td>10.483</td>\n",
       "      <td>7.9632</td>\n",
       "      <td>90.912</td>\n",
       "    </tr>\n",
       "    <tr>\n",
       "      <th>15037</th>\n",
       "      <td>7.0060</td>\n",
       "      <td>1006.8</td>\n",
       "      <td>99.008</td>\n",
       "      <td>3.4486</td>\n",
       "      <td>19.377</td>\n",
       "      <td>1043.2</td>\n",
       "      <td>541.24</td>\n",
       "      <td>10.533</td>\n",
       "      <td>6.2494</td>\n",
       "      <td>93.227</td>\n",
       "    </tr>\n",
       "    <tr>\n",
       "      <th>15038</th>\n",
       "      <td>6.9279</td>\n",
       "      <td>1007.2</td>\n",
       "      <td>97.533</td>\n",
       "      <td>3.4275</td>\n",
       "      <td>19.306</td>\n",
       "      <td>1049.9</td>\n",
       "      <td>545.85</td>\n",
       "      <td>10.583</td>\n",
       "      <td>4.9816</td>\n",
       "      <td>92.498</td>\n",
       "    </tr>\n",
       "  </tbody>\n",
       "</table>\n",
       "<p>15039 rows × 10 columns</p>\n",
       "</div>"
      ],
      "text/plain": [
       "           AT      AP      AH    AFDP    GTEP     TIT     TAT     CDP      CO  \\\n",
       "0      6.8594  1007.9  96.799  3.5000  19.663  1059.2  550.00  10.605  3.1547   \n",
       "1      6.7850  1008.4  97.118  3.4998  19.728  1059.3  550.00  10.598  3.2363   \n",
       "2      6.8977  1008.8  95.939  3.4824  19.779  1059.4  549.87  10.601  3.2012   \n",
       "3      7.0569  1009.2  95.249  3.4805  19.792  1059.6  549.99  10.606  3.1923   \n",
       "4      7.3978  1009.7  95.150  3.4976  19.765  1059.7  549.98  10.612  3.2484   \n",
       "...       ...     ...     ...     ...     ...     ...     ...     ...     ...   \n",
       "15034  9.0301  1005.6  98.460  3.5421  19.164  1049.7  546.21  10.400  4.5186   \n",
       "15035  7.8879  1005.9  99.093  3.5059  19.414  1046.3  543.22  10.433  4.8470   \n",
       "15036  7.2647  1006.3  99.496  3.4770  19.530  1037.7  537.32  10.483  7.9632   \n",
       "15037  7.0060  1006.8  99.008  3.4486  19.377  1043.2  541.24  10.533  6.2494   \n",
       "15038  6.9279  1007.2  97.533  3.4275  19.306  1049.9  545.85  10.583  4.9816   \n",
       "\n",
       "          NOX  \n",
       "0      82.722  \n",
       "1      82.776  \n",
       "2      82.468  \n",
       "3      82.670  \n",
       "4      82.311  \n",
       "...       ...  \n",
       "15034  79.559  \n",
       "15035  79.917  \n",
       "15036  90.912  \n",
       "15037  93.227  \n",
       "15038  92.498  \n",
       "\n",
       "[15039 rows x 10 columns]"
      ]
     },
     "execution_count": 32,
     "metadata": {},
     "output_type": "execute_result"
    }
   ],
   "source": [
    "x"
   ]
  },
  {
   "cell_type": "code",
   "execution_count": 33,
   "id": "7f65b320",
   "metadata": {},
   "outputs": [],
   "source": [
    "y=gt_df.iloc[:,7]"
   ]
  },
  {
   "cell_type": "code",
   "execution_count": 34,
   "id": "a7adba2b",
   "metadata": {},
   "outputs": [
    {
     "data": {
      "text/plain": [
       "0        114.70\n",
       "1        114.72\n",
       "2        114.71\n",
       "3        114.72\n",
       "4        114.72\n",
       "          ...  \n",
       "15034    111.61\n",
       "15035    111.78\n",
       "15036    110.19\n",
       "15037    110.74\n",
       "15038    111.58\n",
       "Name: TEY, Length: 15039, dtype: float64"
      ]
     },
     "execution_count": 34,
     "metadata": {},
     "output_type": "execute_result"
    }
   ],
   "source": [
    "y"
   ]
  },
  {
   "cell_type": "markdown",
   "id": "32e7c6a4",
   "metadata": {},
   "source": [
    "# NN"
   ]
  },
  {
   "cell_type": "markdown",
   "id": "1ffbc0d7",
   "metadata": {},
   "source": [
    " Using relu as activation function for hidden layers as it is a regression problem and\n",
    "linear as activation function in the output layer"
   ]
  },
  {
   "cell_type": "code",
   "execution_count": 35,
   "id": "cfbe52dc",
   "metadata": {},
   "outputs": [],
   "source": [
    "# creating model\n",
    "model=tf.keras.models.Sequential()\n",
    "model.add(tf.keras.layers.Dense(10 , input_dim=10 , activation='relu'))\n",
    "model.add(tf.keras.layers.Dense(10 , activation='relu'))\n",
    "model.add(tf.keras.layers.Dense(1,activation='linear'))"
   ]
  },
  {
   "cell_type": "code",
   "execution_count": 36,
   "id": "65b69c97",
   "metadata": {},
   "outputs": [
    {
     "name": "stdout",
     "output_type": "stream",
     "text": [
      "Model: \"sequential\"\n",
      "_________________________________________________________________\n",
      " Layer (type)                Output Shape              Param #   \n",
      "=================================================================\n",
      " dense (Dense)               (None, 10)                110       \n",
      "                                                                 \n",
      " dense_1 (Dense)             (None, 10)                110       \n",
      "                                                                 \n",
      " dense_2 (Dense)             (None, 1)                 11        \n",
      "                                                                 \n",
      "=================================================================\n",
      "Total params: 231\n",
      "Trainable params: 231\n",
      "Non-trainable params: 0\n",
      "_________________________________________________________________\n"
     ]
    }
   ],
   "source": [
    "model.summary()"
   ]
  },
  {
   "cell_type": "code",
   "execution_count": 37,
   "id": "43a8f6cf",
   "metadata": {},
   "outputs": [],
   "source": [
    "model.compile(loss= tf.keras.losses.MeanSquaredError() , optimizer='adam', metrics=['MeanSquaredError'])"
   ]
  },
  {
   "cell_type": "code",
   "execution_count": 38,
   "id": "dbcb738f",
   "metadata": {},
   "outputs": [
    {
     "name": "stdout",
     "output_type": "stream",
     "text": [
      "Epoch 1/50\n",
      "121/121 [==============================] - 1s 2ms/step - loss: 11144.5850 - mean_squared_error: 11144.5850 - val_loss: 203.1356 - val_mean_squared_error: 203.1356\n",
      "Epoch 2/50\n",
      "121/121 [==============================] - 0s 1ms/step - loss: 173.0160 - mean_squared_error: 173.0160 - val_loss: 191.4399 - val_mean_squared_error: 191.4399\n",
      "Epoch 3/50\n",
      "121/121 [==============================] - 0s 1ms/step - loss: 167.3599 - mean_squared_error: 167.3599 - val_loss: 187.0988 - val_mean_squared_error: 187.0989\n",
      "Epoch 4/50\n",
      "121/121 [==============================] - 0s 988us/step - loss: 160.5707 - mean_squared_error: 160.5707 - val_loss: 170.2637 - val_mean_squared_error: 170.2637\n",
      "Epoch 5/50\n",
      "121/121 [==============================] - 0s 1ms/step - loss: 153.1600 - mean_squared_error: 153.1600 - val_loss: 161.7882 - val_mean_squared_error: 161.7882\n",
      "Epoch 6/50\n",
      "121/121 [==============================] - 0s 1ms/step - loss: 144.0512 - mean_squared_error: 144.0512 - val_loss: 161.3769 - val_mean_squared_error: 161.3769\n",
      "Epoch 7/50\n",
      "121/121 [==============================] - 0s 1ms/step - loss: 135.3088 - mean_squared_error: 135.3088 - val_loss: 140.5369 - val_mean_squared_error: 140.5369\n",
      "Epoch 8/50\n",
      "121/121 [==============================] - 0s 1ms/step - loss: 124.8088 - mean_squared_error: 124.8088 - val_loss: 134.3076 - val_mean_squared_error: 134.3076\n",
      "Epoch 9/50\n",
      "121/121 [==============================] - 0s 1ms/step - loss: 113.6512 - mean_squared_error: 113.6512 - val_loss: 129.2697 - val_mean_squared_error: 129.2697\n",
      "Epoch 10/50\n",
      "121/121 [==============================] - 0s 1ms/step - loss: 102.2087 - mean_squared_error: 102.2087 - val_loss: 110.2727 - val_mean_squared_error: 110.2727\n",
      "Epoch 11/50\n",
      "121/121 [==============================] - 0s 1ms/step - loss: 89.9368 - mean_squared_error: 89.9368 - val_loss: 92.7030 - val_mean_squared_error: 92.7030\n",
      "Epoch 12/50\n",
      "121/121 [==============================] - 0s 1ms/step - loss: 77.6766 - mean_squared_error: 77.6766 - val_loss: 81.7094 - val_mean_squared_error: 81.7094\n",
      "Epoch 13/50\n",
      "121/121 [==============================] - 0s 1ms/step - loss: 65.2289 - mean_squared_error: 65.2289 - val_loss: 72.8321 - val_mean_squared_error: 72.8321\n",
      "Epoch 14/50\n",
      "121/121 [==============================] - 0s 1ms/step - loss: 52.9054 - mean_squared_error: 52.9054 - val_loss: 61.3750 - val_mean_squared_error: 61.3750\n",
      "Epoch 15/50\n",
      "121/121 [==============================] - 0s 1ms/step - loss: 42.1133 - mean_squared_error: 42.1134 - val_loss: 51.1916 - val_mean_squared_error: 51.1916\n",
      "Epoch 16/50\n",
      "121/121 [==============================] - 0s 1ms/step - loss: 33.1472 - mean_squared_error: 33.1472 - val_loss: 35.8376 - val_mean_squared_error: 35.8376\n",
      "Epoch 17/50\n",
      "121/121 [==============================] - 0s 1ms/step - loss: 25.9954 - mean_squared_error: 25.9954 - val_loss: 35.2703 - val_mean_squared_error: 35.2703\n",
      "Epoch 18/50\n",
      "121/121 [==============================] - 0s 1ms/step - loss: 21.0969 - mean_squared_error: 21.0969 - val_loss: 28.8935 - val_mean_squared_error: 28.8935\n",
      "Epoch 19/50\n",
      "121/121 [==============================] - 0s 957us/step - loss: 17.2720 - mean_squared_error: 17.2720 - val_loss: 25.2358 - val_mean_squared_error: 25.2358\n",
      "Epoch 20/50\n",
      "121/121 [==============================] - 0s 1ms/step - loss: 15.2847 - mean_squared_error: 15.2847 - val_loss: 18.9136 - val_mean_squared_error: 18.9136\n",
      "Epoch 21/50\n",
      "121/121 [==============================] - 0s 1ms/step - loss: 13.8608 - mean_squared_error: 13.8608 - val_loss: 19.9664 - val_mean_squared_error: 19.9664\n",
      "Epoch 22/50\n",
      "121/121 [==============================] - 0s 997us/step - loss: 12.8279 - mean_squared_error: 12.8279 - val_loss: 17.9667 - val_mean_squared_error: 17.9667\n",
      "Epoch 23/50\n",
      "121/121 [==============================] - 0s 979us/step - loss: 12.3224 - mean_squared_error: 12.3224 - val_loss: 14.0181 - val_mean_squared_error: 14.0181\n",
      "Epoch 24/50\n",
      "121/121 [==============================] - 0s 980us/step - loss: 11.9650 - mean_squared_error: 11.9650 - val_loss: 15.5879 - val_mean_squared_error: 15.5879\n",
      "Epoch 25/50\n",
      "121/121 [==============================] - 0s 1ms/step - loss: 11.6852 - mean_squared_error: 11.6852 - val_loss: 13.3071 - val_mean_squared_error: 13.3071\n",
      "Epoch 26/50\n",
      "121/121 [==============================] - 0s 992us/step - loss: 10.9585 - mean_squared_error: 10.9585 - val_loss: 16.5496 - val_mean_squared_error: 16.5496\n",
      "Epoch 27/50\n",
      "121/121 [==============================] - 0s 1ms/step - loss: 11.0202 - mean_squared_error: 11.0202 - val_loss: 15.0088 - val_mean_squared_error: 15.0088\n",
      "Epoch 28/50\n",
      "121/121 [==============================] - 0s 1ms/step - loss: 10.4818 - mean_squared_error: 10.4818 - val_loss: 12.5904 - val_mean_squared_error: 12.5904\n",
      "Epoch 29/50\n",
      "121/121 [==============================] - 0s 1ms/step - loss: 10.2270 - mean_squared_error: 10.2270 - val_loss: 13.3757 - val_mean_squared_error: 13.3757\n",
      "Epoch 30/50\n",
      "121/121 [==============================] - 0s 1ms/step - loss: 9.6204 - mean_squared_error: 9.6204 - val_loss: 17.7229 - val_mean_squared_error: 17.7229\n",
      "Epoch 31/50\n",
      "121/121 [==============================] - 0s 1ms/step - loss: 9.2600 - mean_squared_error: 9.2600 - val_loss: 14.7689 - val_mean_squared_error: 14.7689\n",
      "Epoch 32/50\n",
      "121/121 [==============================] - 0s 1ms/step - loss: 9.2756 - mean_squared_error: 9.2756 - val_loss: 13.0433 - val_mean_squared_error: 13.0433\n",
      "Epoch 33/50\n",
      "121/121 [==============================] - 0s 1ms/step - loss: 8.8911 - mean_squared_error: 8.8911 - val_loss: 15.6863 - val_mean_squared_error: 15.6863\n",
      "Epoch 34/50\n",
      "121/121 [==============================] - 0s 1ms/step - loss: 8.8776 - mean_squared_error: 8.8776 - val_loss: 17.1909 - val_mean_squared_error: 17.1909\n",
      "Epoch 35/50\n",
      "121/121 [==============================] - 0s 1ms/step - loss: 8.4221 - mean_squared_error: 8.4221 - val_loss: 12.7985 - val_mean_squared_error: 12.7985\n",
      "Epoch 36/50\n",
      "121/121 [==============================] - 0s 1ms/step - loss: 7.9903 - mean_squared_error: 7.9903 - val_loss: 12.0646 - val_mean_squared_error: 12.0646\n",
      "Epoch 37/50\n",
      "121/121 [==============================] - 0s 1ms/step - loss: 7.9146 - mean_squared_error: 7.9146 - val_loss: 9.2242 - val_mean_squared_error: 9.2242\n",
      "Epoch 38/50\n",
      "121/121 [==============================] - 0s 1ms/step - loss: 8.6269 - mean_squared_error: 8.6269 - val_loss: 9.7269 - val_mean_squared_error: 9.7269\n",
      "Epoch 39/50\n",
      "121/121 [==============================] - 0s 1ms/step - loss: 7.2248 - mean_squared_error: 7.2248 - val_loss: 18.3302 - val_mean_squared_error: 18.3302\n",
      "Epoch 40/50\n",
      "121/121 [==============================] - 0s 1ms/step - loss: 7.3751 - mean_squared_error: 7.3751 - val_loss: 10.9935 - val_mean_squared_error: 10.9935\n",
      "Epoch 41/50\n",
      "121/121 [==============================] - 0s 1ms/step - loss: 6.7562 - mean_squared_error: 6.7562 - val_loss: 8.1670 - val_mean_squared_error: 8.1670\n",
      "Epoch 42/50\n",
      "121/121 [==============================] - 0s 1ms/step - loss: 6.7417 - mean_squared_error: 6.7417 - val_loss: 9.6735 - val_mean_squared_error: 9.6735\n",
      "Epoch 43/50\n",
      "121/121 [==============================] - 0s 1ms/step - loss: 6.4142 - mean_squared_error: 6.4142 - val_loss: 9.0589 - val_mean_squared_error: 9.0589\n",
      "Epoch 44/50\n",
      "121/121 [==============================] - 0s 1ms/step - loss: 6.3378 - mean_squared_error: 6.3378 - val_loss: 8.6260 - val_mean_squared_error: 8.6260\n",
      "Epoch 45/50\n",
      "121/121 [==============================] - 0s 1ms/step - loss: 6.0702 - mean_squared_error: 6.0702 - val_loss: 8.2593 - val_mean_squared_error: 8.2593\n",
      "Epoch 46/50\n",
      "121/121 [==============================] - 0s 1ms/step - loss: 5.8103 - mean_squared_error: 5.8103 - val_loss: 7.8277 - val_mean_squared_error: 7.8277\n",
      "Epoch 47/50\n",
      "121/121 [==============================] - 0s 1ms/step - loss: 6.2028 - mean_squared_error: 6.2028 - val_loss: 11.8749 - val_mean_squared_error: 11.8749\n",
      "Epoch 48/50\n",
      "121/121 [==============================] - 0s 985us/step - loss: 5.7191 - mean_squared_error: 5.7191 - val_loss: 6.2213 - val_mean_squared_error: 6.2213\n",
      "Epoch 49/50\n",
      "121/121 [==============================] - 0s 1ms/step - loss: 5.5903 - mean_squared_error: 5.5903 - val_loss: 5.8729 - val_mean_squared_error: 5.8729\n",
      "Epoch 50/50\n"
     ]
    },
    {
     "name": "stdout",
     "output_type": "stream",
     "text": [
      "121/121 [==============================] - 0s 1ms/step - loss: 5.4913 - mean_squared_error: 5.4913 - val_loss: 6.6098 - val_mean_squared_error: 6.6098\n"
     ]
    }
   ],
   "source": [
    "# fit model\n",
    "\n",
    "history=model.fit(x,y,validation_split=0.20, epochs=50, batch_size=100)"
   ]
  },
  {
   "cell_type": "code",
   "execution_count": 39,
   "id": "dc7854a8",
   "metadata": {},
   "outputs": [
    {
     "name": "stdout",
     "output_type": "stream",
     "text": [
      "470/470 [==============================] - 0s 790us/step - loss: 5.1972 - mean_squared_error: 5.1972\n"
     ]
    }
   ],
   "source": [
    "scores=model.evaluate(x,y)"
   ]
  },
  {
   "cell_type": "code",
   "execution_count": 40,
   "id": "d50be2a7",
   "metadata": {},
   "outputs": [],
   "source": [
    "# We got the MSE as 16.0789 "
   ]
  },
  {
   "cell_type": "code",
   "execution_count": 41,
   "id": "15e0f112",
   "metadata": {},
   "outputs": [
    {
     "data": {
      "image/png": "[encoded data removed]",
      "text/plain": [
       "<Figure size 432x288 with 1 Axes>"
      ]
     },
     "metadata": {
      "needs_background": "light"
     },
     "output_type": "display_data"
    },
    {
     "data": {
      "image/png": "[encoded data removed]",
      "text/plain": [
       "<Figure size 432x288 with 1 Axes>"
      ]
     },
     "metadata": {
      "needs_background": "light"
     },
     "output_type": "display_data"
    }
   ],
   "source": [
    "# summarize history for accuracy\n",
    "plt.plot(history.history['mean_squared_error'])\n",
    "plt.plot(history.history['val_mean_squared_error'])\n",
    "plt.title('model accuracy')\n",
    "plt.ylabel('MSE')\n",
    "plt.xlabel('epoch')\n",
    "plt.legend(['train', 'test'], loc='upper left')\n",
    "plt.show()\n",
    "# summarize history for loss\n",
    "plt.plot(history.history['loss'])\n",
    "plt.plot(history.history['val_loss'])\n",
    "plt.title('model loss')\n",
    "plt.ylabel('loss')\n",
    "plt.xlabel('epoch')\n",
    "plt.legend(['train', 'test'], loc='upper left')\n",
    "plt.show()"
   ]
  },
  {
   "cell_type": "code",
   "execution_count": null,
   "id": "2a85c58c",
   "metadata": {},
   "outputs": [],
   "source": []
  },
  {
   "cell_type": "code",
   "execution_count": null,
   "id": "3c2fbab4",
   "metadata": {},
   "outputs": [],
   "source": []
  },
  {
   "cell_type": "code",
   "execution_count": null,
   "id": "374c832b",
   "metadata": {},
   "outputs": [],
   "source": []
  }
 ],
 "metadata": {
  "kernelspec": {
   "display_name": "Python 3 (ipykernel)",
   "language": "python",
   "name": "python3"
  },
  "language_info": {
   "codemirror_mode": {
    "name": "ipython",
    "version": 3
   },
   "file_extension": ".py",
   "mimetype": "text/x-python",
   "name": "python",
   "nbconvert_exporter": "python",
   "pygments_lexer": "ipython3",
   "version": "3.9.7"
  }
 },
 "nbformat": 4,
 "nbformat_minor": 5
}
