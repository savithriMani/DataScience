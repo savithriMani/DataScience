{
 "cells": [
  {
   "cell_type": "markdown",
   "id": "ee71d251",
   "metadata": {},
   "source": [
    "# Question 7"
   ]
  },
  {
   "cell_type": "code",
   "execution_count": 62,
   "id": "f7856ba6",
   "metadata": {},
   "outputs": [],
   "source": [
    "import pandas as pd\n",
    "import numpy as np"
   ]
  },
  {
   "cell_type": "code",
   "execution_count": 5,
   "id": "0b67cf2e",
   "metadata": {},
   "outputs": [
    {
     "data": {
      "text/html": [
       "<div>\n",
       "<style scoped>\n",
       "    .dataframe tbody tr th:only-of-type {\n",
       "        vertical-align: middle;\n",
       "    }\n",
       "\n",
       "    .dataframe tbody tr th {\n",
       "        vertical-align: top;\n",
       "    }\n",
       "\n",
       "    .dataframe thead th {\n",
       "        text-align: right;\n",
       "    }\n",
       "</style>\n",
       "<table border=\"1\" class=\"dataframe\">\n",
       "  <thead>\n",
       "    <tr style=\"text-align: right;\">\n",
       "      <th></th>\n",
       "      <th>Unnamed: 0</th>\n",
       "      <th>Points</th>\n",
       "      <th>Score</th>\n",
       "      <th>Weigh</th>\n",
       "    </tr>\n",
       "  </thead>\n",
       "  <tbody>\n",
       "    <tr>\n",
       "      <th>0</th>\n",
       "      <td>Mazda RX4</td>\n",
       "      <td>3.90</td>\n",
       "      <td>2.620</td>\n",
       "      <td>16.46</td>\n",
       "    </tr>\n",
       "    <tr>\n",
       "      <th>1</th>\n",
       "      <td>Mazda RX4 Wag</td>\n",
       "      <td>3.90</td>\n",
       "      <td>2.875</td>\n",
       "      <td>17.02</td>\n",
       "    </tr>\n",
       "    <tr>\n",
       "      <th>2</th>\n",
       "      <td>Datsun 710</td>\n",
       "      <td>3.85</td>\n",
       "      <td>2.320</td>\n",
       "      <td>18.61</td>\n",
       "    </tr>\n",
       "    <tr>\n",
       "      <th>3</th>\n",
       "      <td>Hornet 4 Drive</td>\n",
       "      <td>3.08</td>\n",
       "      <td>3.215</td>\n",
       "      <td>19.44</td>\n",
       "    </tr>\n",
       "    <tr>\n",
       "      <th>4</th>\n",
       "      <td>Hornet Sportabout</td>\n",
       "      <td>3.15</td>\n",
       "      <td>3.440</td>\n",
       "      <td>17.02</td>\n",
       "    </tr>\n",
       "  </tbody>\n",
       "</table>\n",
       "</div>"
      ],
      "text/plain": [
       "          Unnamed: 0  Points  Score  Weigh\n",
       "0          Mazda RX4    3.90  2.620  16.46\n",
       "1      Mazda RX4 Wag    3.90  2.875  17.02\n",
       "2         Datsun 710    3.85  2.320  18.61\n",
       "3     Hornet 4 Drive    3.08  3.215  19.44\n",
       "4  Hornet Sportabout    3.15  3.440  17.02"
      ]
     },
     "execution_count": 5,
     "metadata": {},
     "output_type": "execute_result"
    }
   ],
   "source": [
    "df=pd.read_csv(\"C:\\\\Users\\\\Mani\\\\Desktop\\\\Excelr\\\\Assignments\\\\Basic_Stats_1\\\\Q7.csv\")\n",
    "df.head()"
   ]
  },
  {
   "cell_type": "code",
   "execution_count": 13,
   "id": "536fc9b6",
   "metadata": {},
   "outputs": [
    {
     "data": {
      "text/plain": [
       "count    32.000000\n",
       "mean      3.596563\n",
       "std       0.534679\n",
       "min       2.760000\n",
       "25%       3.080000\n",
       "50%       3.695000\n",
       "75%       3.920000\n",
       "max       4.930000\n",
       "Name: Points, dtype: float64"
      ]
     },
     "execution_count": 13,
     "metadata": {},
     "output_type": "execute_result"
    }
   ],
   "source": [
    "df.Points.describe()"
   ]
  },
  {
   "cell_type": "code",
   "execution_count": 16,
   "id": "45baa3d9",
   "metadata": {},
   "outputs": [
    {
     "data": {
      "text/plain": [
       "0.28588135080645166"
      ]
     },
     "execution_count": 16,
     "metadata": {},
     "output_type": "execute_result"
    }
   ],
   "source": [
    "df.Points.var()"
   ]
  },
  {
   "cell_type": "code",
   "execution_count": 21,
   "id": "ab4cbad2",
   "metadata": {},
   "outputs": [],
   "source": [
    "\n",
    "#  FOR POINTS:\n",
    "    \n",
    " #   Mean is 3.59 and Median is 3.69  and standard deviation is 0.53 \n",
    "    \n"
   ]
  },
  {
   "cell_type": "code",
   "execution_count": 22,
   "id": "0d10ad71",
   "metadata": {},
   "outputs": [
    {
     "data": {
      "text/plain": [
       "count    32.000000\n",
       "mean      3.217250\n",
       "std       0.978457\n",
       "min       1.513000\n",
       "25%       2.581250\n",
       "50%       3.325000\n",
       "75%       3.610000\n",
       "max       5.424000\n",
       "Name: Score, dtype: float64"
      ]
     },
     "execution_count": 22,
     "metadata": {},
     "output_type": "execute_result"
    }
   ],
   "source": [
    "df.Score.describe()"
   ]
  },
  {
   "cell_type": "code",
   "execution_count": 23,
   "id": "eb44b1d1",
   "metadata": {},
   "outputs": [
    {
     "data": {
      "text/plain": [
       "0.9573789677419356"
      ]
     },
     "execution_count": 23,
     "metadata": {},
     "output_type": "execute_result"
    }
   ],
   "source": [
    "df.Score.var()"
   ]
  },
  {
   "cell_type": "code",
   "execution_count": 24,
   "id": "89516caa",
   "metadata": {},
   "outputs": [],
   "source": [
    "\n",
    "\n",
    " #For Score:\n",
    "        \n",
    "  #      Mean is 3.21 and Median is 3.32 and Standard deviation is 0.97\n",
    "     \n",
    "   \n",
    "        "
   ]
  },
  {
   "cell_type": "code",
   "execution_count": 25,
   "id": "a162134f",
   "metadata": {},
   "outputs": [
    {
     "data": {
      "text/plain": [
       "count    32.000000\n",
       "mean     17.848750\n",
       "std       1.786943\n",
       "min      14.500000\n",
       "25%      16.892500\n",
       "50%      17.710000\n",
       "75%      18.900000\n",
       "max      22.900000\n",
       "Name: Weigh, dtype: float64"
      ]
     },
     "execution_count": 25,
     "metadata": {},
     "output_type": "execute_result"
    }
   ],
   "source": [
    "df.Weigh.describe()"
   ]
  },
  {
   "cell_type": "code",
   "execution_count": 26,
   "id": "bc941f11",
   "metadata": {},
   "outputs": [
    {
     "data": {
      "text/plain": [
       "3.193166129032258"
      ]
     },
     "execution_count": 26,
     "metadata": {},
     "output_type": "execute_result"
    }
   ],
   "source": [
    "df.Weigh.var()"
   ]
  },
  {
   "cell_type": "code",
   "execution_count": 27,
   "id": "f8aede42",
   "metadata": {
    "scrolled": true
   },
   "outputs": [],
   "source": [
    "\n",
    "# For Weigh :\n",
    "    \n",
    " #   Mean is 17.84 and Median is 17.71 and Standard deviation is 1.786\n",
    "   \n"
   ]
  },
  {
   "cell_type": "markdown",
   "id": "2acffdc3",
   "metadata": {},
   "source": [
    "# Question 8"
   ]
  },
  {
   "cell_type": "code",
   "execution_count": 37,
   "id": "f5b55992",
   "metadata": {},
   "outputs": [
    {
     "data": {
      "text/html": [
       "<div>\n",
       "<style scoped>\n",
       "    .dataframe tbody tr th:only-of-type {\n",
       "        vertical-align: middle;\n",
       "    }\n",
       "\n",
       "    .dataframe tbody tr th {\n",
       "        vertical-align: top;\n",
       "    }\n",
       "\n",
       "    .dataframe thead th {\n",
       "        text-align: right;\n",
       "    }\n",
       "</style>\n",
       "<table border=\"1\" class=\"dataframe\">\n",
       "  <thead>\n",
       "    <tr style=\"text-align: right;\">\n",
       "      <th></th>\n",
       "      <th>Weights</th>\n",
       "    </tr>\n",
       "  </thead>\n",
       "  <tbody>\n",
       "    <tr>\n",
       "      <th>0</th>\n",
       "      <td>108</td>\n",
       "    </tr>\n",
       "    <tr>\n",
       "      <th>1</th>\n",
       "      <td>110</td>\n",
       "    </tr>\n",
       "    <tr>\n",
       "      <th>2</th>\n",
       "      <td>123</td>\n",
       "    </tr>\n",
       "    <tr>\n",
       "      <th>3</th>\n",
       "      <td>134</td>\n",
       "    </tr>\n",
       "    <tr>\n",
       "      <th>4</th>\n",
       "      <td>135</td>\n",
       "    </tr>\n",
       "  </tbody>\n",
       "</table>\n",
       "</div>"
      ],
      "text/plain": [
       "   Weights\n",
       "0      108\n",
       "1      110\n",
       "2      123\n",
       "3      134\n",
       "4      135"
      ]
     },
     "execution_count": 37,
     "metadata": {},
     "output_type": "execute_result"
    }
   ],
   "source": [
    "weights=pd.read_csv(\"C:\\\\Users\\\\Mani\\\\Desktop\\\\Excelr\\\\Assignments\\\\Basic_Stats_1\\\\Q8_weights.csv\")\n",
    "weights.head()"
   ]
  },
  {
   "cell_type": "code",
   "execution_count": 39,
   "id": "f08098c1",
   "metadata": {},
   "outputs": [
    {
     "data": {
      "text/plain": [
       "Weights    145.333333\n",
       "dtype: float64"
      ]
     },
     "execution_count": 39,
     "metadata": {},
     "output_type": "execute_result"
    }
   ],
   "source": [
    "weights.mean()"
   ]
  },
  {
   "cell_type": "markdown",
   "id": "fe626809",
   "metadata": {},
   "source": [
    "# Question 9"
   ]
  },
  {
   "cell_type": "code",
   "execution_count": 40,
   "id": "319b8d82",
   "metadata": {},
   "outputs": [
    {
     "data": {
      "text/html": [
       "<div>\n",
       "<style scoped>\n",
       "    .dataframe tbody tr th:only-of-type {\n",
       "        vertical-align: middle;\n",
       "    }\n",
       "\n",
       "    .dataframe tbody tr th {\n",
       "        vertical-align: top;\n",
       "    }\n",
       "\n",
       "    .dataframe thead th {\n",
       "        text-align: right;\n",
       "    }\n",
       "</style>\n",
       "<table border=\"1\" class=\"dataframe\">\n",
       "  <thead>\n",
       "    <tr style=\"text-align: right;\">\n",
       "      <th></th>\n",
       "      <th>Index</th>\n",
       "      <th>speed</th>\n",
       "      <th>dist</th>\n",
       "    </tr>\n",
       "  </thead>\n",
       "  <tbody>\n",
       "    <tr>\n",
       "      <th>0</th>\n",
       "      <td>1</td>\n",
       "      <td>4</td>\n",
       "      <td>2</td>\n",
       "    </tr>\n",
       "    <tr>\n",
       "      <th>1</th>\n",
       "      <td>2</td>\n",
       "      <td>4</td>\n",
       "      <td>10</td>\n",
       "    </tr>\n",
       "    <tr>\n",
       "      <th>2</th>\n",
       "      <td>3</td>\n",
       "      <td>7</td>\n",
       "      <td>4</td>\n",
       "    </tr>\n",
       "    <tr>\n",
       "      <th>3</th>\n",
       "      <td>4</td>\n",
       "      <td>7</td>\n",
       "      <td>22</td>\n",
       "    </tr>\n",
       "    <tr>\n",
       "      <th>4</th>\n",
       "      <td>5</td>\n",
       "      <td>8</td>\n",
       "      <td>16</td>\n",
       "    </tr>\n",
       "  </tbody>\n",
       "</table>\n",
       "</div>"
      ],
      "text/plain": [
       "   Index  speed  dist\n",
       "0      1      4     2\n",
       "1      2      4    10\n",
       "2      3      7     4\n",
       "3      4      7    22\n",
       "4      5      8    16"
      ]
     },
     "execution_count": 40,
     "metadata": {},
     "output_type": "execute_result"
    }
   ],
   "source": [
    "cars=pd.read_csv(\"C:\\\\Users\\\\Mani\\\\Desktop\\\\Excelr\\\\Assignments\\\\Basic_Stats_1\\\\Q9_a.csv\")\n",
    "cars.head()"
   ]
  },
  {
   "cell_type": "code",
   "execution_count": 51,
   "id": "58797639",
   "metadata": {},
   "outputs": [],
   "source": [
    "import matplotlib.pyplot as plt"
   ]
  },
  {
   "cell_type": "code",
   "execution_count": 52,
   "id": "fd58c72c",
   "metadata": {},
   "outputs": [
    {
     "data": {
      "text/plain": [
       "<matplotlib.legend.Legend at 0x25195101340>"
      ]
     },
     "execution_count": 52,
     "metadata": {},
     "output_type": "execute_result"
    },
    {
     "data": {
      "image/png": "[encoded data removed]",
      "text/plain": [
       "<Figure size 432x288 with 1 Axes>"
      ]
     },
     "metadata": {
      "needs_background": "light"
     },
     "output_type": "display_data"
    }
   ],
   "source": [
    "\n",
    "cars.speed.plot(kind=\"kde\")\n",
    "cars.dist.plot(kind=\"kde\")\n",
    "plt.legend()"
   ]
  },
  {
   "cell_type": "code",
   "execution_count": 41,
   "id": "2e3fabbf",
   "metadata": {},
   "outputs": [
    {
     "data": {
      "text/plain": [
       "Index    0.000000\n",
       "speed   -0.117510\n",
       "dist     0.806895\n",
       "dtype: float64"
      ]
     },
     "execution_count": 41,
     "metadata": {},
     "output_type": "execute_result"
    }
   ],
   "source": [
    "cars.skew()"
   ]
  },
  {
   "cell_type": "code",
   "execution_count": 43,
   "id": "05edd677",
   "metadata": {},
   "outputs": [],
   "source": [
    "# For Speed it has negative skewness which means, the distribution is concentrated to the right \n",
    "# and for distance it has positive skewness so it has the distribution to the left"
   ]
  },
  {
   "cell_type": "code",
   "execution_count": 42,
   "id": "0959eeb3",
   "metadata": {},
   "outputs": [
    {
     "data": {
      "text/plain": [
       "Index   -1.200000\n",
       "speed   -0.508994\n",
       "dist     0.405053\n",
       "dtype: float64"
      ]
     },
     "execution_count": 42,
     "metadata": {},
     "output_type": "execute_result"
    }
   ],
   "source": [
    "cars.kurtosis()"
   ]
  },
  {
   "cell_type": "code",
   "execution_count": 53,
   "id": "ed98e76a",
   "metadata": {},
   "outputs": [],
   "source": [
    "# For Speed it has negative kurtosis which means, it has got sharper peak \n",
    "# For dist it has got positive kurtosis which means, it has got wider peak"
   ]
  },
  {
   "cell_type": "code",
   "execution_count": 54,
   "id": "ef77150f",
   "metadata": {},
   "outputs": [
    {
     "data": {
      "text/html": [
       "<div>\n",
       "<style scoped>\n",
       "    .dataframe tbody tr th:only-of-type {\n",
       "        vertical-align: middle;\n",
       "    }\n",
       "\n",
       "    .dataframe tbody tr th {\n",
       "        vertical-align: top;\n",
       "    }\n",
       "\n",
       "    .dataframe thead th {\n",
       "        text-align: right;\n",
       "    }\n",
       "</style>\n",
       "<table border=\"1\" class=\"dataframe\">\n",
       "  <thead>\n",
       "    <tr style=\"text-align: right;\">\n",
       "      <th></th>\n",
       "      <th>Unnamed: 0</th>\n",
       "      <th>SP</th>\n",
       "      <th>WT</th>\n",
       "    </tr>\n",
       "  </thead>\n",
       "  <tbody>\n",
       "    <tr>\n",
       "      <th>0</th>\n",
       "      <td>1</td>\n",
       "      <td>104.185353</td>\n",
       "      <td>28.762059</td>\n",
       "    </tr>\n",
       "    <tr>\n",
       "      <th>1</th>\n",
       "      <td>2</td>\n",
       "      <td>105.461264</td>\n",
       "      <td>30.466833</td>\n",
       "    </tr>\n",
       "    <tr>\n",
       "      <th>2</th>\n",
       "      <td>3</td>\n",
       "      <td>105.461264</td>\n",
       "      <td>30.193597</td>\n",
       "    </tr>\n",
       "    <tr>\n",
       "      <th>3</th>\n",
       "      <td>4</td>\n",
       "      <td>113.461264</td>\n",
       "      <td>30.632114</td>\n",
       "    </tr>\n",
       "    <tr>\n",
       "      <th>4</th>\n",
       "      <td>5</td>\n",
       "      <td>104.461264</td>\n",
       "      <td>29.889149</td>\n",
       "    </tr>\n",
       "  </tbody>\n",
       "</table>\n",
       "</div>"
      ],
      "text/plain": [
       "   Unnamed: 0          SP         WT\n",
       "0           1  104.185353  28.762059\n",
       "1           2  105.461264  30.466833\n",
       "2           3  105.461264  30.193597\n",
       "3           4  113.461264  30.632114\n",
       "4           5  104.461264  29.889149"
      ]
     },
     "execution_count": 54,
     "metadata": {},
     "output_type": "execute_result"
    }
   ],
   "source": [
    "cars2=pd.read_csv(\"C:\\\\Users\\\\Mani\\\\Desktop\\\\Excelr\\\\Assignments\\\\Basic_Stats_1\\\\Q9_b.csv\")\n",
    "cars2.head()"
   ]
  },
  {
   "cell_type": "code",
   "execution_count": 56,
   "id": "2c78c26f",
   "metadata": {},
   "outputs": [
    {
     "data": {
      "text/plain": [
       "<matplotlib.legend.Legend at 0x25195791070>"
      ]
     },
     "execution_count": 56,
     "metadata": {},
     "output_type": "execute_result"
    },
    {
     "data": {
      "image/png": "[encoded data removed]",
      "text/plain": [
       "<Figure size 432x288 with 1 Axes>"
      ]
     },
     "metadata": {
      "needs_background": "light"
     },
     "output_type": "display_data"
    }
   ],
   "source": [
    "cars2.SP.plot(kind=\"kde\")\n",
    "cars2.WT.plot(kind=\"kde\")\n",
    "plt.legend()"
   ]
  },
  {
   "cell_type": "code",
   "execution_count": 58,
   "id": "3f50f567",
   "metadata": {},
   "outputs": [
    {
     "data": {
      "text/plain": [
       "Unnamed: 0    0.000000\n",
       "SP            1.611450\n",
       "WT           -0.614753\n",
       "dtype: float64"
      ]
     },
     "execution_count": 58,
     "metadata": {},
     "output_type": "execute_result"
    }
   ],
   "source": [
    "cars2.skew()"
   ]
  },
  {
   "cell_type": "code",
   "execution_count": null,
   "id": "7559057d",
   "metadata": {},
   "outputs": [],
   "source": [
    "# For SP we have positive skewness which means we have the distribution to left\n",
    "# For WT we have negative skewness which means we have the distribution to the right"
   ]
  },
  {
   "cell_type": "code",
   "execution_count": 59,
   "id": "ae932f7a",
   "metadata": {},
   "outputs": [
    {
     "data": {
      "text/plain": [
       "Unnamed: 0   -1.200000\n",
       "SP            2.977329\n",
       "WT            0.950291\n",
       "dtype: float64"
      ]
     },
     "execution_count": 59,
     "metadata": {},
     "output_type": "execute_result"
    }
   ],
   "source": [
    "cars2.kurtosis()"
   ]
  },
  {
   "cell_type": "code",
   "execution_count": 60,
   "id": "85c79232",
   "metadata": {},
   "outputs": [],
   "source": [
    "# Kurtosis for SP and WT is positive which means both have sharper peaks"
   ]
  },
  {
   "cell_type": "markdown",
   "id": "a2f3f1a2",
   "metadata": {},
   "source": [
    "# Question 11"
   ]
  },
  {
   "cell_type": "code",
   "execution_count": 63,
   "id": "8e4bd0f3",
   "metadata": {},
   "outputs": [
    {
     "name": "stdout",
     "output_type": "stream",
     "text": [
      "Weights at 94% confidence interval is  (195.9873629103525, 204.0126370896475)\n"
     ]
    }
   ],
   "source": [
    "ci_1=stats.t.interval(0.94,200-1,loc=200,scale=30/np.sqrt(200))\n",
    "print(\"Weights at 94% confidence interval is \",ci_1)"
   ]
  },
  {
   "cell_type": "code",
   "execution_count": 68,
   "id": "bed0b180",
   "metadata": {},
   "outputs": [
    {
     "name": "stdout",
     "output_type": "stream",
     "text": [
      "Weights at 96% confidence interval is  (195.61459857203138, 204.38540142796862)\n"
     ]
    }
   ],
   "source": [
    "ci_2=stats.t.interval(0.96,200-1,loc=200,scale=30/np.sqrt(200))\n",
    "print(\"Weights at 96% confidence interval is \",ci_2)"
   ]
  },
  {
   "cell_type": "code",
   "execution_count": 70,
   "id": "2f3ed2e7",
   "metadata": {},
   "outputs": [
    {
     "name": "stdout",
     "output_type": "stream",
     "text": [
      "Weights at 98% confidence interval is  (195.0250111577738, 204.9749888422262)\n"
     ]
    }
   ],
   "source": [
    "ci_3=stats.t.interval(0.98,200-1,loc=200,scale=30/np.sqrt(200))\n",
    "print(\"Weights at 98% confidence interval is \",ci_3)"
   ]
  },
  {
   "cell_type": "markdown",
   "id": "8421a7b1",
   "metadata": {},
   "source": [
    "# Question 12"
   ]
  },
  {
   "cell_type": "code",
   "execution_count": 71,
   "id": "0c183855",
   "metadata": {},
   "outputs": [],
   "source": [
    "marks=[34,36,36,38,38,39,39,40,40,41,41,41,41,42,42,45,49,56]"
   ]
  },
  {
   "cell_type": "code",
   "execution_count": 75,
   "id": "40503651",
   "metadata": {},
   "outputs": [],
   "source": [
    "import statistics"
   ]
  },
  {
   "cell_type": "code",
   "execution_count": 80,
   "id": "70a5521d",
   "metadata": {},
   "outputs": [
    {
     "name": "stdout",
     "output_type": "stream",
     "text": [
      "Standard deviation : 5.05266382858645\n"
     ]
    }
   ],
   "source": [
    "marks_std=statistics.stdev(marks)\n",
    "print(\"Standard deviation :\",marks_std)"
   ]
  },
  {
   "cell_type": "code",
   "execution_count": 81,
   "id": "736aaabb",
   "metadata": {},
   "outputs": [
    {
     "name": "stdout",
     "output_type": "stream",
     "text": [
      "Mean : 41\n"
     ]
    }
   ],
   "source": [
    "marks_mean=statistics.mean(marks)\n",
    "print(\"Mean :\",marks_mean)"
   ]
  },
  {
   "cell_type": "code",
   "execution_count": 84,
   "id": "a760075a",
   "metadata": {},
   "outputs": [
    {
     "name": "stdout",
     "output_type": "stream",
     "text": [
      "variance : 25.529411764705884\n"
     ]
    }
   ],
   "source": [
    "marks_variance=statistics.variance(marks)\n",
    "print(\"variance :\",marks_variance)"
   ]
  },
  {
   "cell_type": "code",
   "execution_count": 83,
   "id": "147f6936",
   "metadata": {},
   "outputs": [
    {
     "name": "stdout",
     "output_type": "stream",
     "text": [
      "Median : 40.5\n"
     ]
    }
   ],
   "source": [
    "marks_median=statistics.median(marks)\n",
    "print(\"Median :\",marks_median)"
   ]
  },
  {
   "cell_type": "code",
   "execution_count": 85,
   "id": "b19f3f78",
   "metadata": {},
   "outputs": [],
   "source": [
    "# Average of all marks is 41 and the middle value is 40.5. There is lot of deviation in the marks of 5.05\n",
    "# So, the marks can be low and high in the class"
   ]
  },
  {
   "cell_type": "markdown",
   "id": "7714e7b0",
   "metadata": {},
   "source": [
    "# Question 20"
   ]
  },
  {
   "cell_type": "code",
   "execution_count": 87,
   "id": "ff109fc6",
   "metadata": {},
   "outputs": [
    {
     "data": {
      "text/html": [
       "<div>\n",
       "<style scoped>\n",
       "    .dataframe tbody tr th:only-of-type {\n",
       "        vertical-align: middle;\n",
       "    }\n",
       "\n",
       "    .dataframe tbody tr th {\n",
       "        vertical-align: top;\n",
       "    }\n",
       "\n",
       "    .dataframe thead th {\n",
       "        text-align: right;\n",
       "    }\n",
       "</style>\n",
       "<table border=\"1\" class=\"dataframe\">\n",
       "  <thead>\n",
       "    <tr style=\"text-align: right;\">\n",
       "      <th></th>\n",
       "      <th>HP</th>\n",
       "      <th>MPG</th>\n",
       "      <th>VOL</th>\n",
       "      <th>SP</th>\n",
       "      <th>WT</th>\n",
       "    </tr>\n",
       "  </thead>\n",
       "  <tbody>\n",
       "    <tr>\n",
       "      <th>0</th>\n",
       "      <td>49</td>\n",
       "      <td>53.700681</td>\n",
       "      <td>89</td>\n",
       "      <td>104.185353</td>\n",
       "      <td>28.762059</td>\n",
       "    </tr>\n",
       "    <tr>\n",
       "      <th>1</th>\n",
       "      <td>55</td>\n",
       "      <td>50.013401</td>\n",
       "      <td>92</td>\n",
       "      <td>105.461264</td>\n",
       "      <td>30.466833</td>\n",
       "    </tr>\n",
       "    <tr>\n",
       "      <th>2</th>\n",
       "      <td>55</td>\n",
       "      <td>50.013401</td>\n",
       "      <td>92</td>\n",
       "      <td>105.461264</td>\n",
       "      <td>30.193597</td>\n",
       "    </tr>\n",
       "    <tr>\n",
       "      <th>3</th>\n",
       "      <td>70</td>\n",
       "      <td>45.696322</td>\n",
       "      <td>92</td>\n",
       "      <td>113.461264</td>\n",
       "      <td>30.632114</td>\n",
       "    </tr>\n",
       "    <tr>\n",
       "      <th>4</th>\n",
       "      <td>53</td>\n",
       "      <td>50.504232</td>\n",
       "      <td>92</td>\n",
       "      <td>104.461264</td>\n",
       "      <td>29.889149</td>\n",
       "    </tr>\n",
       "  </tbody>\n",
       "</table>\n",
       "</div>"
      ],
      "text/plain": [
       "   HP        MPG  VOL          SP         WT\n",
       "0  49  53.700681   89  104.185353  28.762059\n",
       "1  55  50.013401   92  105.461264  30.466833\n",
       "2  55  50.013401   92  105.461264  30.193597\n",
       "3  70  45.696322   92  113.461264  30.632114\n",
       "4  53  50.504232   92  104.461264  29.889149"
      ]
     },
     "execution_count": 87,
     "metadata": {},
     "output_type": "execute_result"
    }
   ],
   "source": [
    "cars_data=pd.read_csv(\"C:\\\\Users\\\\Mani\\\\Desktop\\\\Excelr\\\\Assignments\\\\Basic_Stats_1\\\\Cars.csv\")\n",
    "cars_data.head()"
   ]
  },
  {
   "cell_type": "code",
   "execution_count": 94,
   "id": "45b0f775",
   "metadata": {},
   "outputs": [],
   "source": [
    "from scipy import stats"
   ]
  },
  {
   "cell_type": "code",
   "execution_count": 95,
   "id": "4abda62c",
   "metadata": {},
   "outputs": [
    {
     "data": {
      "text/plain": [
       "34.422075728024666"
      ]
     },
     "execution_count": 95,
     "metadata": {},
     "output_type": "execute_result"
    }
   ],
   "source": [
    "mean=cars_data.MPG.mean()\n",
    "mean"
   ]
  },
  {
   "cell_type": "code",
   "execution_count": 96,
   "id": "59ade995",
   "metadata": {},
   "outputs": [
    {
     "data": {
      "text/plain": [
       "9.131444731795982"
      ]
     },
     "execution_count": 96,
     "metadata": {},
     "output_type": "execute_result"
    }
   ],
   "source": [
    "std=cars_data.MPG.std()\n",
    "std"
   ]
  },
  {
   "cell_type": "code",
   "execution_count": 99,
   "id": "27a55a91",
   "metadata": {},
   "outputs": [
    {
     "data": {
      "text/plain": [
       "0.9595393627181554"
      ]
     },
     "execution_count": 99,
     "metadata": {},
     "output_type": "execute_result"
    }
   ],
   "source": [
    "mpg_38=stats.norm.pdf(38,loc=mean,scale=std)\n",
    "1-mpg_38\n"
   ]
  },
  {
   "cell_type": "code",
   "execution_count": 102,
   "id": "9656cc11",
   "metadata": {},
   "outputs": [
    {
     "data": {
      "text/plain": [
       "0.036253111646888776"
      ]
     },
     "execution_count": 102,
     "metadata": {},
     "output_type": "execute_result"
    }
   ],
   "source": [
    "mpg_40=stats.norm.pdf(40,loc=mean,scale=std)\n",
    "mpg_40"
   ]
  },
  {
   "cell_type": "code",
   "execution_count": 108,
   "id": "e6afd7af",
   "metadata": {},
   "outputs": [
    {
     "name": "stdout",
     "output_type": "stream",
     "text": [
      "mpg at 20: 0.012551783874048922\n",
      "mpg at 50: 0.010195380136820248\n"
     ]
    },
    {
     "data": {
      "text/plain": [
       "-0.002356403737228674"
      ]
     },
     "execution_count": 108,
     "metadata": {},
     "output_type": "execute_result"
    }
   ],
   "source": [
    "mpg_50=stats.norm.pdf(50,loc=mean,scale=std)\n",
    "mpg_20=stats.norm.pdf(20,loc=mean,scale=std)\n",
    "print(\"mpg at 20:\",mpg_20)\n",
    "print(\"mpg at 50:\",mpg_50)\n",
    "mpg_50-mpg_20"
   ]
  },
  {
   "cell_type": "code",
   "execution_count": 105,
   "id": "449c338a",
   "metadata": {},
   "outputs": [
    {
     "data": {
      "text/plain": [
       "<AxesSubplot:ylabel='Density'>"
      ]
     },
     "execution_count": 105,
     "metadata": {},
     "output_type": "execute_result"
    },
    {
     "data": {
      "image/png": "[encoded data removed]",
      "text/plain": [
       "<Figure size 432x288 with 1 Axes>"
      ]
     },
     "metadata": {
      "needs_background": "light"
     },
     "output_type": "display_data"
    }
   ],
   "source": [
    "cars_data.MPG.plot(kind=\"kde\")"
   ]
  },
  {
   "cell_type": "code",
   "execution_count": 109,
   "id": "036715cf",
   "metadata": {},
   "outputs": [
    {
     "data": {
      "text/plain": [
       "-0.17794674747025727"
      ]
     },
     "execution_count": 109,
     "metadata": {},
     "output_type": "execute_result"
    }
   ],
   "source": [
    "cars_data.MPG.skew()"
   ]
  },
  {
   "cell_type": "code",
   "execution_count": 110,
   "id": "70a32325",
   "metadata": {},
   "outputs": [
    {
     "data": {
      "text/plain": [
       "-0.6116786559430913"
      ]
     },
     "execution_count": 110,
     "metadata": {},
     "output_type": "execute_result"
    }
   ],
   "source": [
    "cars_data.MPG.kurtosis()"
   ]
  },
  {
   "cell_type": "markdown",
   "id": "44204cf3",
   "metadata": {},
   "source": [
    "# Question 21 - b"
   ]
  },
  {
   "cell_type": "code",
   "execution_count": 111,
   "id": "0b7e9158",
   "metadata": {},
   "outputs": [
    {
     "data": {
      "text/html": [
       "<div>\n",
       "<style scoped>\n",
       "    .dataframe tbody tr th:only-of-type {\n",
       "        vertical-align: middle;\n",
       "    }\n",
       "\n",
       "    .dataframe tbody tr th {\n",
       "        vertical-align: top;\n",
       "    }\n",
       "\n",
       "    .dataframe thead th {\n",
       "        text-align: right;\n",
       "    }\n",
       "</style>\n",
       "<table border=\"1\" class=\"dataframe\">\n",
       "  <thead>\n",
       "    <tr style=\"text-align: right;\">\n",
       "      <th></th>\n",
       "      <th>Waist</th>\n",
       "      <th>AT</th>\n",
       "    </tr>\n",
       "  </thead>\n",
       "  <tbody>\n",
       "    <tr>\n",
       "      <th>0</th>\n",
       "      <td>74.75</td>\n",
       "      <td>25.72</td>\n",
       "    </tr>\n",
       "    <tr>\n",
       "      <th>1</th>\n",
       "      <td>72.60</td>\n",
       "      <td>25.89</td>\n",
       "    </tr>\n",
       "    <tr>\n",
       "      <th>2</th>\n",
       "      <td>81.80</td>\n",
       "      <td>42.60</td>\n",
       "    </tr>\n",
       "    <tr>\n",
       "      <th>3</th>\n",
       "      <td>83.95</td>\n",
       "      <td>42.80</td>\n",
       "    </tr>\n",
       "    <tr>\n",
       "      <th>4</th>\n",
       "      <td>74.65</td>\n",
       "      <td>29.84</td>\n",
       "    </tr>\n",
       "  </tbody>\n",
       "</table>\n",
       "</div>"
      ],
      "text/plain": [
       "   Waist     AT\n",
       "0  74.75  25.72\n",
       "1  72.60  25.89\n",
       "2  81.80  42.60\n",
       "3  83.95  42.80\n",
       "4  74.65  29.84"
      ]
     },
     "execution_count": 111,
     "metadata": {},
     "output_type": "execute_result"
    }
   ],
   "source": [
    "wc_data=pd.read_csv(\"C:\\\\Users\\\\Mani\\\\Desktop\\\\Excelr\\\\Assignments\\\\Basic_Stats_1\\\\wc-at.csv\")\n",
    "wc_data.head()"
   ]
  },
  {
   "cell_type": "code",
   "execution_count": 112,
   "id": "fc0c3d12",
   "metadata": {},
   "outputs": [
    {
     "data": {
      "text/html": [
       "<div>\n",
       "<style scoped>\n",
       "    .dataframe tbody tr th:only-of-type {\n",
       "        vertical-align: middle;\n",
       "    }\n",
       "\n",
       "    .dataframe tbody tr th {\n",
       "        vertical-align: top;\n",
       "    }\n",
       "\n",
       "    .dataframe thead th {\n",
       "        text-align: right;\n",
       "    }\n",
       "</style>\n",
       "<table border=\"1\" class=\"dataframe\">\n",
       "  <thead>\n",
       "    <tr style=\"text-align: right;\">\n",
       "      <th></th>\n",
       "      <th>Waist</th>\n",
       "      <th>AT</th>\n",
       "    </tr>\n",
       "  </thead>\n",
       "  <tbody>\n",
       "    <tr>\n",
       "      <th>count</th>\n",
       "      <td>109.000000</td>\n",
       "      <td>109.000000</td>\n",
       "    </tr>\n",
       "    <tr>\n",
       "      <th>mean</th>\n",
       "      <td>91.901835</td>\n",
       "      <td>101.894037</td>\n",
       "    </tr>\n",
       "    <tr>\n",
       "      <th>std</th>\n",
       "      <td>13.559116</td>\n",
       "      <td>57.294763</td>\n",
       "    </tr>\n",
       "    <tr>\n",
       "      <th>min</th>\n",
       "      <td>63.500000</td>\n",
       "      <td>11.440000</td>\n",
       "    </tr>\n",
       "    <tr>\n",
       "      <th>25%</th>\n",
       "      <td>80.000000</td>\n",
       "      <td>50.880000</td>\n",
       "    </tr>\n",
       "    <tr>\n",
       "      <th>50%</th>\n",
       "      <td>90.800000</td>\n",
       "      <td>96.540000</td>\n",
       "    </tr>\n",
       "    <tr>\n",
       "      <th>75%</th>\n",
       "      <td>104.000000</td>\n",
       "      <td>137.000000</td>\n",
       "    </tr>\n",
       "    <tr>\n",
       "      <th>max</th>\n",
       "      <td>121.000000</td>\n",
       "      <td>253.000000</td>\n",
       "    </tr>\n",
       "  </tbody>\n",
       "</table>\n",
       "</div>"
      ],
      "text/plain": [
       "            Waist          AT\n",
       "count  109.000000  109.000000\n",
       "mean    91.901835  101.894037\n",
       "std     13.559116   57.294763\n",
       "min     63.500000   11.440000\n",
       "25%     80.000000   50.880000\n",
       "50%     90.800000   96.540000\n",
       "75%    104.000000  137.000000\n",
       "max    121.000000  253.000000"
      ]
     },
     "execution_count": 112,
     "metadata": {},
     "output_type": "execute_result"
    }
   ],
   "source": [
    "wc_data.describe()"
   ]
  },
  {
   "cell_type": "markdown",
   "id": "5cc4e2a7",
   "metadata": {},
   "source": [
    "\n",
    "# Questions 22 & 23"
   ]
  },
  {
   "cell_type": "code",
   "execution_count": 124,
   "id": "a7dd9fab",
   "metadata": {},
   "outputs": [
    {
     "data": {
      "text/plain": [
       "1.6448536269514722"
      ]
     },
     "execution_count": 124,
     "metadata": {},
     "output_type": "execute_result"
    }
   ],
   "source": [
    "# 0.90 + 0.05(half of the remaining)\n",
    "\n",
    "z_score_90=stats.norm.ppf(0.95)\n",
    "z_score_90"
   ]
  },
  {
   "cell_type": "code",
   "execution_count": 125,
   "id": "2605b770",
   "metadata": {},
   "outputs": [
    {
     "data": {
      "text/plain": [
       "1.8807936081512509"
      ]
     },
     "execution_count": 125,
     "metadata": {},
     "output_type": "execute_result"
    }
   ],
   "source": [
    "z_score_94=stats.norm.ppf(0.97)\n",
    "z_score_94"
   ]
  },
  {
   "cell_type": "code",
   "execution_count": 126,
   "id": "d7c532b2",
   "metadata": {},
   "outputs": [
    {
     "data": {
      "text/plain": [
       "0.8416212335729143"
      ]
     },
     "execution_count": 126,
     "metadata": {},
     "output_type": "execute_result"
    }
   ],
   "source": [
    "z_score_60=stats.norm.ppf(0.80)\n",
    "z_score_60"
   ]
  },
  {
   "cell_type": "code",
   "execution_count": 133,
   "id": "a8edb914",
   "metadata": {},
   "outputs": [
    {
     "data": {
      "text/plain": [
       "2.0638985616280205"
      ]
     },
     "execution_count": 133,
     "metadata": {},
     "output_type": "execute_result"
    }
   ],
   "source": [
    "t_score_95=stats.t.ppf(0.975,24)\n",
    "t_score_95"
   ]
  },
  {
   "cell_type": "code",
   "execution_count": 135,
   "id": "e7e39aa7",
   "metadata": {},
   "outputs": [
    {
     "data": {
      "text/plain": [
       "2.1715446760080677"
      ]
     },
     "execution_count": 135,
     "metadata": {},
     "output_type": "execute_result"
    }
   ],
   "source": [
    "t_score_96=stats.t.ppf(0.98,24)\n",
    "t_score_96"
   ]
  },
  {
   "cell_type": "code",
   "execution_count": 136,
   "id": "c983cdf4",
   "metadata": {},
   "outputs": [
    {
     "data": {
      "text/plain": [
       "2.796939504772804"
      ]
     },
     "execution_count": 136,
     "metadata": {},
     "output_type": "execute_result"
    }
   ],
   "source": [
    "t_score_99=stats.t.ppf(0.995,24)\n",
    "t_score_99"
   ]
  },
  {
   "cell_type": "markdown",
   "id": "edb854ae",
   "metadata": {},
   "source": [
    "# Question 24"
   ]
  },
  {
   "cell_type": "code",
   "execution_count": 142,
   "id": "932c46e4",
   "metadata": {},
   "outputs": [
    {
     "data": {
      "text/plain": [
       "0.016487635862615948"
      ]
     },
     "execution_count": 142,
     "metadata": {},
     "output_type": "execute_result"
    }
   ],
   "source": [
    "stats.t.pdf(260,18-1,loc=270,scale=90/np.sqrt(18))"
   ]
  },
  {
   "cell_type": "code",
   "execution_count": null,
   "id": "5c65a394",
   "metadata": {},
   "outputs": [],
   "source": []
  }
 ],
 "metadata": {
  "kernelspec": {
   "display_name": "Python 3 (ipykernel)",
   "language": "python",
   "name": "python3"
  },
  "language_info": {
   "codemirror_mode": {
    "name": "ipython",
    "version": 3
   },
   "file_extension": ".py",
   "mimetype": "text/x-python",
   "name": "python",
   "nbconvert_exporter": "python",
   "pygments_lexer": "ipython3",
   "version": "3.9.7"
  }
 },
 "nbformat": 4,
 "nbformat_minor": 5
}
