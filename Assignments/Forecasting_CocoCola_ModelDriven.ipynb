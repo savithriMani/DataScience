{
 "cells": [
  {
   "cell_type": "code",
   "execution_count": 1,
   "id": "c0a9f82e",
   "metadata": {},
   "outputs": [],
   "source": [
    "import warnings\n",
    "warnings.filterwarnings(\"ignore\")"
   ]
  },
  {
   "cell_type": "code",
   "execution_count": 2,
   "id": "312298d7",
   "metadata": {},
   "outputs": [],
   "source": [
    "import pandas as pd\n",
    "import numpy as np\n",
    "import matplotlib.pyplot as plt\n",
    "import seaborn as sns\n",
    "\n",
    "import statsmodels.formula.api as smf\n",
    "from math import sqrt\n",
    "from sklearn import metrics"
   ]
  },
  {
   "cell_type": "markdown",
   "id": "f8d7c6a9",
   "metadata": {},
   "source": [
    "# Reading the data :"
   ]
  },
  {
   "cell_type": "code",
   "execution_count": 3,
   "id": "48d8ccbc",
   "metadata": {},
   "outputs": [],
   "source": [
    "cc_df=pd.read_excel(\"CocaCola_Sales_Rawdata.xlsx\")"
   ]
  },
  {
   "cell_type": "code",
   "execution_count": 4,
   "id": "848c74ef",
   "metadata": {},
   "outputs": [
    {
     "data": {
      "text/html": [
       "<div>\n",
       "<style scoped>\n",
       "    .dataframe tbody tr th:only-of-type {\n",
       "        vertical-align: middle;\n",
       "    }\n",
       "\n",
       "    .dataframe tbody tr th {\n",
       "        vertical-align: top;\n",
       "    }\n",
       "\n",
       "    .dataframe thead th {\n",
       "        text-align: right;\n",
       "    }\n",
       "</style>\n",
       "<table border=\"1\" class=\"dataframe\">\n",
       "  <thead>\n",
       "    <tr style=\"text-align: right;\">\n",
       "      <th></th>\n",
       "      <th>Quarter</th>\n",
       "      <th>Sales</th>\n",
       "    </tr>\n",
       "  </thead>\n",
       "  <tbody>\n",
       "    <tr>\n",
       "      <th>0</th>\n",
       "      <td>Q1_86</td>\n",
       "      <td>1734.827000</td>\n",
       "    </tr>\n",
       "    <tr>\n",
       "      <th>1</th>\n",
       "      <td>Q2_86</td>\n",
       "      <td>2244.960999</td>\n",
       "    </tr>\n",
       "    <tr>\n",
       "      <th>2</th>\n",
       "      <td>Q3_86</td>\n",
       "      <td>2533.804993</td>\n",
       "    </tr>\n",
       "    <tr>\n",
       "      <th>3</th>\n",
       "      <td>Q4_86</td>\n",
       "      <td>2154.962997</td>\n",
       "    </tr>\n",
       "    <tr>\n",
       "      <th>4</th>\n",
       "      <td>Q1_87</td>\n",
       "      <td>1547.818996</td>\n",
       "    </tr>\n",
       "  </tbody>\n",
       "</table>\n",
       "</div>"
      ],
      "text/plain": [
       "  Quarter        Sales\n",
       "0   Q1_86  1734.827000\n",
       "1   Q2_86  2244.960999\n",
       "2   Q3_86  2533.804993\n",
       "3   Q4_86  2154.962997\n",
       "4   Q1_87  1547.818996"
      ]
     },
     "execution_count": 4,
     "metadata": {},
     "output_type": "execute_result"
    }
   ],
   "source": [
    "cc_df.head()"
   ]
  },
  {
   "cell_type": "code",
   "execution_count": 5,
   "id": "f4ec58b2",
   "metadata": {},
   "outputs": [
    {
     "data": {
      "text/plain": [
       "Quarter     object\n",
       "Sales      float64\n",
       "dtype: object"
      ]
     },
     "execution_count": 5,
     "metadata": {},
     "output_type": "execute_result"
    }
   ],
   "source": [
    "cc_df.dtypes"
   ]
  },
  {
   "cell_type": "code",
   "execution_count": 6,
   "id": "6254ef5b",
   "metadata": {},
   "outputs": [
    {
     "name": "stdout",
     "output_type": "stream",
     "text": [
      "<class 'pandas.core.frame.DataFrame'>\n",
      "RangeIndex: 42 entries, 0 to 41\n",
      "Data columns (total 2 columns):\n",
      " #   Column   Non-Null Count  Dtype  \n",
      "---  ------   --------------  -----  \n",
      " 0   Quarter  42 non-null     object \n",
      " 1   Sales    42 non-null     float64\n",
      "dtypes: float64(1), object(1)\n",
      "memory usage: 800.0+ bytes\n"
     ]
    }
   ],
   "source": [
    "cc_df.info()"
   ]
  },
  {
   "cell_type": "code",
   "execution_count": 7,
   "id": "60153f98",
   "metadata": {},
   "outputs": [],
   "source": [
    "# no null values in the data set"
   ]
  },
  {
   "cell_type": "markdown",
   "id": "999e482d",
   "metadata": {},
   "source": [
    "# Visualizing the data:"
   ]
  },
  {
   "cell_type": "code",
   "execution_count": 8,
   "id": "37cc4ff3",
   "metadata": {},
   "outputs": [
    {
     "data": {
      "text/plain": [
       "<AxesSubplot:>"
      ]
     },
     "execution_count": 8,
     "metadata": {},
     "output_type": "execute_result"
    },
    {
     "data": {
      "image/png": "[encoded data removed]",
      "text/plain": [
       "<Figure size 432x288 with 1 Axes>"
      ]
     },
     "metadata": {
      "needs_background": "light"
     },
     "output_type": "display_data"
    }
   ],
   "source": [
    "# line plot\n",
    "\n",
    "cc_df.plot()"
   ]
  },
  {
   "cell_type": "markdown",
   "id": "2072f255",
   "metadata": {},
   "source": [
    "Sales plot has a  linear Trend and multiplicative seasonility"
   ]
  },
  {
   "cell_type": "code",
   "execution_count": 9,
   "id": "d51fffd7",
   "metadata": {},
   "outputs": [],
   "source": [
    "cc_df[\"Quaters\"]=0\n",
    "cc_df['Year']=0"
   ]
  },
  {
   "cell_type": "code",
   "execution_count": 10,
   "id": "0b6e4e48",
   "metadata": {},
   "outputs": [],
   "source": [
    "# creating a quarterly column and yearly column:\n",
    "\n",
    "for i in range(0,42):\n",
    "    q=str(cc_df.iloc[i,0])\n",
    "    x=q.split(\"_\")\n",
    "    #print('q: ',q)\n",
    "    #print('x : ',x)\n",
    "    cc_df[\"Quaters\"][i]=x[0]\n",
    "    cc_df[\"Year\"][i]=x[1]\n"
   ]
  },
  {
   "cell_type": "code",
   "execution_count": 11,
   "id": "f7db809e",
   "metadata": {},
   "outputs": [
    {
     "data": {
      "text/html": [
       "<div>\n",
       "<style scoped>\n",
       "    .dataframe tbody tr th:only-of-type {\n",
       "        vertical-align: middle;\n",
       "    }\n",
       "\n",
       "    .dataframe tbody tr th {\n",
       "        vertical-align: top;\n",
       "    }\n",
       "\n",
       "    .dataframe thead th {\n",
       "        text-align: right;\n",
       "    }\n",
       "</style>\n",
       "<table border=\"1\" class=\"dataframe\">\n",
       "  <thead>\n",
       "    <tr style=\"text-align: right;\">\n",
       "      <th></th>\n",
       "      <th>Quarter</th>\n",
       "      <th>Sales</th>\n",
       "      <th>Quaters</th>\n",
       "      <th>Year</th>\n",
       "    </tr>\n",
       "  </thead>\n",
       "  <tbody>\n",
       "    <tr>\n",
       "      <th>0</th>\n",
       "      <td>Q1_86</td>\n",
       "      <td>1734.827000</td>\n",
       "      <td>Q1</td>\n",
       "      <td>86</td>\n",
       "    </tr>\n",
       "    <tr>\n",
       "      <th>1</th>\n",
       "      <td>Q2_86</td>\n",
       "      <td>2244.960999</td>\n",
       "      <td>Q2</td>\n",
       "      <td>86</td>\n",
       "    </tr>\n",
       "    <tr>\n",
       "      <th>2</th>\n",
       "      <td>Q3_86</td>\n",
       "      <td>2533.804993</td>\n",
       "      <td>Q3</td>\n",
       "      <td>86</td>\n",
       "    </tr>\n",
       "    <tr>\n",
       "      <th>3</th>\n",
       "      <td>Q4_86</td>\n",
       "      <td>2154.962997</td>\n",
       "      <td>Q4</td>\n",
       "      <td>86</td>\n",
       "    </tr>\n",
       "    <tr>\n",
       "      <th>4</th>\n",
       "      <td>Q1_87</td>\n",
       "      <td>1547.818996</td>\n",
       "      <td>Q1</td>\n",
       "      <td>87</td>\n",
       "    </tr>\n",
       "  </tbody>\n",
       "</table>\n",
       "</div>"
      ],
      "text/plain": [
       "  Quarter        Sales Quaters  Year\n",
       "0   Q1_86  1734.827000      Q1    86\n",
       "1   Q2_86  2244.960999      Q2    86\n",
       "2   Q3_86  2533.804993      Q3    86\n",
       "3   Q4_86  2154.962997      Q4    86\n",
       "4   Q1_87  1547.818996      Q1    87"
      ]
     },
     "execution_count": 11,
     "metadata": {},
     "output_type": "execute_result"
    }
   ],
   "source": [
    "cc_df.head()"
   ]
  },
  {
   "cell_type": "code",
   "execution_count": 12,
   "id": "35be0805",
   "metadata": {},
   "outputs": [
    {
     "data": {
      "text/plain": [
       "<AxesSubplot:xlabel='Year', ylabel='Quaters'>"
      ]
     },
     "execution_count": 12,
     "metadata": {},
     "output_type": "execute_result"
    },
    {
     "data": {
      "image/png": "[encoded data removed]",
      "text/plain": [
       "<Figure size 720x720 with 2 Axes>"
      ]
     },
     "metadata": {
      "needs_background": "light"
     },
     "output_type": "display_data"
    }
   ],
   "source": [
    "# Heat map\n",
    "\n",
    "plt.figure(figsize=(10,10))\n",
    "heatmap_al=pd.pivot_table(data=cc_df,values='Sales',index='Quaters',columns='Year',aggfunc=\"mean\",fill_value=0)\n",
    "sns.heatmap(heatmap_al,annot=True,fmt=\"g\") #fmt is format of the grid values"
   ]
  },
  {
   "cell_type": "markdown",
   "id": "8df63771",
   "metadata": {},
   "source": [
    "# Data Preprocessing :"
   ]
  },
  {
   "cell_type": "code",
   "execution_count": 13,
   "id": "6a52c58b",
   "metadata": {},
   "outputs": [],
   "source": [
    "# creating dummy variables for quarterly  to see how different quarters effect the output i.e., no of sales\n",
    "\n",
    "cc_df=pd.get_dummies(data=cc_df , columns=['Quaters'])"
   ]
  },
  {
   "cell_type": "code",
   "execution_count": 14,
   "id": "6d685193",
   "metadata": {},
   "outputs": [
    {
     "data": {
      "text/html": [
       "<div>\n",
       "<style scoped>\n",
       "    .dataframe tbody tr th:only-of-type {\n",
       "        vertical-align: middle;\n",
       "    }\n",
       "\n",
       "    .dataframe tbody tr th {\n",
       "        vertical-align: top;\n",
       "    }\n",
       "\n",
       "    .dataframe thead th {\n",
       "        text-align: right;\n",
       "    }\n",
       "</style>\n",
       "<table border=\"1\" class=\"dataframe\">\n",
       "  <thead>\n",
       "    <tr style=\"text-align: right;\">\n",
       "      <th></th>\n",
       "      <th>Quarter</th>\n",
       "      <th>Sales</th>\n",
       "      <th>Year</th>\n",
       "      <th>Quaters_Q1</th>\n",
       "      <th>Quaters_Q2</th>\n",
       "      <th>Quaters_Q3</th>\n",
       "      <th>Quaters_Q4</th>\n",
       "    </tr>\n",
       "  </thead>\n",
       "  <tbody>\n",
       "    <tr>\n",
       "      <th>0</th>\n",
       "      <td>Q1_86</td>\n",
       "      <td>1734.827000</td>\n",
       "      <td>86</td>\n",
       "      <td>1</td>\n",
       "      <td>0</td>\n",
       "      <td>0</td>\n",
       "      <td>0</td>\n",
       "    </tr>\n",
       "    <tr>\n",
       "      <th>1</th>\n",
       "      <td>Q2_86</td>\n",
       "      <td>2244.960999</td>\n",
       "      <td>86</td>\n",
       "      <td>0</td>\n",
       "      <td>1</td>\n",
       "      <td>0</td>\n",
       "      <td>0</td>\n",
       "    </tr>\n",
       "    <tr>\n",
       "      <th>2</th>\n",
       "      <td>Q3_86</td>\n",
       "      <td>2533.804993</td>\n",
       "      <td>86</td>\n",
       "      <td>0</td>\n",
       "      <td>0</td>\n",
       "      <td>1</td>\n",
       "      <td>0</td>\n",
       "    </tr>\n",
       "    <tr>\n",
       "      <th>3</th>\n",
       "      <td>Q4_86</td>\n",
       "      <td>2154.962997</td>\n",
       "      <td>86</td>\n",
       "      <td>0</td>\n",
       "      <td>0</td>\n",
       "      <td>0</td>\n",
       "      <td>1</td>\n",
       "    </tr>\n",
       "    <tr>\n",
       "      <th>4</th>\n",
       "      <td>Q1_87</td>\n",
       "      <td>1547.818996</td>\n",
       "      <td>87</td>\n",
       "      <td>1</td>\n",
       "      <td>0</td>\n",
       "      <td>0</td>\n",
       "      <td>0</td>\n",
       "    </tr>\n",
       "  </tbody>\n",
       "</table>\n",
       "</div>"
      ],
      "text/plain": [
       "  Quarter        Sales  Year  Quaters_Q1  Quaters_Q2  Quaters_Q3  Quaters_Q4\n",
       "0   Q1_86  1734.827000    86           1           0           0           0\n",
       "1   Q2_86  2244.960999    86           0           1           0           0\n",
       "2   Q3_86  2533.804993    86           0           0           1           0\n",
       "3   Q4_86  2154.962997    86           0           0           0           1\n",
       "4   Q1_87  1547.818996    87           1           0           0           0"
      ]
     },
     "execution_count": 14,
     "metadata": {},
     "output_type": "execute_result"
    }
   ],
   "source": [
    "cc_df.head()"
   ]
  },
  {
   "cell_type": "code",
   "execution_count": 15,
   "id": "a8b07cdd",
   "metadata": {},
   "outputs": [],
   "source": [
    "# Creating the transformations:\n",
    "\n",
    "cc_df['t']=np.arange(1,43)  # t\n",
    "\n",
    "cc_df['t_squared']=cc_df['t']*cc_df['t']   # t^2\n",
    "\n",
    "cc_df['log_sales']=np.log(cc_df['Sales'])   # log transform"
   ]
  },
  {
   "cell_type": "code",
   "execution_count": 16,
   "id": "89c650ad",
   "metadata": {},
   "outputs": [
    {
     "data": {
      "text/html": [
       "<div>\n",
       "<style scoped>\n",
       "    .dataframe tbody tr th:only-of-type {\n",
       "        vertical-align: middle;\n",
       "    }\n",
       "\n",
       "    .dataframe tbody tr th {\n",
       "        vertical-align: top;\n",
       "    }\n",
       "\n",
       "    .dataframe thead th {\n",
       "        text-align: right;\n",
       "    }\n",
       "</style>\n",
       "<table border=\"1\" class=\"dataframe\">\n",
       "  <thead>\n",
       "    <tr style=\"text-align: right;\">\n",
       "      <th></th>\n",
       "      <th>Quarter</th>\n",
       "      <th>Sales</th>\n",
       "      <th>Year</th>\n",
       "      <th>Quaters_Q1</th>\n",
       "      <th>Quaters_Q2</th>\n",
       "      <th>Quaters_Q3</th>\n",
       "      <th>Quaters_Q4</th>\n",
       "      <th>t</th>\n",
       "      <th>t_squared</th>\n",
       "      <th>log_sales</th>\n",
       "    </tr>\n",
       "  </thead>\n",
       "  <tbody>\n",
       "    <tr>\n",
       "      <th>0</th>\n",
       "      <td>Q1_86</td>\n",
       "      <td>1734.827000</td>\n",
       "      <td>86</td>\n",
       "      <td>1</td>\n",
       "      <td>0</td>\n",
       "      <td>0</td>\n",
       "      <td>0</td>\n",
       "      <td>1</td>\n",
       "      <td>1</td>\n",
       "      <td>7.458663</td>\n",
       "    </tr>\n",
       "    <tr>\n",
       "      <th>1</th>\n",
       "      <td>Q2_86</td>\n",
       "      <td>2244.960999</td>\n",
       "      <td>86</td>\n",
       "      <td>0</td>\n",
       "      <td>1</td>\n",
       "      <td>0</td>\n",
       "      <td>0</td>\n",
       "      <td>2</td>\n",
       "      <td>4</td>\n",
       "      <td>7.716443</td>\n",
       "    </tr>\n",
       "    <tr>\n",
       "      <th>2</th>\n",
       "      <td>Q3_86</td>\n",
       "      <td>2533.804993</td>\n",
       "      <td>86</td>\n",
       "      <td>0</td>\n",
       "      <td>0</td>\n",
       "      <td>1</td>\n",
       "      <td>0</td>\n",
       "      <td>3</td>\n",
       "      <td>9</td>\n",
       "      <td>7.837477</td>\n",
       "    </tr>\n",
       "    <tr>\n",
       "      <th>3</th>\n",
       "      <td>Q4_86</td>\n",
       "      <td>2154.962997</td>\n",
       "      <td>86</td>\n",
       "      <td>0</td>\n",
       "      <td>0</td>\n",
       "      <td>0</td>\n",
       "      <td>1</td>\n",
       "      <td>4</td>\n",
       "      <td>16</td>\n",
       "      <td>7.675529</td>\n",
       "    </tr>\n",
       "    <tr>\n",
       "      <th>4</th>\n",
       "      <td>Q1_87</td>\n",
       "      <td>1547.818996</td>\n",
       "      <td>87</td>\n",
       "      <td>1</td>\n",
       "      <td>0</td>\n",
       "      <td>0</td>\n",
       "      <td>0</td>\n",
       "      <td>5</td>\n",
       "      <td>25</td>\n",
       "      <td>7.344602</td>\n",
       "    </tr>\n",
       "  </tbody>\n",
       "</table>\n",
       "</div>"
      ],
      "text/plain": [
       "  Quarter        Sales  Year  Quaters_Q1  Quaters_Q2  Quaters_Q3  Quaters_Q4  \\\n",
       "0   Q1_86  1734.827000    86           1           0           0           0   \n",
       "1   Q2_86  2244.960999    86           0           1           0           0   \n",
       "2   Q3_86  2533.804993    86           0           0           1           0   \n",
       "3   Q4_86  2154.962997    86           0           0           0           1   \n",
       "4   Q1_87  1547.818996    87           1           0           0           0   \n",
       "\n",
       "   t  t_squared  log_sales  \n",
       "0  1          1   7.458663  \n",
       "1  2          4   7.716443  \n",
       "2  3          9   7.837477  \n",
       "3  4         16   7.675529  \n",
       "4  5         25   7.344602  "
      ]
     },
     "execution_count": 16,
     "metadata": {},
     "output_type": "execute_result"
    }
   ],
   "source": [
    "cc_df.head()"
   ]
  },
  {
   "cell_type": "markdown",
   "id": "b4b9f113",
   "metadata": {},
   "source": [
    "Train Test Splitting :"
   ]
  },
  {
   "cell_type": "code",
   "execution_count": 17,
   "id": "e17c45e8",
   "metadata": {},
   "outputs": [],
   "source": [
    "train=cc_df.head(40)\n",
    "test=cc_df.tail(2)"
   ]
  },
  {
   "cell_type": "code",
   "execution_count": 18,
   "id": "53f1f1ad",
   "metadata": {},
   "outputs": [
    {
     "data": {
      "text/html": [
       "<div>\n",
       "<style scoped>\n",
       "    .dataframe tbody tr th:only-of-type {\n",
       "        vertical-align: middle;\n",
       "    }\n",
       "\n",
       "    .dataframe tbody tr th {\n",
       "        vertical-align: top;\n",
       "    }\n",
       "\n",
       "    .dataframe thead th {\n",
       "        text-align: right;\n",
       "    }\n",
       "</style>\n",
       "<table border=\"1\" class=\"dataframe\">\n",
       "  <thead>\n",
       "    <tr style=\"text-align: right;\">\n",
       "      <th></th>\n",
       "      <th>Quarter</th>\n",
       "      <th>Sales</th>\n",
       "      <th>Year</th>\n",
       "      <th>Quaters_Q1</th>\n",
       "      <th>Quaters_Q2</th>\n",
       "      <th>Quaters_Q3</th>\n",
       "      <th>Quaters_Q4</th>\n",
       "      <th>t</th>\n",
       "      <th>t_squared</th>\n",
       "      <th>log_sales</th>\n",
       "    </tr>\n",
       "  </thead>\n",
       "  <tbody>\n",
       "    <tr>\n",
       "      <th>35</th>\n",
       "      <td>Q4_94</td>\n",
       "      <td>4017.0</td>\n",
       "      <td>94</td>\n",
       "      <td>0</td>\n",
       "      <td>0</td>\n",
       "      <td>0</td>\n",
       "      <td>1</td>\n",
       "      <td>36</td>\n",
       "      <td>1296</td>\n",
       "      <td>8.298291</td>\n",
       "    </tr>\n",
       "    <tr>\n",
       "      <th>36</th>\n",
       "      <td>Q1_95</td>\n",
       "      <td>3854.0</td>\n",
       "      <td>95</td>\n",
       "      <td>1</td>\n",
       "      <td>0</td>\n",
       "      <td>0</td>\n",
       "      <td>0</td>\n",
       "      <td>37</td>\n",
       "      <td>1369</td>\n",
       "      <td>8.256867</td>\n",
       "    </tr>\n",
       "    <tr>\n",
       "      <th>37</th>\n",
       "      <td>Q2_95</td>\n",
       "      <td>4936.0</td>\n",
       "      <td>95</td>\n",
       "      <td>0</td>\n",
       "      <td>1</td>\n",
       "      <td>0</td>\n",
       "      <td>0</td>\n",
       "      <td>38</td>\n",
       "      <td>1444</td>\n",
       "      <td>8.504311</td>\n",
       "    </tr>\n",
       "    <tr>\n",
       "      <th>38</th>\n",
       "      <td>Q3_95</td>\n",
       "      <td>4895.0</td>\n",
       "      <td>95</td>\n",
       "      <td>0</td>\n",
       "      <td>0</td>\n",
       "      <td>1</td>\n",
       "      <td>0</td>\n",
       "      <td>39</td>\n",
       "      <td>1521</td>\n",
       "      <td>8.495970</td>\n",
       "    </tr>\n",
       "    <tr>\n",
       "      <th>39</th>\n",
       "      <td>Q4_95</td>\n",
       "      <td>4333.0</td>\n",
       "      <td>95</td>\n",
       "      <td>0</td>\n",
       "      <td>0</td>\n",
       "      <td>0</td>\n",
       "      <td>1</td>\n",
       "      <td>40</td>\n",
       "      <td>1600</td>\n",
       "      <td>8.374015</td>\n",
       "    </tr>\n",
       "  </tbody>\n",
       "</table>\n",
       "</div>"
      ],
      "text/plain": [
       "   Quarter   Sales  Year  Quaters_Q1  Quaters_Q2  Quaters_Q3  Quaters_Q4   t  \\\n",
       "35   Q4_94  4017.0    94           0           0           0           1  36   \n",
       "36   Q1_95  3854.0    95           1           0           0           0  37   \n",
       "37   Q2_95  4936.0    95           0           1           0           0  38   \n",
       "38   Q3_95  4895.0    95           0           0           1           0  39   \n",
       "39   Q4_95  4333.0    95           0           0           0           1  40   \n",
       "\n",
       "    t_squared  log_sales  \n",
       "35       1296   8.298291  \n",
       "36       1369   8.256867  \n",
       "37       1444   8.504311  \n",
       "38       1521   8.495970  \n",
       "39       1600   8.374015  "
      ]
     },
     "execution_count": 18,
     "metadata": {},
     "output_type": "execute_result"
    }
   ],
   "source": [
    "train.tail()"
   ]
  },
  {
   "cell_type": "markdown",
   "id": "e2f065e4",
   "metadata": {},
   "source": [
    "# Model Driven Forecasting :"
   ]
  },
  {
   "cell_type": "code",
   "execution_count": 19,
   "id": "1bbbb997",
   "metadata": {},
   "outputs": [
    {
     "data": {
      "text/plain": [
       "589.8085648896489"
      ]
     },
     "execution_count": 19,
     "metadata": {},
     "output_type": "execute_result"
    }
   ],
   "source": [
    "# Linear model\n",
    "\n",
    "\n",
    "linear_model=smf.ols('Sales ~ t',data=train).fit()\n",
    "pred_linear=linear_model.predict(test['t'])\n",
    "rmse_linear=sqrt(metrics.mean_squared_error(test['Sales'],pred_linear))\n",
    "rmse_linear"
   ]
  },
  {
   "cell_type": "code",
   "execution_count": 20,
   "id": "4a1ba27e",
   "metadata": {},
   "outputs": [
    {
     "data": {
      "text/plain": [
       "487.1548789146992"
      ]
     },
     "execution_count": 20,
     "metadata": {},
     "output_type": "execute_result"
    }
   ],
   "source": [
    "# Exponential model\n",
    "\n",
    "exp_model=smf.ols('log_sales ~ t' , data = train).fit()\n",
    "pred_exp = exp_model.predict(test['t'])\n",
    "rmse_exp=sqrt(metrics.mean_squared_error(test['Sales'] , np.exp(pred_exp)))\n",
    "rmse_exp"
   ]
  },
  {
   "cell_type": "code",
   "execution_count": 21,
   "id": "b7495d76",
   "metadata": {},
   "outputs": [
    {
     "data": {
      "text/plain": [
       "522.7788029934632"
      ]
     },
     "execution_count": 21,
     "metadata": {},
     "output_type": "execute_result"
    }
   ],
   "source": [
    "# Quadratic \n",
    "\n",
    "quad_model=smf.ols('Sales~t+t_squared' , data = train).fit()\n",
    "pred_quad = quad_model.predict(test[['t','t_squared']])\n",
    "rmse_quad=sqrt(metrics.mean_squared_error(test['Sales'] , pred_quad))\n",
    "rmse_quad"
   ]
  },
  {
   "cell_type": "code",
   "execution_count": 22,
   "id": "c243f488",
   "metadata": {},
   "outputs": [
    {
     "data": {
      "text/plain": [
       "1921.7154825796265"
      ]
     },
     "execution_count": 22,
     "metadata": {},
     "output_type": "execute_result"
    }
   ],
   "source": [
    "# Additive Seasonility \n",
    "\n",
    "add_sea_model=smf.ols('Sales~Quaters_Q1+Quaters_Q2+Quaters_Q3+Quaters_Q4',data=train).fit()\n",
    "pred_add_sea=add_sea_model.predict(test[['Quaters_Q1','Quaters_Q2','Quaters_Q3','Quaters_Q4']])\n",
    "rmse_add_sea=sqrt(metrics.mean_squared_error(test['Sales'] , pred_add_sea))\n",
    "rmse_add_sea\n"
   ]
  },
  {
   "cell_type": "code",
   "execution_count": 23,
   "id": "19379229",
   "metadata": {},
   "outputs": [
    {
     "data": {
      "text/plain": [
       "272.5062062646674"
      ]
     },
     "execution_count": 23,
     "metadata": {},
     "output_type": "execute_result"
    }
   ],
   "source": [
    "# Additive seasonality Quadratic Trend\n",
    "\n",
    "add_sea_quad_model=smf.ols('Sales~t+t_squared+Quaters_Q1+Quaters_Q2+Quaters_Q3+Quaters_Q4',data=train).fit()\n",
    "pred_add_sea_quad=add_sea_quad_model.predict(test[['t','t_squared','Quaters_Q1','Quaters_Q2','Quaters_Q3','Quaters_Q4']])\n",
    "rmse_add_sea_quad=sqrt(metrics.mean_squared_error(test['Sales'] , pred_add_sea_quad))\n",
    "rmse_add_sea_quad"
   ]
  },
  {
   "cell_type": "code",
   "execution_count": 24,
   "id": "ed67a297",
   "metadata": {},
   "outputs": [
    {
     "data": {
      "text/plain": [
       "2039.1886019046492"
      ]
     },
     "execution_count": 24,
     "metadata": {},
     "output_type": "execute_result"
    }
   ],
   "source": [
    "# Multiplicative seasonality\n",
    "\n",
    "mult_sea_model=smf.ols('log_sales~Quaters_Q1+Quaters_Q2+Quaters_Q3+Quaters_Q4',data=train).fit()\n",
    "pred_mult_sea=mult_sea_model.predict(test[['Quaters_Q1','Quaters_Q2','Quaters_Q3','Quaters_Q4']])\n",
    "rmse_mult_sea=sqrt(metrics.mean_squared_error(test['Sales'] , np.exp(pred_mult_sea)))\n",
    "rmse_mult_sea"
   ]
  },
  {
   "cell_type": "code",
   "execution_count": 25,
   "id": "b53a9e4a",
   "metadata": {},
   "outputs": [
    {
     "data": {
      "text/plain": [
       "162.37135848192275"
      ]
     },
     "execution_count": 25,
     "metadata": {},
     "output_type": "execute_result"
    }
   ],
   "source": [
    "#Multiplicative Seasonality with Linear trend\n",
    "\n",
    "mult_add_sea_model=smf.ols('log_sales~t+Quaters_Q1+Quaters_Q2+Quaters_Q3+Quaters_Q4',data=train).fit()\n",
    "pred_mult_add_sea=mult_add_sea_model.predict(test[['t','Quaters_Q1','Quaters_Q2','Quaters_Q3','Quaters_Q4']])\n",
    "rmse_mult_add_sea=sqrt(metrics.mean_squared_error(test['Sales'] , np.exp(pred_mult_add_sea)))\n",
    "rmse_mult_add_sea"
   ]
  },
  {
   "cell_type": "code",
   "execution_count": 26,
   "id": "5d0ff689",
   "metadata": {},
   "outputs": [
    {
     "data": {
      "text/html": [
       "<div>\n",
       "<style scoped>\n",
       "    .dataframe tbody tr th:only-of-type {\n",
       "        vertical-align: middle;\n",
       "    }\n",
       "\n",
       "    .dataframe tbody tr th {\n",
       "        vertical-align: top;\n",
       "    }\n",
       "\n",
       "    .dataframe thead th {\n",
       "        text-align: right;\n",
       "    }\n",
       "</style>\n",
       "<table border=\"1\" class=\"dataframe\">\n",
       "  <thead>\n",
       "    <tr style=\"text-align: right;\">\n",
       "      <th></th>\n",
       "      <th>Models</th>\n",
       "      <th>rmse values</th>\n",
       "    </tr>\n",
       "  </thead>\n",
       "  <tbody>\n",
       "    <tr>\n",
       "      <th>0</th>\n",
       "      <td>linear_model</td>\n",
       "      <td>589.808565</td>\n",
       "    </tr>\n",
       "    <tr>\n",
       "      <th>1</th>\n",
       "      <td>exp_model</td>\n",
       "      <td>487.154879</td>\n",
       "    </tr>\n",
       "    <tr>\n",
       "      <th>2</th>\n",
       "      <td>quad_model</td>\n",
       "      <td>522.778803</td>\n",
       "    </tr>\n",
       "    <tr>\n",
       "      <th>3</th>\n",
       "      <td>add_sea_model</td>\n",
       "      <td>1921.715483</td>\n",
       "    </tr>\n",
       "    <tr>\n",
       "      <th>4</th>\n",
       "      <td>add_sea_quad_model</td>\n",
       "      <td>272.506206</td>\n",
       "    </tr>\n",
       "    <tr>\n",
       "      <th>5</th>\n",
       "      <td>mult_sea_model</td>\n",
       "      <td>2039.188602</td>\n",
       "    </tr>\n",
       "    <tr>\n",
       "      <th>6</th>\n",
       "      <td>mult_add_sea_model</td>\n",
       "      <td>162.371358</td>\n",
       "    </tr>\n",
       "  </tbody>\n",
       "</table>\n",
       "</div>"
      ],
      "text/plain": [
       "               Models  rmse values \n",
       "0        linear_model    589.808565\n",
       "1           exp_model    487.154879\n",
       "2          quad_model    522.778803\n",
       "3       add_sea_model   1921.715483\n",
       "4  add_sea_quad_model    272.506206\n",
       "5      mult_sea_model   2039.188602\n",
       "6  mult_add_sea_model    162.371358"
      ]
     },
     "execution_count": 26,
     "metadata": {},
     "output_type": "execute_result"
    }
   ],
   "source": [
    "# Comparing the rmse of all models\n",
    "\n",
    "rmse={'Models' :['linear_model','exp_model','quad_model','add_sea_model','add_sea_quad_model','mult_sea_model','mult_add_sea_model'],\n",
    "       'rmse values ':[rmse_linear,rmse_exp,rmse_quad,rmse_add_sea,rmse_add_sea_quad,rmse_mult_sea,rmse_mult_add_sea]}\n",
    "rmse_df=pd.DataFrame(rmse)\n",
    "rmse_df"
   ]
  },
  {
   "cell_type": "markdown",
   "id": "f6f88bfa",
   "metadata": {},
   "source": [
    "Conclusion : On comparing the rmse of each models , Multiplicative seasonality with linear has got the least error.\n",
    "So, that is the best model for prediction."
   ]
  },
  {
   "cell_type": "markdown",
   "id": "a3a523dc",
   "metadata": {},
   "source": [
    "# Final model :"
   ]
  },
  {
   "cell_type": "code",
   "execution_count": 27,
   "id": "140400d3",
   "metadata": {},
   "outputs": [],
   "source": [
    "final_model=smf.ols('log_sales~ t+Quaters_Q1+Quaters_Q2+Quaters_Q3+Quaters_Q4',data=cc_df).fit()\n",
    "cc_df['pred_sales']=np.exp(final_model.predict(cc_df[['t','Quaters_Q1','Quaters_Q2','Quaters_Q3','Quaters_Q4']]))"
   ]
  },
  {
   "cell_type": "code",
   "execution_count": 28,
   "id": "924fb3bd",
   "metadata": {},
   "outputs": [
    {
     "data": {
      "text/html": [
       "<div>\n",
       "<style scoped>\n",
       "    .dataframe tbody tr th:only-of-type {\n",
       "        vertical-align: middle;\n",
       "    }\n",
       "\n",
       "    .dataframe tbody tr th {\n",
       "        vertical-align: top;\n",
       "    }\n",
       "\n",
       "    .dataframe thead th {\n",
       "        text-align: right;\n",
       "    }\n",
       "</style>\n",
       "<table border=\"1\" class=\"dataframe\">\n",
       "  <thead>\n",
       "    <tr style=\"text-align: right;\">\n",
       "      <th></th>\n",
       "      <th>Quarter</th>\n",
       "      <th>Sales</th>\n",
       "      <th>Year</th>\n",
       "      <th>Quaters_Q1</th>\n",
       "      <th>Quaters_Q2</th>\n",
       "      <th>Quaters_Q3</th>\n",
       "      <th>Quaters_Q4</th>\n",
       "      <th>t</th>\n",
       "      <th>t_squared</th>\n",
       "      <th>log_sales</th>\n",
       "      <th>pred_sales</th>\n",
       "    </tr>\n",
       "  </thead>\n",
       "  <tbody>\n",
       "    <tr>\n",
       "      <th>0</th>\n",
       "      <td>Q1_86</td>\n",
       "      <td>1734.827000</td>\n",
       "      <td>86</td>\n",
       "      <td>1</td>\n",
       "      <td>0</td>\n",
       "      <td>0</td>\n",
       "      <td>0</td>\n",
       "      <td>1</td>\n",
       "      <td>1</td>\n",
       "      <td>7.458663</td>\n",
       "      <td>1539.516800</td>\n",
       "    </tr>\n",
       "    <tr>\n",
       "      <th>1</th>\n",
       "      <td>Q2_86</td>\n",
       "      <td>2244.960999</td>\n",
       "      <td>86</td>\n",
       "      <td>0</td>\n",
       "      <td>1</td>\n",
       "      <td>0</td>\n",
       "      <td>0</td>\n",
       "      <td>2</td>\n",
       "      <td>4</td>\n",
       "      <td>7.716443</td>\n",
       "      <td>1958.133190</td>\n",
       "    </tr>\n",
       "    <tr>\n",
       "      <th>2</th>\n",
       "      <td>Q3_86</td>\n",
       "      <td>2533.804993</td>\n",
       "      <td>86</td>\n",
       "      <td>0</td>\n",
       "      <td>0</td>\n",
       "      <td>1</td>\n",
       "      <td>0</td>\n",
       "      <td>3</td>\n",
       "      <td>9</td>\n",
       "      <td>7.837477</td>\n",
       "      <td>1941.716476</td>\n",
       "    </tr>\n",
       "    <tr>\n",
       "      <th>3</th>\n",
       "      <td>Q4_86</td>\n",
       "      <td>2154.962997</td>\n",
       "      <td>86</td>\n",
       "      <td>0</td>\n",
       "      <td>0</td>\n",
       "      <td>0</td>\n",
       "      <td>1</td>\n",
       "      <td>4</td>\n",
       "      <td>16</td>\n",
       "      <td>7.675529</td>\n",
       "      <td>1792.297460</td>\n",
       "    </tr>\n",
       "    <tr>\n",
       "      <th>4</th>\n",
       "      <td>Q1_87</td>\n",
       "      <td>1547.818996</td>\n",
       "      <td>87</td>\n",
       "      <td>1</td>\n",
       "      <td>0</td>\n",
       "      <td>0</td>\n",
       "      <td>0</td>\n",
       "      <td>5</td>\n",
       "      <td>25</td>\n",
       "      <td>7.344602</td>\n",
       "      <td>1695.770302</td>\n",
       "    </tr>\n",
       "  </tbody>\n",
       "</table>\n",
       "</div>"
      ],
      "text/plain": [
       "  Quarter        Sales  Year  Quaters_Q1  Quaters_Q2  Quaters_Q3  Quaters_Q4  \\\n",
       "0   Q1_86  1734.827000    86           1           0           0           0   \n",
       "1   Q2_86  2244.960999    86           0           1           0           0   \n",
       "2   Q3_86  2533.804993    86           0           0           1           0   \n",
       "3   Q4_86  2154.962997    86           0           0           0           1   \n",
       "4   Q1_87  1547.818996    87           1           0           0           0   \n",
       "\n",
       "   t  t_squared  log_sales   pred_sales  \n",
       "0  1          1   7.458663  1539.516800  \n",
       "1  2          4   7.716443  1958.133190  \n",
       "2  3          9   7.837477  1941.716476  \n",
       "3  4         16   7.675529  1792.297460  \n",
       "4  5         25   7.344602  1695.770302  "
      ]
     },
     "execution_count": 28,
     "metadata": {},
     "output_type": "execute_result"
    }
   ],
   "source": [
    "cc_df.head()"
   ]
  },
  {
   "cell_type": "code",
   "execution_count": 29,
   "id": "e9cf594e",
   "metadata": {},
   "outputs": [
    {
     "data": {
      "text/plain": [
       "<AxesSubplot:>"
      ]
     },
     "execution_count": 29,
     "metadata": {},
     "output_type": "execute_result"
    },
    {
     "data": {
      "image/png": "[encoded data removed]",
      "text/plain": [
       "<Figure size 432x288 with 1 Axes>"
      ]
     },
     "metadata": {
      "needs_background": "light"
     },
     "output_type": "display_data"
    }
   ],
   "source": [
    "cc_df.plot()"
   ]
  },
  {
   "cell_type": "markdown",
   "id": "9f3bd2bb",
   "metadata": {},
   "source": [
    "Actual sales and predicted sales are following almost the same trend and seasonality"
   ]
  },
  {
   "cell_type": "code",
   "execution_count": null,
   "id": "2df80be6",
   "metadata": {},
   "outputs": [],
   "source": []
  }
 ],
 "metadata": {
  "kernelspec": {
   "display_name": "Python 3 (ipykernel)",
   "language": "python",
   "name": "python3"
  },
  "language_info": {
   "codemirror_mode": {
    "name": "ipython",
    "version": 3
   },
   "file_extension": ".py",
   "mimetype": "text/x-python",
   "name": "python",
   "nbconvert_exporter": "python",
   "pygments_lexer": "ipython3",
   "version": "3.9.7"
  }
 },
 "nbformat": 4,
 "nbformat_minor": 5
}
