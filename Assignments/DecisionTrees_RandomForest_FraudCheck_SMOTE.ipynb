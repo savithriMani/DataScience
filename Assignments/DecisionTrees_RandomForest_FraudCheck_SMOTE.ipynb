{
 "cells": [
  {
   "cell_type": "markdown",
   "id": "9d8ec594",
   "metadata": {},
   "source": [
    "\n",
    "1. SMOTE\n",
    "2. Dummy Variables\n",
    "3. Train test split \n"
   ]
  },
  {
   "cell_type": "code",
   "execution_count": 1,
   "id": "86a2a4d2",
   "metadata": {},
   "outputs": [],
   "source": [
    "import numpy as np\n",
    "import pandas as pd\n",
    "import matplotlib.pyplot as plt\n",
    "import seaborn as sns\n",
    "from sklearn.model_selection import train_test_split\n",
    "from sklearn.tree import DecisionTreeClassifier\n",
    "from sklearn.metrics import classification_report\n",
    "from sklearn import preprocessing\n",
    "from sklearn import tree\n",
    "from sklearn import metrics"
   ]
  },
  {
   "cell_type": "code",
   "execution_count": 2,
   "id": "88426841",
   "metadata": {},
   "outputs": [],
   "source": [
    "fc_df=pd.read_csv(\"Fraud_check.csv\")"
   ]
  },
  {
   "cell_type": "code",
   "execution_count": 3,
   "id": "59bdd090",
   "metadata": {},
   "outputs": [
    {
     "data": {
      "text/html": [
       "<div>\n",
       "<style scoped>\n",
       "    .dataframe tbody tr th:only-of-type {\n",
       "        vertical-align: middle;\n",
       "    }\n",
       "\n",
       "    .dataframe tbody tr th {\n",
       "        vertical-align: top;\n",
       "    }\n",
       "\n",
       "    .dataframe thead th {\n",
       "        text-align: right;\n",
       "    }\n",
       "</style>\n",
       "<table border=\"1\" class=\"dataframe\">\n",
       "  <thead>\n",
       "    <tr style=\"text-align: right;\">\n",
       "      <th></th>\n",
       "      <th>Undergrad</th>\n",
       "      <th>Marital.Status</th>\n",
       "      <th>Taxable.Income</th>\n",
       "      <th>City.Population</th>\n",
       "      <th>Work.Experience</th>\n",
       "      <th>Urban</th>\n",
       "    </tr>\n",
       "  </thead>\n",
       "  <tbody>\n",
       "    <tr>\n",
       "      <th>0</th>\n",
       "      <td>NO</td>\n",
       "      <td>Single</td>\n",
       "      <td>68833</td>\n",
       "      <td>50047</td>\n",
       "      <td>10</td>\n",
       "      <td>YES</td>\n",
       "    </tr>\n",
       "    <tr>\n",
       "      <th>1</th>\n",
       "      <td>YES</td>\n",
       "      <td>Divorced</td>\n",
       "      <td>33700</td>\n",
       "      <td>134075</td>\n",
       "      <td>18</td>\n",
       "      <td>YES</td>\n",
       "    </tr>\n",
       "    <tr>\n",
       "      <th>2</th>\n",
       "      <td>NO</td>\n",
       "      <td>Married</td>\n",
       "      <td>36925</td>\n",
       "      <td>160205</td>\n",
       "      <td>30</td>\n",
       "      <td>YES</td>\n",
       "    </tr>\n",
       "    <tr>\n",
       "      <th>3</th>\n",
       "      <td>YES</td>\n",
       "      <td>Single</td>\n",
       "      <td>50190</td>\n",
       "      <td>193264</td>\n",
       "      <td>15</td>\n",
       "      <td>YES</td>\n",
       "    </tr>\n",
       "    <tr>\n",
       "      <th>4</th>\n",
       "      <td>NO</td>\n",
       "      <td>Married</td>\n",
       "      <td>81002</td>\n",
       "      <td>27533</td>\n",
       "      <td>28</td>\n",
       "      <td>NO</td>\n",
       "    </tr>\n",
       "  </tbody>\n",
       "</table>\n",
       "</div>"
      ],
      "text/plain": [
       "  Undergrad Marital.Status  Taxable.Income  City.Population  Work.Experience  \\\n",
       "0        NO         Single           68833            50047               10   \n",
       "1       YES       Divorced           33700           134075               18   \n",
       "2        NO        Married           36925           160205               30   \n",
       "3       YES         Single           50190           193264               15   \n",
       "4        NO        Married           81002            27533               28   \n",
       "\n",
       "  Urban  \n",
       "0   YES  \n",
       "1   YES  \n",
       "2   YES  \n",
       "3   YES  \n",
       "4    NO  "
      ]
     },
     "execution_count": 3,
     "metadata": {},
     "output_type": "execute_result"
    }
   ],
   "source": [
    "fc_df.head()"
   ]
  },
  {
   "cell_type": "code",
   "execution_count": 4,
   "id": "69b644e7",
   "metadata": {},
   "outputs": [],
   "source": [
    "# Data Pre-processing"
   ]
  },
  {
   "cell_type": "code",
   "execution_count": 5,
   "id": "75c3c7ce",
   "metadata": {},
   "outputs": [],
   "source": [
    "fc_df=fc_df.rename({'Marital.Status':'Marital_Status',\n",
    "                     'Taxable.Income':'Taxable_Income',\n",
    "                      'City.Population':'City_Population',\n",
    "                       'Work.Experience':'Work_Experience'},axis=1)"
   ]
  },
  {
   "cell_type": "code",
   "execution_count": 6,
   "id": "d2c5673c",
   "metadata": {},
   "outputs": [],
   "source": [
    "# Converting categorical data to numerical\n",
    "label_encoder=preprocessing.LabelEncoder()\n",
    "fc_df['Undergrad']=label_encoder.fit_transform(fc_df['Undergrad'])\n",
    "fc_df['Marital_Status']=label_encoder.fit_transform(fc_df['Marital_Status'])\n",
    "fc_df['Urban']=label_encoder.fit_transform(fc_df['Urban'])"
   ]
  },
  {
   "cell_type": "code",
   "execution_count": 7,
   "id": "9c7c3b81",
   "metadata": {},
   "outputs": [
    {
     "data": {
      "text/html": [
       "<div>\n",
       "<style scoped>\n",
       "    .dataframe tbody tr th:only-of-type {\n",
       "        vertical-align: middle;\n",
       "    }\n",
       "\n",
       "    .dataframe tbody tr th {\n",
       "        vertical-align: top;\n",
       "    }\n",
       "\n",
       "    .dataframe thead th {\n",
       "        text-align: right;\n",
       "    }\n",
       "</style>\n",
       "<table border=\"1\" class=\"dataframe\">\n",
       "  <thead>\n",
       "    <tr style=\"text-align: right;\">\n",
       "      <th></th>\n",
       "      <th>Undergrad</th>\n",
       "      <th>Marital_Status</th>\n",
       "      <th>Taxable_Income</th>\n",
       "      <th>City_Population</th>\n",
       "      <th>Work_Experience</th>\n",
       "      <th>Urban</th>\n",
       "    </tr>\n",
       "  </thead>\n",
       "  <tbody>\n",
       "    <tr>\n",
       "      <th>0</th>\n",
       "      <td>0</td>\n",
       "      <td>2</td>\n",
       "      <td>68833</td>\n",
       "      <td>50047</td>\n",
       "      <td>10</td>\n",
       "      <td>1</td>\n",
       "    </tr>\n",
       "    <tr>\n",
       "      <th>1</th>\n",
       "      <td>1</td>\n",
       "      <td>0</td>\n",
       "      <td>33700</td>\n",
       "      <td>134075</td>\n",
       "      <td>18</td>\n",
       "      <td>1</td>\n",
       "    </tr>\n",
       "    <tr>\n",
       "      <th>2</th>\n",
       "      <td>0</td>\n",
       "      <td>1</td>\n",
       "      <td>36925</td>\n",
       "      <td>160205</td>\n",
       "      <td>30</td>\n",
       "      <td>1</td>\n",
       "    </tr>\n",
       "    <tr>\n",
       "      <th>3</th>\n",
       "      <td>1</td>\n",
       "      <td>2</td>\n",
       "      <td>50190</td>\n",
       "      <td>193264</td>\n",
       "      <td>15</td>\n",
       "      <td>1</td>\n",
       "    </tr>\n",
       "    <tr>\n",
       "      <th>4</th>\n",
       "      <td>0</td>\n",
       "      <td>1</td>\n",
       "      <td>81002</td>\n",
       "      <td>27533</td>\n",
       "      <td>28</td>\n",
       "      <td>0</td>\n",
       "    </tr>\n",
       "  </tbody>\n",
       "</table>\n",
       "</div>"
      ],
      "text/plain": [
       "   Undergrad  Marital_Status  Taxable_Income  City_Population  \\\n",
       "0          0               2           68833            50047   \n",
       "1          1               0           33700           134075   \n",
       "2          0               1           36925           160205   \n",
       "3          1               2           50190           193264   \n",
       "4          0               1           81002            27533   \n",
       "\n",
       "   Work_Experience  Urban  \n",
       "0               10      1  \n",
       "1               18      1  \n",
       "2               30      1  \n",
       "3               15      1  \n",
       "4               28      0  "
      ]
     },
     "execution_count": 7,
     "metadata": {},
     "output_type": "execute_result"
    }
   ],
   "source": [
    "fc_df.head()"
   ]
  },
  {
   "cell_type": "code",
   "execution_count": 8,
   "id": "1998b936",
   "metadata": {},
   "outputs": [],
   "source": [
    "# Creating dummy variables\n",
    "fc_df=pd.get_dummies(data=fc_df,\n",
    "                        columns=['Undergrad','Marital_Status','Urban'])"
   ]
  },
  {
   "cell_type": "code",
   "execution_count": 9,
   "id": "58228deb",
   "metadata": {},
   "outputs": [
    {
     "data": {
      "text/html": [
       "<div>\n",
       "<style scoped>\n",
       "    .dataframe tbody tr th:only-of-type {\n",
       "        vertical-align: middle;\n",
       "    }\n",
       "\n",
       "    .dataframe tbody tr th {\n",
       "        vertical-align: top;\n",
       "    }\n",
       "\n",
       "    .dataframe thead th {\n",
       "        text-align: right;\n",
       "    }\n",
       "</style>\n",
       "<table border=\"1\" class=\"dataframe\">\n",
       "  <thead>\n",
       "    <tr style=\"text-align: right;\">\n",
       "      <th></th>\n",
       "      <th>Taxable_Income</th>\n",
       "      <th>City_Population</th>\n",
       "      <th>Work_Experience</th>\n",
       "      <th>Undergrad_0</th>\n",
       "      <th>Undergrad_1</th>\n",
       "      <th>Marital_Status_0</th>\n",
       "      <th>Marital_Status_1</th>\n",
       "      <th>Marital_Status_2</th>\n",
       "      <th>Urban_0</th>\n",
       "      <th>Urban_1</th>\n",
       "    </tr>\n",
       "  </thead>\n",
       "  <tbody>\n",
       "    <tr>\n",
       "      <th>0</th>\n",
       "      <td>68833</td>\n",
       "      <td>50047</td>\n",
       "      <td>10</td>\n",
       "      <td>1</td>\n",
       "      <td>0</td>\n",
       "      <td>0</td>\n",
       "      <td>0</td>\n",
       "      <td>1</td>\n",
       "      <td>0</td>\n",
       "      <td>1</td>\n",
       "    </tr>\n",
       "    <tr>\n",
       "      <th>1</th>\n",
       "      <td>33700</td>\n",
       "      <td>134075</td>\n",
       "      <td>18</td>\n",
       "      <td>0</td>\n",
       "      <td>1</td>\n",
       "      <td>1</td>\n",
       "      <td>0</td>\n",
       "      <td>0</td>\n",
       "      <td>0</td>\n",
       "      <td>1</td>\n",
       "    </tr>\n",
       "    <tr>\n",
       "      <th>2</th>\n",
       "      <td>36925</td>\n",
       "      <td>160205</td>\n",
       "      <td>30</td>\n",
       "      <td>1</td>\n",
       "      <td>0</td>\n",
       "      <td>0</td>\n",
       "      <td>1</td>\n",
       "      <td>0</td>\n",
       "      <td>0</td>\n",
       "      <td>1</td>\n",
       "    </tr>\n",
       "    <tr>\n",
       "      <th>3</th>\n",
       "      <td>50190</td>\n",
       "      <td>193264</td>\n",
       "      <td>15</td>\n",
       "      <td>0</td>\n",
       "      <td>1</td>\n",
       "      <td>0</td>\n",
       "      <td>0</td>\n",
       "      <td>1</td>\n",
       "      <td>0</td>\n",
       "      <td>1</td>\n",
       "    </tr>\n",
       "    <tr>\n",
       "      <th>4</th>\n",
       "      <td>81002</td>\n",
       "      <td>27533</td>\n",
       "      <td>28</td>\n",
       "      <td>1</td>\n",
       "      <td>0</td>\n",
       "      <td>0</td>\n",
       "      <td>1</td>\n",
       "      <td>0</td>\n",
       "      <td>1</td>\n",
       "      <td>0</td>\n",
       "    </tr>\n",
       "  </tbody>\n",
       "</table>\n",
       "</div>"
      ],
      "text/plain": [
       "   Taxable_Income  City_Population  Work_Experience  Undergrad_0  Undergrad_1  \\\n",
       "0           68833            50047               10            1            0   \n",
       "1           33700           134075               18            0            1   \n",
       "2           36925           160205               30            1            0   \n",
       "3           50190           193264               15            0            1   \n",
       "4           81002            27533               28            1            0   \n",
       "\n",
       "   Marital_Status_0  Marital_Status_1  Marital_Status_2  Urban_0  Urban_1  \n",
       "0                 0                 0                 1        0        1  \n",
       "1                 1                 0                 0        0        1  \n",
       "2                 0                 1                 0        0        1  \n",
       "3                 0                 0                 1        0        1  \n",
       "4                 0                 1                 0        1        0  "
      ]
     },
     "execution_count": 9,
     "metadata": {},
     "output_type": "execute_result"
    }
   ],
   "source": [
    "fc_df.head()"
   ]
  },
  {
   "cell_type": "code",
   "execution_count": null,
   "id": "a81fee82",
   "metadata": {},
   "outputs": [],
   "source": [
    "# Converting Taxable income\n",
    "fc_df.Taxable_Income=pd.cut(fc_df.Taxable_Income,bins=[0,30000,100000],labels=['Risky','Good'])"
   ]
  },
  {
   "cell_type": "code",
   "execution_count": null,
   "id": "7a692ae4",
   "metadata": {},
   "outputs": [],
   "source": [
    "fc_df.head()"
   ]
  },
  {
   "cell_type": "code",
   "execution_count": null,
   "id": "1faf5177",
   "metadata": {},
   "outputs": [],
   "source": [
    "fc_df['Taxable_Income'].value_counts()"
   ]
  },
  {
   "cell_type": "code",
   "execution_count": null,
   "id": "543a950a",
   "metadata": {},
   "outputs": [],
   "source": [
    "# The classes are not balanced . So, we go for SMOTE "
   ]
  },
  {
   "cell_type": "markdown",
   "id": "7e7029e4",
   "metadata": {},
   "source": [
    "# SMOTE "
   ]
  },
  {
   "cell_type": "code",
   "execution_count": null,
   "id": "1689dc24",
   "metadata": {},
   "outputs": [],
   "source": [
    "#pip install imbalanced-learn"
   ]
  },
  {
   "cell_type": "code",
   "execution_count": null,
   "id": "6029fb55",
   "metadata": {},
   "outputs": [],
   "source": [
    "import imblearn \n",
    "\n",
    "from imblearn.over_sampling import SMOTE\n"
   ]
  },
  {
   "cell_type": "code",
   "execution_count": null,
   "id": "a87673b4",
   "metadata": {},
   "outputs": [],
   "source": [
    "x=fc_df.iloc[:,1:]\n",
    "y=fc_df.iloc[:,0]"
   ]
  },
  {
   "cell_type": "code",
   "execution_count": null,
   "id": "f6687baf",
   "metadata": {},
   "outputs": [],
   "source": [
    "sm =SMOTE(random_state = 100)# SMOTENC(categorical_features=[0,1,2,3,4,9,10], random_state = 100)\n",
    "x_sm,y_sm = sm.fit_resample(x, y)"
   ]
  },
  {
   "cell_type": "code",
   "execution_count": null,
   "id": "c9c9dcf3",
   "metadata": {},
   "outputs": [],
   "source": [
    "y_sm.value_counts()"
   ]
  },
  {
   "cell_type": "code",
   "execution_count": null,
   "id": "023f27b2",
   "metadata": {},
   "outputs": [],
   "source": [
    "# Train-test split"
   ]
  },
  {
   "cell_type": "code",
   "execution_count": null,
   "id": "a7f9221f",
   "metadata": {},
   "outputs": [],
   "source": [
    "x_train,x_test,y_train,y_test=train_test_split(x_sm,y_sm,test_size=0.2,\n",
    "                                                train_size=0.8,\n",
    "                                                shuffle=True,\n",
    "                                                random_state=40)"
   ]
  },
  {
   "cell_type": "code",
   "execution_count": null,
   "id": "87f202f3",
   "metadata": {},
   "outputs": [],
   "source": [
    "y_test.value_counts()"
   ]
  },
  {
   "cell_type": "code",
   "execution_count": null,
   "id": "3cf51b22",
   "metadata": {},
   "outputs": [],
   "source": []
  },
  {
   "cell_type": "code",
   "execution_count": null,
   "id": "2575541e",
   "metadata": {},
   "outputs": [],
   "source": []
  },
  {
   "cell_type": "markdown",
   "id": "dafee595",
   "metadata": {},
   "source": [
    "# M1 : Decision Tree using gini"
   ]
  },
  {
   "cell_type": "code",
   "execution_count": null,
   "id": "3583ac42",
   "metadata": {},
   "outputs": [],
   "source": [
    "m_dt_gini=DecisionTreeClassifier(criterion='gini',\n",
    "                                    max_depth=5,\n",
    "                                    min_samples_split=10,\n",
    "                                    random_state=40)\n",
    "m_dt_gini.fit(x_train,y_train)\n",
    "                                    "
   ]
  },
  {
   "cell_type": "code",
   "execution_count": null,
   "id": "e98187d6",
   "metadata": {},
   "outputs": [],
   "source": [
    "tree.plot_tree(m_dt_gini);"
   ]
  },
  {
   "cell_type": "code",
   "execution_count": null,
   "id": "4df1c5d7",
   "metadata": {},
   "outputs": [],
   "source": [
    "'''fn=['Undergrad','Marital_Status','City_Population','Work_Experience','Urban']\n",
    "cn=['Risky','Good']\n",
    "fig, axes = plt.subplots(nrows = 1,ncols = 1,figsize = (4,4), dpi=300)\n",
    "tree.plot_tree(m_dt_gini,\n",
    "               feature_names = fn, \n",
    "               class_names=cn,\n",
    "               filled = True);\n",
    "               '''"
   ]
  },
  {
   "cell_type": "code",
   "execution_count": null,
   "id": "3f1f784c",
   "metadata": {},
   "outputs": [],
   "source": [
    "#Predicting on test data\n",
    "preds_gini = m_dt_gini.predict(x_test) \n",
    "pd.Series(preds_gini).value_counts()"
   ]
  },
  {
   "cell_type": "code",
   "execution_count": null,
   "id": "6e918a11",
   "metadata": {},
   "outputs": [],
   "source": [
    "print(classification_report(y_test,preds_gini))"
   ]
  },
  {
   "cell_type": "markdown",
   "id": "40084006",
   "metadata": {},
   "source": [
    "# M2 : Decision Tree using Entropy"
   ]
  },
  {
   "cell_type": "code",
   "execution_count": null,
   "id": "d6e29d8f",
   "metadata": {},
   "outputs": [],
   "source": [
    "m_dt_entropy=DecisionTreeClassifier(criterion='entropy',\n",
    "                                        max_depth=6,\n",
    "                                        min_samples_split=10,\n",
    "                                        random_state=40)\n",
    "m_dt_entropy.fit(x_train,y_train)"
   ]
  },
  {
   "cell_type": "code",
   "execution_count": null,
   "id": "cfd44c54",
   "metadata": {},
   "outputs": [],
   "source": [
    "#Predicting on test data\n",
    "preds_entropy = m_dt_entropy.predict(x_test) \n",
    "pd.Series(preds_entropy).value_counts()"
   ]
  },
  {
   "cell_type": "code",
   "execution_count": null,
   "id": "ae517e77",
   "metadata": {},
   "outputs": [],
   "source": [
    "print(classification_report(y_test,preds_entropy))"
   ]
  },
  {
   "cell_type": "markdown",
   "id": "1f4831de",
   "metadata": {},
   "source": [
    "# M3:  Bagging"
   ]
  },
  {
   "cell_type": "code",
   "execution_count": null,
   "id": "ea4d5329",
   "metadata": {},
   "outputs": [],
   "source": [
    "from sklearn.ensemble import BaggingClassifier"
   ]
  },
  {
   "cell_type": "code",
   "execution_count": null,
   "id": "781ae5b9",
   "metadata": {},
   "outputs": [],
   "source": [
    "min_trees=50\n",
    "max_trees=500\n",
    "step_size=50"
   ]
  },
  {
   "cell_type": "code",
   "execution_count": null,
   "id": "e19ad927",
   "metadata": {},
   "outputs": [],
   "source": [
    "acc_list = []\n",
    "f1_list = []\n",
    "cart=DecisionTreeClassifier()\n",
    "for i in range(min_trees,max_trees,step_size):\n",
    "    num_trees = i\n",
    "    m_dt_bagging = BaggingClassifier( base_estimator=cart,max_samples=0.75,n_estimators=num_trees,random_state=8)#base_estimator=cart,\n",
    "    m_dt_bagging.fit(x_train,y_train)\n",
    "    preds_bagging = m_dt_bagging.predict(x_test)\n",
    "    acc_list.append(metrics.accuracy_score(y_test,preds_bagging))\n",
    "    f1_list.append(metrics.f1_score(y_test,preds_bagging,pos_label=\"Good\"))\n",
    "   \n",
    "    #print(\"acc after \" , i, \" is \",acc_list)\n",
    "    \n",
    "     # print(\"**************\")\n",
    "   # print(classification_report(y_test,preds_bagging))\n",
    "   # print(metrics.confusion_matrix(y_test,preds_bagging))\n",
    "   # print(\"Accuracy for \",i,\" trees : \",metrics.accuracy_score(y_test,preds_bagging))\n",
    "  "
   ]
  },
  {
   "cell_type": "code",
   "execution_count": null,
   "id": "29e1c373",
   "metadata": {},
   "outputs": [],
   "source": [
    "sns.lineplot(x=range(min_trees,max_trees,step_size),y=acc_list)"
   ]
  },
  {
   "cell_type": "code",
   "execution_count": null,
   "id": "73b005e9",
   "metadata": {},
   "outputs": [],
   "source": [
    "sns.lineplot(x=range(min_trees,max_trees,step_size),y=f1_list)"
   ]
  },
  {
   "cell_type": "markdown",
   "id": "7d1de4ed",
   "metadata": {},
   "source": [
    "# M4:  Random Forest "
   ]
  },
  {
   "cell_type": "code",
   "execution_count": null,
   "id": "0ff0fefa",
   "metadata": {},
   "outputs": [],
   "source": [
    "from sklearn.ensemble import RandomForestClassifier"
   ]
  },
  {
   "cell_type": "code",
   "execution_count": null,
   "id": "0aa2f2a0",
   "metadata": {},
   "outputs": [],
   "source": [
    "min_trees=50\n",
    "max_trees=500\n",
    "step_size=50\n",
    "max_featu=len(fc_df.columns)"
   ]
  },
  {
   "cell_type": "code",
   "execution_count": null,
   "id": "fd345beb",
   "metadata": {},
   "outputs": [],
   "source": [
    "acc_scores = []\n",
    "f1_scores = []\n",
    "\n",
    "for j in range(min_trees,max_trees,step_size):\n",
    "    \n",
    "    #print(\"For No of trees :\",j)\n",
    "    c_acc = []\n",
    "    c_f1 = []\n",
    "    \n",
    "    for i in range(2,max_featu):\n",
    "        num_trees = j\n",
    "        max_features = i\n",
    "        #print(\"no of features :\",i)\n",
    "        m_dt_randomForest = RandomForestClassifier(n_estimators=num_trees, max_features=max_features,random_state=8)\n",
    "        m_dt_randomForest.fit(x_train,y_train)\n",
    "        preds_rf = m_dt_randomForest.predict(x_test)\n",
    "        c_acc.append(metrics.accuracy_score(y_test,preds_rf))\n",
    "        c_f1.append(metrics.f1_score(y_test,preds_rf,pos_label='Good'))\n",
    "      \n",
    "    acc_scores.append(c_acc)\n",
    "    f1_scores.append(c_f1)\n",
    "   "
   ]
  },
  {
   "cell_type": "code",
   "execution_count": null,
   "id": "5112794b",
   "metadata": {},
   "outputs": [],
   "source": [
    "trees=min_trees\n",
    "for i in range(0,len(acc_scores)):\n",
    "    print(\"Max accuracy for :\" , trees,\" is \",max(acc_scores[i]))\n",
    "    trees+=step_size\n",
    "    #print(max(acc_scores[i]))\n",
    "        "
   ]
  },
  {
   "cell_type": "code",
   "execution_count": null,
   "id": "c2c4be93",
   "metadata": {},
   "outputs": [],
   "source": [
    "#for i in range(len(acc_scores[0])):\n",
    "#    sns.lineplot(x=range(2,max_features+1),y=acc_scores[i])"
   ]
  },
  {
   "cell_type": "code",
   "execution_count": null,
   "id": "f9671122",
   "metadata": {},
   "outputs": [],
   "source": []
  }
 ],
 "metadata": {
  "kernelspec": {
   "display_name": "Python 3 (ipykernel)",
   "language": "python",
   "name": "python3"
  },
  "language_info": {
   "codemirror_mode": {
    "name": "ipython",
    "version": 3
   },
   "file_extension": ".py",
   "mimetype": "text/x-python",
   "name": "python",
   "nbconvert_exporter": "python",
   "pygments_lexer": "ipython3",
   "version": "3.9.7"
  }
 },
 "nbformat": 4,
 "nbformat_minor": 5
}
