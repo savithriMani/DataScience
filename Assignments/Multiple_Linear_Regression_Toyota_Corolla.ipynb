{
 "cells": [
  {
   "cell_type": "code",
   "execution_count": null,
   "id": "819a5111",
   "metadata": {},
   "outputs": [],
   "source": [
    "import pandas as pd\n",
    "import matplotlib.pyplot as plt\n",
    "import seaborn as sns\n",
    "from statsmodels.graphics.regressionplots import influence_plot\n",
    "import statsmodels.formula.api as smf\n",
    "import numpy as np"
   ]
  },
  {
   "cell_type": "code",
   "execution_count": null,
   "id": "11bcffd4",
   "metadata": {},
   "outputs": [],
   "source": [
    "tc_df=pd.read_csv(\"ToyotaCorolla.csv\",encoding='latin1')\n",
    "tc_df.head()"
   ]
  },
  {
   "cell_type": "code",
   "execution_count": null,
   "id": "f1832633",
   "metadata": {},
   "outputs": [],
   "source": [
    "tc_df=tc_df[['Price','Age_08_04','KM','HP','cc','Doors','Gears','Quarterly_Tax','Weight']]\n",
    "tc_df"
   ]
  },
  {
   "cell_type": "code",
   "execution_count": null,
   "id": "060fe1d0",
   "metadata": {},
   "outputs": [],
   "source": [
    "tc_df=tc_df.rename({'Age_08_04':'Age'},axis=1)\n",
    "tc_df.head()"
   ]
  },
  {
   "cell_type": "markdown",
   "id": "185dbba5",
   "metadata": {},
   "source": [
    "# EDA"
   ]
  },
  {
   "cell_type": "code",
   "execution_count": null,
   "id": "b02891d7",
   "metadata": {},
   "outputs": [],
   "source": [
    "tc_df.info()"
   ]
  },
  {
   "cell_type": "code",
   "execution_count": null,
   "id": "8ad605f6",
   "metadata": {},
   "outputs": [],
   "source": [
    "tc_df.isnull().sum()"
   ]
  },
  {
   "cell_type": "code",
   "execution_count": null,
   "id": "6c0579e4",
   "metadata": {},
   "outputs": [],
   "source": [
    "# there are no null values"
   ]
  },
  {
   "cell_type": "code",
   "execution_count": null,
   "id": "0ba90b02",
   "metadata": {},
   "outputs": [],
   "source": [
    "labels=['Price','Age','KM','HP','cc','Doors','Gears','Quaterly_Tax','Weight']\n",
    "plt.figure(figsize=(12,8))\n",
    "plt.boxplot(tc_df,labels=labels)\n",
    "plt.show()"
   ]
  },
  {
   "cell_type": "code",
   "execution_count": null,
   "id": "49b00179",
   "metadata": {},
   "outputs": [],
   "source": [
    "km_box=plt.boxplot(tc_df.KM)"
   ]
  },
  {
   "cell_type": "code",
   "execution_count": null,
   "id": "8720fd3a",
   "metadata": {},
   "outputs": [],
   "source": [
    "[item.get_ydata() for item in km_box['fliers']]"
   ]
  },
  {
   "cell_type": "markdown",
   "id": "69811663",
   "metadata": {},
   "source": [
    "# Remove outliers"
   ]
  },
  {
   "cell_type": "code",
   "execution_count": null,
   "id": "801a72cf",
   "metadata": {},
   "outputs": [],
   "source": [
    "tc_df=tc_df[tc_df['KM']<150000]\n",
    "tc_df.shape"
   ]
  },
  {
   "cell_type": "code",
   "execution_count": null,
   "id": "0eabae84",
   "metadata": {},
   "outputs": [],
   "source": [
    "# Correlation analysis"
   ]
  },
  {
   "cell_type": "code",
   "execution_count": null,
   "id": "1a28655f",
   "metadata": {},
   "outputs": [],
   "source": [
    "tc_df.corr()"
   ]
  },
  {
   "cell_type": "code",
   "execution_count": null,
   "id": "a38e5b1a",
   "metadata": {},
   "outputs": [],
   "source": [
    "sns.pairplot(tc_df)"
   ]
  },
  {
   "cell_type": "code",
   "execution_count": null,
   "id": "f244660e",
   "metadata": {},
   "outputs": [],
   "source": [
    "# HP,cc,Doors+Gears+Quarterly"
   ]
  },
  {
   "cell_type": "markdown",
   "id": "53246530",
   "metadata": {},
   "source": [
    "# Model Building"
   ]
  },
  {
   "cell_type": "code",
   "execution_count": null,
   "id": "02b5cc63",
   "metadata": {},
   "outputs": [],
   "source": [
    "# MODEL :1"
   ]
  },
  {
   "cell_type": "code",
   "execution_count": null,
   "id": "a309b9f1",
   "metadata": {},
   "outputs": [],
   "source": [
    "import statsmodels.formula.api as smf\n",
    "model_basic=smf.ols('Price~Age+KM+HP+cc+Doors+Gears+Quarterly_Tax+Weight',data=tc_df).fit()\n",
    "model_basic.summary()"
   ]
  },
  {
   "cell_type": "code",
   "execution_count": null,
   "id": "e71641b8",
   "metadata": {},
   "outputs": [],
   "source": [
    "# Doors has no importance in building the model as it has probability of 0.968"
   ]
  },
  {
   "cell_type": "code",
   "execution_count": null,
   "id": "78b315c3",
   "metadata": {},
   "outputs": [],
   "source": [
    "pred_basic=model_basic.predict(tc_df)\n",
    "error_basic=pred_basic-tc_df.Price\n",
    "plt.hist(error_basic)"
   ]
  },
  {
   "cell_type": "code",
   "execution_count": null,
   "id": "6ddf8dd7",
   "metadata": {
    "scrolled": true
   },
   "outputs": [],
   "source": [
    "sns.scatterplot(x=tc_df.Price,y=error_basic,data=tc_df)"
   ]
  },
  {
   "cell_type": "markdown",
   "id": "91e83921",
   "metadata": {},
   "source": [
    "#RMSE "
   ]
  },
  {
   "cell_type": "code",
   "execution_count": null,
   "id": "88191a57",
   "metadata": {},
   "outputs": [],
   "source": [
    "def RMSE(actual,predicted):\n",
    "    error=actual-predicted\n",
    "    rmse_value=np.sqrt(np.mean(error*error))\n",
    "    return rmse_value"
   ]
  },
  {
   "cell_type": "code",
   "execution_count": null,
   "id": "cfd10145",
   "metadata": {},
   "outputs": [],
   "source": [
    "RMSE_basic=RMSE(tc_df.Price,pred_basic)\n",
    "RMSE_basic"
   ]
  },
  {
   "cell_type": "code",
   "execution_count": null,
   "id": "d2984b70",
   "metadata": {},
   "outputs": [],
   "source": [
    "# MODEL:2 (Deleting Doors)"
   ]
  },
  {
   "cell_type": "code",
   "execution_count": null,
   "id": "d6b06871",
   "metadata": {},
   "outputs": [],
   "source": [
    "model_del_Doors=smf.ols('Price~Age+KM+HP+cc+Gears+Quarterly_Tax+Weight',data=tc_df).fit()\n",
    "predict_del_Doors=model_del_Doors.predict(tc_df)\n",
    "model_del_Doors.summary()"
   ]
  },
  {
   "cell_type": "code",
   "execution_count": null,
   "id": "17354cd9",
   "metadata": {},
   "outputs": [],
   "source": [
    "RMSE_del_Doors=RMSE(tc_df.Price,predict_del_Doors)\n",
    "RMSE_del_Doors"
   ]
  },
  {
   "cell_type": "code",
   "execution_count": null,
   "id": "8fcda17b",
   "metadata": {},
   "outputs": [],
   "source": [
    "# MODEL :3 (Deleting Gears)"
   ]
  },
  {
   "cell_type": "code",
   "execution_count": null,
   "id": "fcda3e27",
   "metadata": {},
   "outputs": [],
   "source": [
    "model_del_Doors_Gears=smf.ols('Price~Age+KM+HP+cc+Quarterly_Tax+Weight',data=tc_df).fit()\n",
    "predict_del_Door_Gears=model_del_Doors_Gears.predict(tc_df)\n",
    "model_del_Doors_Gears.summary()"
   ]
  },
  {
   "cell_type": "code",
   "execution_count": null,
   "id": "401859e7",
   "metadata": {},
   "outputs": [],
   "source": [
    "RMSE_del_Doors_Gears=RMSE(tc_df.Price,predict_del_Door_Gears)\n",
    "RMSE_del_Doors_Gears"
   ]
  },
  {
   "cell_type": "code",
   "execution_count": null,
   "id": "30d1cee1",
   "metadata": {},
   "outputs": [],
   "source": [
    "# MODEL : 4 (Deleting cc)"
   ]
  },
  {
   "cell_type": "code",
   "execution_count": null,
   "id": "bc29142e",
   "metadata": {},
   "outputs": [],
   "source": [
    "model_del_Doors_Gears_cc=smf.ols('Price~Age+KM+HP+Quarterly_Tax+Weight',data=tc_df).fit()\n",
    "predict_del_Door_Gears_cc=model_del_Doors_Gears_cc.predict(tc_df)\n",
    "model_del_Doors_Gears_cc.summary()"
   ]
  },
  {
   "cell_type": "code",
   "execution_count": null,
   "id": "01f6b251",
   "metadata": {},
   "outputs": [],
   "source": [
    "RMSE_del_Doors_Gears_cc=RMSE(tc_df.Price,predict_del_Door_Gears_cc)\n",
    "RMSE_del_Doors_Gears_cc"
   ]
  },
  {
   "cell_type": "code",
   "execution_count": null,
   "id": "6d3c928e",
   "metadata": {},
   "outputs": [],
   "source": [
    "# MODEL :5 (Delete Quarterly Tax)"
   ]
  },
  {
   "cell_type": "code",
   "execution_count": null,
   "id": "2ccdabc1",
   "metadata": {},
   "outputs": [],
   "source": [
    "model_del_Doors_Gears_cc_QT=smf.ols('Price~Age+KM+HP+Weight',data=tc_df).fit()\n",
    "predict_del_Door_Gears_cc_QT=model_del_Doors_Gears_cc_QT.predict(tc_df)\n",
    "model_del_Doors_Gears_cc_QT.summary()"
   ]
  },
  {
   "cell_type": "code",
   "execution_count": null,
   "id": "4ad2e057",
   "metadata": {},
   "outputs": [],
   "source": [
    "RMSE_del_Doors_Gears_cc_QT=RMSE(tc_df.Price,predict_del_Door_Gears_cc_QT)\n",
    "RMSE_del_Doors_Gears_cc_QT"
   ]
  },
  {
   "cell_type": "code",
   "execution_count": null,
   "id": "6db670a1",
   "metadata": {},
   "outputs": [],
   "source": [
    "# MODEL : 6 (Delete HP)"
   ]
  },
  {
   "cell_type": "code",
   "execution_count": null,
   "id": "43197b20",
   "metadata": {},
   "outputs": [],
   "source": [
    "model_del_Doors_Gears_cc_hp=smf.ols('Price~Age+KM+Weight',data=tc_df).fit()\n",
    "predict_del_Door_Gears_cc_hp=model_del_Doors_Gears_cc_hp.predict(tc_df)\n",
    "model_del_Doors_Gears_cc_hp.summary()"
   ]
  },
  {
   "cell_type": "code",
   "execution_count": null,
   "id": "acc44fdd",
   "metadata": {},
   "outputs": [],
   "source": [
    "RMSE_del_Doors_Gears_cc_hp=RMSE(tc_df.Price,predict_del_Door_Gears_cc_hp)\n",
    "RMSE_del_Doors_Gears_cc_hp"
   ]
  },
  {
   "cell_type": "code",
   "execution_count": null,
   "id": "06865f5a",
   "metadata": {},
   "outputs": [],
   "source": [
    "# MODEL : 7 (Deleting KM)"
   ]
  },
  {
   "cell_type": "code",
   "execution_count": null,
   "id": "e083ad20",
   "metadata": {},
   "outputs": [],
   "source": [
    "model_del_Doors_Gears_cc_km=smf.ols('Price~Age+HP+Weight',data=tc_df).fit()\n",
    "predict_del_Door_Gears_cc_km=model_del_Doors_Gears_cc_km.predict(tc_df)\n",
    "model_del_Doors_Gears_cc_km.summary()"
   ]
  },
  {
   "cell_type": "code",
   "execution_count": null,
   "id": "e95ed9a5",
   "metadata": {},
   "outputs": [],
   "source": [
    "RMSE_del_Doors_Gears_cc_km=RMSE(tc_df.Price,predict_del_Door_Gears_cc_km)\n",
    "RMSE_del_Doors_Gears_cc_km"
   ]
  },
  {
   "cell_type": "code",
   "execution_count": null,
   "id": "62a13b6f",
   "metadata": {},
   "outputs": [],
   "source": [
    "# MODEL : 8 (dELETING BOTH KP AND HM)"
   ]
  },
  {
   "cell_type": "code",
   "execution_count": null,
   "id": "5b208d28",
   "metadata": {},
   "outputs": [],
   "source": [
    "model_del_Doors_Gears_cc_hp_KM=smf.ols('Price~Age+Weight',data=tc_df).fit()\n",
    "predict_del_Door_Gears_cc_hp_KM=model_del_Doors_Gears_cc_hp_KM.predict(tc_df)\n",
    "model_del_Doors_Gears_cc_hp_KM.summary()"
   ]
  },
  {
   "cell_type": "code",
   "execution_count": null,
   "id": "6850d137",
   "metadata": {},
   "outputs": [],
   "source": [
    "RMSE_del_Door_Gears_cc_hp_KM=RMSE(tc_df.Price,predict_del_Door_Gears_cc_hp_KM)\n",
    "RMSE_del_Door_Gears_cc_hp_KM"
   ]
  },
  {
   "cell_type": "code",
   "execution_count": null,
   "id": "962ef04c",
   "metadata": {},
   "outputs": [],
   "source": [
    "# MODEL :9 (Deleting weight)"
   ]
  },
  {
   "cell_type": "code",
   "execution_count": null,
   "id": "b60c3eed",
   "metadata": {},
   "outputs": [],
   "source": [
    "model_del_Doors_Gears_cc_QT_Wgt=smf.ols('Price~Age+KM+HP',data=tc_df).fit()\n",
    "predict_del_Door_Gears_cc_QT_Wgt=model_del_Doors_Gears_cc_QT_Wgt.predict(tc_df)\n",
    "model_del_Doors_Gears_cc_QT_Wgt.summary()"
   ]
  },
  {
   "cell_type": "code",
   "execution_count": null,
   "id": "0b9a4694",
   "metadata": {},
   "outputs": [],
   "source": [
    "RMSE_del_Door_Gears_cc_QT_Wgt=RMSE(tc_df.Price,predict_del_Door_Gears_cc_QT_Wgt)\n",
    "RMSE_del_Door_Gears_cc_QT_Wgt"
   ]
  },
  {
   "cell_type": "markdown",
   "id": "aa9ecfb2",
   "metadata": {},
   "source": [
    "# Detecting row outliers by COOKS Distance and H leverage method"
   ]
  },
  {
   "cell_type": "code",
   "execution_count": null,
   "id": "47596978",
   "metadata": {},
   "outputs": [],
   "source": [
    "model_influence = model_del_Doors_Gears_cc_QT.get_influence()\n",
    "(c, _) = model_influence.cooks_distance\n",
    "c"
   ]
  },
  {
   "cell_type": "code",
   "execution_count": null,
   "id": "146efe50",
   "metadata": {},
   "outputs": [],
   "source": [
    "#Plot the influencers values using stem plot\n",
    "fig = plt.subplots(figsize=(20, 7))\n",
    "plt.stem(np.arange(len(tc_df)), np.round(c, 3))\n",
    "plt.xlabel('Row index')\n",
    "plt.ylabel('Cooks Distance')\n",
    "plt.show()"
   ]
  },
  {
   "cell_type": "code",
   "execution_count": null,
   "id": "e4de8f5e",
   "metadata": {},
   "outputs": [],
   "source": [
    "(np.argmax(c),np.max(c))"
   ]
  },
  {
   "cell_type": "code",
   "execution_count": null,
   "id": "7b27ff55",
   "metadata": {},
   "outputs": [],
   "source": [
    "# H LEVERAGE METHOD TO FIND THE OUTLIERS"
   ]
  },
  {
   "cell_type": "code",
   "execution_count": null,
   "id": "70457374",
   "metadata": {},
   "outputs": [],
   "source": [
    "from statsmodels.graphics.regressionplots import influence_plot\n",
    "influence_plot(model_del_Doors_Gears_cc_QT)\n",
    "plt.show()"
   ]
  },
  {
   "cell_type": "code",
   "execution_count": null,
   "id": "0f8629a5",
   "metadata": {},
   "outputs": [],
   "source": [
    "### Cutoff value after which we can remove the observations\n",
    "\n",
    "k = tc_df.shape[1]\n",
    "n = tc_df.shape[0]\n",
    "leverage_cutoff = 3*((k + 1)/n)\n",
    "leverage_cutoff"
   ]
  },
  {
   "cell_type": "code",
   "execution_count": null,
   "id": "983cb482",
   "metadata": {},
   "outputs": [],
   "source": [
    "tc_df=tc_df.drop(tc_df.index[[221,215,960,601]],axis=0)\n",
    "tc_df.shape"
   ]
  },
  {
   "cell_type": "code",
   "execution_count": null,
   "id": "04fe8413",
   "metadata": {},
   "outputs": [],
   "source": [
    "model_final=smf.ols('Price~Age+KM+HP+Weight',data=tc_df).fit()\n",
    "predict_final=model_final.predict(tc_df)\n",
    "model_del_Doors_Gears_cc_QT.summary()"
   ]
  },
  {
   "cell_type": "code",
   "execution_count": null,
   "id": "f0f44639",
   "metadata": {},
   "outputs": [],
   "source": [
    "RMSE_final=RMSE(tc_df.Price,predict_final)\n",
    "RMSE_final"
   ]
  },
  {
   "cell_type": "code",
   "execution_count": null,
   "id": "d7504e3f",
   "metadata": {},
   "outputs": [],
   "source": [
    "df_rsqr={'Models':['Basic model','Deleting Doors','Deleting Gears','Deleting cc','Deleting Quarterly Tax ','Deleting hp',\n",
    "                   'Deleting km','Deleting hp & km','Deleting Weight','Final Model'],\n",
    "         'R Squared':[model_basic.rsquared,model_del_Doors.rsquared,model_del_Doors_Gears.rsquared,\n",
    "                      model_del_Doors_Gears_cc.rsquared,model_del_Doors_Gears_cc_QT.rsquared,model_del_Doors_Gears_cc_hp.rsquared,\n",
    "                      model_del_Doors_Gears_cc_km.rsquared,model_del_Doors_Gears_cc_hp_KM.rsquared,model_del_Doors_Gears_cc_QT_Wgt.rsquared,model_final.rsquared ],\n",
    "         'AIC' :[model_basic.aic,model_del_Doors.aic,model_del_Doors_Gears.aic,\n",
    "                      model_del_Doors_Gears_cc.aic,model_del_Doors_Gears_cc_QT.aic,model_del_Doors_Gears_cc_hp.aic,\n",
    "                      model_del_Doors_Gears_cc_km.aic,model_del_Doors_Gears_cc_hp_KM.aic,model_del_Doors_Gears_cc_QT_Wgt.aic,model_final.aic],\n",
    "         'RMSE':[RMSE_basic,RMSE_del_Doors,RMSE_del_Doors_Gears,RMSE_del_Doors_Gears_cc, RMSE_del_Doors_Gears_cc_QT,\n",
    "                 RMSE_del_Doors_Gears_cc_hp,RMSE_del_Doors_Gears_cc_km,RMSE_del_Door_Gears_cc_hp_KM,\n",
    "                 RMSE_del_Door_Gears_cc_QT_Wgt,RMSE_final]\n",
    "        }\n",
    "rsqr_df=pd.DataFrame(df_rsqr)\n",
    "rsqr_df"
   ]
  },
  {
   "cell_type": "code",
   "execution_count": null,
   "id": "e112ff4d",
   "metadata": {},
   "outputs": [],
   "source": []
  },
  {
   "cell_type": "code",
   "execution_count": null,
   "id": "eb736476",
   "metadata": {},
   "outputs": [],
   "source": [
    "# Since after deleting the quarterly tax we have high R squared value and less RMSE value , we considered that as a better model\n",
    "# and continued to remove the row outliers and build a final model.\n",
    "\n",
    "\n",
    "# The final Model had highest R squared value and least RMSE value out of the built models"
   ]
  },
  {
   "cell_type": "code",
   "execution_count": null,
   "id": "8e9b2ee2",
   "metadata": {},
   "outputs": [],
   "source": [
    "error_final=model_final.predict(tc_df)-tc_df.Price\n",
    "plt.hist(error_final)"
   ]
  },
  {
   "cell_type": "code",
   "execution_count": null,
   "id": "5de4c729",
   "metadata": {},
   "outputs": [],
   "source": [
    "\n",
    "error_plt=sns.scatterplot(x=tc_df.Price,y=error_final,data=tc_df)\n",
    "error_plt.set(xlabel=\"Given Price\",ylabel=\"Predicted price\",title=\"Residual Plot\")\n"
   ]
  },
  {
   "cell_type": "code",
   "execution_count": null,
   "id": "50bad635",
   "metadata": {},
   "outputs": [],
   "source": []
  }
 ],
 "metadata": {
  "kernelspec": {
   "display_name": "Python 3 (ipykernel)",
   "language": "python",
   "name": "python3"
  },
  "language_info": {
   "codemirror_mode": {
    "name": "ipython",
    "version": 3
   },
   "file_extension": ".py",
   "mimetype": "text/x-python",
   "name": "python",
   "nbconvert_exporter": "python",
   "pygments_lexer": "ipython3",
   "version": "3.9.7"
  }
 },
 "nbformat": 4,
 "nbformat_minor": 5
}
