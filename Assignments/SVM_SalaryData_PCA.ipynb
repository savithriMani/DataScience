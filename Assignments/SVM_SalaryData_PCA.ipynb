{
 "cells": [
  {
   "cell_type": "code",
   "execution_count": 1,
   "id": "357ff5f6",
   "metadata": {},
   "outputs": [],
   "source": [
    "import pandas as pd\n",
    "import numpy as np\n",
    "import seaborn as sns\n",
    "import matplotlib.pyplot as plt\n",
    "from sklearn import svm\n",
    "from sklearn import preprocessing\n",
    "from sklearn.model_selection import train_test_split\n",
    "from sklearn.model_selection import GridSearchCV\n",
    "from sklearn import metrics\n"
   ]
  },
  {
   "cell_type": "code",
   "execution_count": 2,
   "id": "34c40841",
   "metadata": {},
   "outputs": [],
   "source": [
    "salary_test_df=pd.read_csv(\"C:\\\\Users\\\\Mani\\\\Desktop\\\\DataScience\\\\Assignments\\\\Naive_Bayes\\\\SalaryData_Test.csv\")\n",
    "salary_train_df=pd.read_csv(\"C:\\\\Users\\\\Mani\\\\Desktop\\\\DataScience\\\\Assignments\\\\Naive_Bayes\\\\SalaryData_Train.csv\")"
   ]
  },
  {
   "cell_type": "code",
   "execution_count": 3,
   "id": "bbd26f81",
   "metadata": {},
   "outputs": [
    {
     "data": {
      "text/html": [
       "<div>\n",
       "<style scoped>\n",
       "    .dataframe tbody tr th:only-of-type {\n",
       "        vertical-align: middle;\n",
       "    }\n",
       "\n",
       "    .dataframe tbody tr th {\n",
       "        vertical-align: top;\n",
       "    }\n",
       "\n",
       "    .dataframe thead th {\n",
       "        text-align: right;\n",
       "    }\n",
       "</style>\n",
       "<table border=\"1\" class=\"dataframe\">\n",
       "  <thead>\n",
       "    <tr style=\"text-align: right;\">\n",
       "      <th></th>\n",
       "      <th>age</th>\n",
       "      <th>workclass</th>\n",
       "      <th>education</th>\n",
       "      <th>educationno</th>\n",
       "      <th>maritalstatus</th>\n",
       "      <th>occupation</th>\n",
       "      <th>relationship</th>\n",
       "      <th>race</th>\n",
       "      <th>sex</th>\n",
       "      <th>capitalgain</th>\n",
       "      <th>capitalloss</th>\n",
       "      <th>hoursperweek</th>\n",
       "      <th>native</th>\n",
       "      <th>Salary</th>\n",
       "    </tr>\n",
       "  </thead>\n",
       "  <tbody>\n",
       "    <tr>\n",
       "      <th>0</th>\n",
       "      <td>25</td>\n",
       "      <td>Private</td>\n",
       "      <td>11th</td>\n",
       "      <td>7</td>\n",
       "      <td>Never-married</td>\n",
       "      <td>Machine-op-inspct</td>\n",
       "      <td>Own-child</td>\n",
       "      <td>Black</td>\n",
       "      <td>Male</td>\n",
       "      <td>0</td>\n",
       "      <td>0</td>\n",
       "      <td>40</td>\n",
       "      <td>United-States</td>\n",
       "      <td>&lt;=50K</td>\n",
       "    </tr>\n",
       "    <tr>\n",
       "      <th>1</th>\n",
       "      <td>38</td>\n",
       "      <td>Private</td>\n",
       "      <td>HS-grad</td>\n",
       "      <td>9</td>\n",
       "      <td>Married-civ-spouse</td>\n",
       "      <td>Farming-fishing</td>\n",
       "      <td>Husband</td>\n",
       "      <td>White</td>\n",
       "      <td>Male</td>\n",
       "      <td>0</td>\n",
       "      <td>0</td>\n",
       "      <td>50</td>\n",
       "      <td>United-States</td>\n",
       "      <td>&lt;=50K</td>\n",
       "    </tr>\n",
       "    <tr>\n",
       "      <th>2</th>\n",
       "      <td>28</td>\n",
       "      <td>Local-gov</td>\n",
       "      <td>Assoc-acdm</td>\n",
       "      <td>12</td>\n",
       "      <td>Married-civ-spouse</td>\n",
       "      <td>Protective-serv</td>\n",
       "      <td>Husband</td>\n",
       "      <td>White</td>\n",
       "      <td>Male</td>\n",
       "      <td>0</td>\n",
       "      <td>0</td>\n",
       "      <td>40</td>\n",
       "      <td>United-States</td>\n",
       "      <td>&gt;50K</td>\n",
       "    </tr>\n",
       "    <tr>\n",
       "      <th>3</th>\n",
       "      <td>44</td>\n",
       "      <td>Private</td>\n",
       "      <td>Some-college</td>\n",
       "      <td>10</td>\n",
       "      <td>Married-civ-spouse</td>\n",
       "      <td>Machine-op-inspct</td>\n",
       "      <td>Husband</td>\n",
       "      <td>Black</td>\n",
       "      <td>Male</td>\n",
       "      <td>7688</td>\n",
       "      <td>0</td>\n",
       "      <td>40</td>\n",
       "      <td>United-States</td>\n",
       "      <td>&gt;50K</td>\n",
       "    </tr>\n",
       "    <tr>\n",
       "      <th>4</th>\n",
       "      <td>34</td>\n",
       "      <td>Private</td>\n",
       "      <td>10th</td>\n",
       "      <td>6</td>\n",
       "      <td>Never-married</td>\n",
       "      <td>Other-service</td>\n",
       "      <td>Not-in-family</td>\n",
       "      <td>White</td>\n",
       "      <td>Male</td>\n",
       "      <td>0</td>\n",
       "      <td>0</td>\n",
       "      <td>30</td>\n",
       "      <td>United-States</td>\n",
       "      <td>&lt;=50K</td>\n",
       "    </tr>\n",
       "  </tbody>\n",
       "</table>\n",
       "</div>"
      ],
      "text/plain": [
       "   age   workclass      education  educationno        maritalstatus  \\\n",
       "0   25     Private           11th            7        Never-married   \n",
       "1   38     Private        HS-grad            9   Married-civ-spouse   \n",
       "2   28   Local-gov     Assoc-acdm           12   Married-civ-spouse   \n",
       "3   44     Private   Some-college           10   Married-civ-spouse   \n",
       "4   34     Private           10th            6        Never-married   \n",
       "\n",
       "           occupation    relationship    race    sex  capitalgain  \\\n",
       "0   Machine-op-inspct       Own-child   Black   Male            0   \n",
       "1     Farming-fishing         Husband   White   Male            0   \n",
       "2     Protective-serv         Husband   White   Male            0   \n",
       "3   Machine-op-inspct         Husband   Black   Male         7688   \n",
       "4       Other-service   Not-in-family   White   Male            0   \n",
       "\n",
       "   capitalloss  hoursperweek          native  Salary  \n",
       "0            0            40   United-States   <=50K  \n",
       "1            0            50   United-States   <=50K  \n",
       "2            0            40   United-States    >50K  \n",
       "3            0            40   United-States    >50K  \n",
       "4            0            30   United-States   <=50K  "
      ]
     },
     "execution_count": 3,
     "metadata": {},
     "output_type": "execute_result"
    }
   ],
   "source": [
    "salary_test_df.head()"
   ]
  },
  {
   "cell_type": "code",
   "execution_count": 4,
   "id": "3a54963b",
   "metadata": {},
   "outputs": [
    {
     "data": {
      "text/html": [
       "<div>\n",
       "<style scoped>\n",
       "    .dataframe tbody tr th:only-of-type {\n",
       "        vertical-align: middle;\n",
       "    }\n",
       "\n",
       "    .dataframe tbody tr th {\n",
       "        vertical-align: top;\n",
       "    }\n",
       "\n",
       "    .dataframe thead th {\n",
       "        text-align: right;\n",
       "    }\n",
       "</style>\n",
       "<table border=\"1\" class=\"dataframe\">\n",
       "  <thead>\n",
       "    <tr style=\"text-align: right;\">\n",
       "      <th></th>\n",
       "      <th>age</th>\n",
       "      <th>workclass</th>\n",
       "      <th>education</th>\n",
       "      <th>educationno</th>\n",
       "      <th>maritalstatus</th>\n",
       "      <th>occupation</th>\n",
       "      <th>relationship</th>\n",
       "      <th>race</th>\n",
       "      <th>sex</th>\n",
       "      <th>capitalgain</th>\n",
       "      <th>capitalloss</th>\n",
       "      <th>hoursperweek</th>\n",
       "      <th>native</th>\n",
       "      <th>Salary</th>\n",
       "    </tr>\n",
       "  </thead>\n",
       "  <tbody>\n",
       "    <tr>\n",
       "      <th>0</th>\n",
       "      <td>39</td>\n",
       "      <td>State-gov</td>\n",
       "      <td>Bachelors</td>\n",
       "      <td>13</td>\n",
       "      <td>Never-married</td>\n",
       "      <td>Adm-clerical</td>\n",
       "      <td>Not-in-family</td>\n",
       "      <td>White</td>\n",
       "      <td>Male</td>\n",
       "      <td>2174</td>\n",
       "      <td>0</td>\n",
       "      <td>40</td>\n",
       "      <td>United-States</td>\n",
       "      <td>&lt;=50K</td>\n",
       "    </tr>\n",
       "    <tr>\n",
       "      <th>1</th>\n",
       "      <td>50</td>\n",
       "      <td>Self-emp-not-inc</td>\n",
       "      <td>Bachelors</td>\n",
       "      <td>13</td>\n",
       "      <td>Married-civ-spouse</td>\n",
       "      <td>Exec-managerial</td>\n",
       "      <td>Husband</td>\n",
       "      <td>White</td>\n",
       "      <td>Male</td>\n",
       "      <td>0</td>\n",
       "      <td>0</td>\n",
       "      <td>13</td>\n",
       "      <td>United-States</td>\n",
       "      <td>&lt;=50K</td>\n",
       "    </tr>\n",
       "    <tr>\n",
       "      <th>2</th>\n",
       "      <td>38</td>\n",
       "      <td>Private</td>\n",
       "      <td>HS-grad</td>\n",
       "      <td>9</td>\n",
       "      <td>Divorced</td>\n",
       "      <td>Handlers-cleaners</td>\n",
       "      <td>Not-in-family</td>\n",
       "      <td>White</td>\n",
       "      <td>Male</td>\n",
       "      <td>0</td>\n",
       "      <td>0</td>\n",
       "      <td>40</td>\n",
       "      <td>United-States</td>\n",
       "      <td>&lt;=50K</td>\n",
       "    </tr>\n",
       "    <tr>\n",
       "      <th>3</th>\n",
       "      <td>53</td>\n",
       "      <td>Private</td>\n",
       "      <td>11th</td>\n",
       "      <td>7</td>\n",
       "      <td>Married-civ-spouse</td>\n",
       "      <td>Handlers-cleaners</td>\n",
       "      <td>Husband</td>\n",
       "      <td>Black</td>\n",
       "      <td>Male</td>\n",
       "      <td>0</td>\n",
       "      <td>0</td>\n",
       "      <td>40</td>\n",
       "      <td>United-States</td>\n",
       "      <td>&lt;=50K</td>\n",
       "    </tr>\n",
       "    <tr>\n",
       "      <th>4</th>\n",
       "      <td>28</td>\n",
       "      <td>Private</td>\n",
       "      <td>Bachelors</td>\n",
       "      <td>13</td>\n",
       "      <td>Married-civ-spouse</td>\n",
       "      <td>Prof-specialty</td>\n",
       "      <td>Wife</td>\n",
       "      <td>Black</td>\n",
       "      <td>Female</td>\n",
       "      <td>0</td>\n",
       "      <td>0</td>\n",
       "      <td>40</td>\n",
       "      <td>Cuba</td>\n",
       "      <td>&lt;=50K</td>\n",
       "    </tr>\n",
       "  </tbody>\n",
       "</table>\n",
       "</div>"
      ],
      "text/plain": [
       "   age          workclass   education  educationno        maritalstatus  \\\n",
       "0   39          State-gov   Bachelors           13        Never-married   \n",
       "1   50   Self-emp-not-inc   Bachelors           13   Married-civ-spouse   \n",
       "2   38            Private     HS-grad            9             Divorced   \n",
       "3   53            Private        11th            7   Married-civ-spouse   \n",
       "4   28            Private   Bachelors           13   Married-civ-spouse   \n",
       "\n",
       "           occupation    relationship    race      sex  capitalgain  \\\n",
       "0        Adm-clerical   Not-in-family   White     Male         2174   \n",
       "1     Exec-managerial         Husband   White     Male            0   \n",
       "2   Handlers-cleaners   Not-in-family   White     Male            0   \n",
       "3   Handlers-cleaners         Husband   Black     Male            0   \n",
       "4      Prof-specialty            Wife   Black   Female            0   \n",
       "\n",
       "   capitalloss  hoursperweek          native  Salary  \n",
       "0            0            40   United-States   <=50K  \n",
       "1            0            13   United-States   <=50K  \n",
       "2            0            40   United-States   <=50K  \n",
       "3            0            40   United-States   <=50K  \n",
       "4            0            40            Cuba   <=50K  "
      ]
     },
     "execution_count": 4,
     "metadata": {},
     "output_type": "execute_result"
    }
   ],
   "source": [
    "salary_train_df.head()"
   ]
  },
  {
   "cell_type": "code",
   "execution_count": 5,
   "id": "cffb6e77",
   "metadata": {},
   "outputs": [
    {
     "name": "stdout",
     "output_type": "stream",
     "text": [
      "<class 'pandas.core.frame.DataFrame'>\n",
      "RangeIndex: 15060 entries, 0 to 15059\n",
      "Data columns (total 14 columns):\n",
      " #   Column         Non-Null Count  Dtype \n",
      "---  ------         --------------  ----- \n",
      " 0   age            15060 non-null  int64 \n",
      " 1   workclass      15060 non-null  object\n",
      " 2   education      15060 non-null  object\n",
      " 3   educationno    15060 non-null  int64 \n",
      " 4   maritalstatus  15060 non-null  object\n",
      " 5   occupation     15060 non-null  object\n",
      " 6   relationship   15060 non-null  object\n",
      " 7   race           15060 non-null  object\n",
      " 8   sex            15060 non-null  object\n",
      " 9   capitalgain    15060 non-null  int64 \n",
      " 10  capitalloss    15060 non-null  int64 \n",
      " 11  hoursperweek   15060 non-null  int64 \n",
      " 12  native         15060 non-null  object\n",
      " 13  Salary         15060 non-null  object\n",
      "dtypes: int64(5), object(9)\n",
      "memory usage: 1.6+ MB\n"
     ]
    }
   ],
   "source": [
    "salary_test_df.info()"
   ]
  },
  {
   "cell_type": "code",
   "execution_count": 6,
   "id": "3f55dab6",
   "metadata": {},
   "outputs": [
    {
     "name": "stdout",
     "output_type": "stream",
     "text": [
      "<class 'pandas.core.frame.DataFrame'>\n",
      "RangeIndex: 30161 entries, 0 to 30160\n",
      "Data columns (total 14 columns):\n",
      " #   Column         Non-Null Count  Dtype \n",
      "---  ------         --------------  ----- \n",
      " 0   age            30161 non-null  int64 \n",
      " 1   workclass      30161 non-null  object\n",
      " 2   education      30161 non-null  object\n",
      " 3   educationno    30161 non-null  int64 \n",
      " 4   maritalstatus  30161 non-null  object\n",
      " 5   occupation     30161 non-null  object\n",
      " 6   relationship   30161 non-null  object\n",
      " 7   race           30161 non-null  object\n",
      " 8   sex            30161 non-null  object\n",
      " 9   capitalgain    30161 non-null  int64 \n",
      " 10  capitalloss    30161 non-null  int64 \n",
      " 11  hoursperweek   30161 non-null  int64 \n",
      " 12  native         30161 non-null  object\n",
      " 13  Salary         30161 non-null  object\n",
      "dtypes: int64(5), object(9)\n",
      "memory usage: 3.2+ MB\n"
     ]
    }
   ],
   "source": [
    "salary_train_df.info()"
   ]
  },
  {
   "cell_type": "code",
   "execution_count": 7,
   "id": "6fc6f2a7",
   "metadata": {},
   "outputs": [],
   "source": [
    "# no null values in the dataset"
   ]
  },
  {
   "cell_type": "markdown",
   "id": "1e4c7611",
   "metadata": {},
   "source": [
    "# EDA"
   ]
  },
  {
   "cell_type": "code",
   "execution_count": 8,
   "id": "82df096e",
   "metadata": {},
   "outputs": [
    {
     "data": {
      "text/plain": [
       "<AxesSubplot:xlabel='age', ylabel='Count'>"
      ]
     },
     "execution_count": 8,
     "metadata": {},
     "output_type": "execute_result"
    },
    {
     "data": {
      "image/png": "[encoded data removed]",
      "text/plain": [
       "<Figure size 432x288 with 1 Axes>"
      ]
     },
     "metadata": {
      "needs_background": "light"
     },
     "output_type": "display_data"
    }
   ],
   "source": [
    "sns.histplot(salary_train_df['age'])"
   ]
  },
  {
   "cell_type": "markdown",
   "id": "9983615e",
   "metadata": {},
   "source": [
    "Most od the data has an age group of 20 to 50 "
   ]
  },
  {
   "cell_type": "code",
   "execution_count": 9,
   "id": "c7633f5b",
   "metadata": {},
   "outputs": [
    {
     "data": {
      "text/plain": [
       "[Text(0, 0, ' State-gov'),\n",
       " Text(1, 0, ' Self-emp-not-inc'),\n",
       " Text(2, 0, ' Private'),\n",
       " Text(3, 0, ' Federal-gov'),\n",
       " Text(4, 0, ' Local-gov'),\n",
       " Text(5, 0, ' Self-emp-inc'),\n",
       " Text(6, 0, ' Without-pay')]"
      ]
     },
     "execution_count": 9,
     "metadata": {},
     "output_type": "execute_result"
    },
    {
     "data": {
      "image/png": "[encoded data removed]",
      "text/plain": [
       "<Figure size 432x288 with 1 Axes>"
      ]
     },
     "metadata": {
      "needs_background": "light"
     },
     "output_type": "display_data"
    }
   ],
   "source": [
    "wc=sns.countplot(x=salary_train_df['workclass'],hue=salary_train_df['Salary'],data=salary_train_df)\n",
    "wc.set_xticklabels(wc.get_xticklabels(), rotation=45)"
   ]
  },
  {
   "cell_type": "markdown",
   "id": "50d3e43a",
   "metadata": {},
   "source": [
    "1.Most of the salaried people are into private sector\n",
    "\n",
    "2.People who have less than 50k salary are also more in private sector only"
   ]
  },
  {
   "cell_type": "code",
   "execution_count": 10,
   "id": "c84fa3ab",
   "metadata": {},
   "outputs": [
    {
     "data": {
      "text/plain": [
       "[Text(0, 0, ' Bachelors'),\n",
       " Text(1, 0, ' HS-grad'),\n",
       " Text(2, 0, ' 11th'),\n",
       " Text(3, 0, ' Masters'),\n",
       " Text(4, 0, ' 9th'),\n",
       " Text(5, 0, ' Some-college'),\n",
       " Text(6, 0, ' Assoc-acdm'),\n",
       " Text(7, 0, ' 7th-8th'),\n",
       " Text(8, 0, ' Doctorate'),\n",
       " Text(9, 0, ' Assoc-voc'),\n",
       " Text(10, 0, ' Prof-school'),\n",
       " Text(11, 0, ' 5th-6th'),\n",
       " Text(12, 0, ' 10th'),\n",
       " Text(13, 0, ' Preschool'),\n",
       " Text(14, 0, ' 12th'),\n",
       " Text(15, 0, ' 1st-4th')]"
      ]
     },
     "execution_count": 10,
     "metadata": {},
     "output_type": "execute_result"
    },
    {
     "data": {
      "image/png": "[encoded data removed]",
      "text/plain": [
       "<Figure size 720x576 with 1 Axes>"
      ]
     },
     "metadata": {
      "needs_background": "light"
     },
     "output_type": "display_data"
    }
   ],
   "source": [
    "plt.figure(figsize=(10,8))\n",
    "edu=sns.countplot(x=salary_train_df['education'],hue=salary_train_df['Salary'],data=salary_train_df)\n",
    "edu.set_xticklabels(edu.get_xticklabels(), rotation=45)"
   ]
  },
  {
   "cell_type": "markdown",
   "id": "9e8a5e70",
   "metadata": {},
   "source": [
    "1. Most of the people who earn less than 50k are High School Graduated and the next highest are from some other college and next \n",
    "highest hold a Bachelors degree\n",
    "\n",
    "2. Least are from preschool for income of less than 50k"
   ]
  },
  {
   "cell_type": "code",
   "execution_count": 11,
   "id": "018cdcdb",
   "metadata": {},
   "outputs": [
    {
     "data": {
      "text/plain": [
       "[Text(0, 0, '1'),\n",
       " Text(1, 0, '2'),\n",
       " Text(2, 0, '3'),\n",
       " Text(3, 0, '4'),\n",
       " Text(4, 0, '5'),\n",
       " Text(5, 0, '6'),\n",
       " Text(6, 0, '7'),\n",
       " Text(7, 0, '8'),\n",
       " Text(8, 0, '9'),\n",
       " Text(9, 0, '10'),\n",
       " Text(10, 0, '11'),\n",
       " Text(11, 0, '12'),\n",
       " Text(12, 0, '13'),\n",
       " Text(13, 0, '14'),\n",
       " Text(14, 0, '15'),\n",
       " Text(15, 0, '16')]"
      ]
     },
     "execution_count": 11,
     "metadata": {},
     "output_type": "execute_result"
    },
    {
     "data": {
      "image/png": "[encoded data removed]",
      "text/plain": [
       "<Figure size 432x288 with 1 Axes>"
      ]
     },
     "metadata": {
      "needs_background": "light"
     },
     "output_type": "display_data"
    }
   ],
   "source": [
    "edu_no=sns.countplot(x=salary_train_df['educationno'],hue=salary_train_df['Salary'],data=salary_train_df)\n",
    "edu_no.set_xticklabels(edu_no.get_xticklabels(), rotation=45)"
   ]
  },
  {
   "cell_type": "markdown",
   "id": "bb3d675b",
   "metadata": {},
   "source": [
    "1. Most of the people had 9 years of education background and people who have less than 50k are more from this category."
   ]
  },
  {
   "cell_type": "code",
   "execution_count": 12,
   "id": "1d40607d",
   "metadata": {},
   "outputs": [
    {
     "data": {
      "text/plain": [
       "[Text(0, 0, ' Never-married'),\n",
       " Text(1, 0, ' Married-civ-spouse'),\n",
       " Text(2, 0, ' Divorced'),\n",
       " Text(3, 0, ' Married-spouse-absent'),\n",
       " Text(4, 0, ' Separated'),\n",
       " Text(5, 0, ' Married-AF-spouse'),\n",
       " Text(6, 0, ' Widowed')]"
      ]
     },
     "execution_count": 12,
     "metadata": {},
     "output_type": "execute_result"
    },
    {
     "data": {
      "image/png": "[encoded data removed]",
      "text/plain": [
       "<Figure size 432x288 with 1 Axes>"
      ]
     },
     "metadata": {
      "needs_background": "light"
     },
     "output_type": "display_data"
    }
   ],
   "source": [
    "ms=sns.countplot(x=salary_train_df['maritalstatus'],hue=salary_train_df['Salary'],data=salary_train_df)\n",
    "ms.set_xticklabels(ms.get_xticklabels(), rotation=45)"
   ]
  },
  {
   "cell_type": "markdown",
   "id": "2a56fbbd",
   "metadata": {},
   "source": [
    "1. People who earn less than 50k are mostly never married and married civ spouse.\n",
    "2. People with income more than 50k have mostly married a civ spouse."
   ]
  },
  {
   "cell_type": "code",
   "execution_count": 13,
   "id": "b449321d",
   "metadata": {},
   "outputs": [
    {
     "data": {
      "text/plain": [
       "[Text(0, 0, ' Adm-clerical'),\n",
       " Text(1, 0, ' Exec-managerial'),\n",
       " Text(2, 0, ' Handlers-cleaners'),\n",
       " Text(3, 0, ' Prof-specialty'),\n",
       " Text(4, 0, ' Other-service'),\n",
       " Text(5, 0, ' Sales'),\n",
       " Text(6, 0, ' Transport-moving'),\n",
       " Text(7, 0, ' Farming-fishing'),\n",
       " Text(8, 0, ' Machine-op-inspct'),\n",
       " Text(9, 0, ' Tech-support'),\n",
       " Text(10, 0, ' Craft-repair'),\n",
       " Text(11, 0, ' Protective-serv'),\n",
       " Text(12, 0, ' Armed-Forces'),\n",
       " Text(13, 0, ' Priv-house-serv')]"
      ]
     },
     "execution_count": 13,
     "metadata": {},
     "output_type": "execute_result"
    },
    {
     "data": {
      "image/png": "[encoded data removed]",
      "text/plain": [
       "<Figure size 432x288 with 1 Axes>"
      ]
     },
     "metadata": {
      "needs_background": "light"
     },
     "output_type": "display_data"
    }
   ],
   "source": [
    "occ=sns.countplot(x=salary_train_df['occupation'],hue=salary_train_df['Salary'],data=salary_train_df)\n",
    "occ.set_xticklabels(occ.get_xticklabels(), rotation=45)"
   ]
  },
  {
   "cell_type": "code",
   "execution_count": 14,
   "id": "7bd1362d",
   "metadata": {},
   "outputs": [
    {
     "data": {
      "text/plain": [
       "[Text(0, 0, ' Not-in-family'),\n",
       " Text(1, 0, ' Husband'),\n",
       " Text(2, 0, ' Wife'),\n",
       " Text(3, 0, ' Own-child'),\n",
       " Text(4, 0, ' Unmarried'),\n",
       " Text(5, 0, ' Other-relative')]"
      ]
     },
     "execution_count": 14,
     "metadata": {},
     "output_type": "execute_result"
    },
    {
     "data": {
      "image/png": "[encoded data removed]",
      "text/plain": [
       "<Figure size 432x288 with 1 Axes>"
      ]
     },
     "metadata": {
      "needs_background": "light"
     },
     "output_type": "display_data"
    }
   ],
   "source": [
    "rel=sns.countplot(x=salary_train_df['relationship'],hue=salary_train_df['Salary'],data=salary_train_df)\n",
    "rel.set_xticklabels(rel.get_xticklabels(), rotation=45)"
   ]
  },
  {
   "cell_type": "markdown",
   "id": "a85030ce",
   "metadata": {},
   "source": [
    "1. Most of the with less than 50k are not in family and are having a husband and own child\n",
    "2. People with more than 50k income are having a husband"
   ]
  },
  {
   "cell_type": "code",
   "execution_count": 15,
   "id": "ee210274",
   "metadata": {},
   "outputs": [
    {
     "data": {
      "text/plain": [
       "[Text(0, 0, ' White'),\n",
       " Text(1, 0, ' Black'),\n",
       " Text(2, 0, ' Asian-Pac-Islander'),\n",
       " Text(3, 0, ' Amer-Indian-Eskimo'),\n",
       " Text(4, 0, ' Other')]"
      ]
     },
     "execution_count": 15,
     "metadata": {},
     "output_type": "execute_result"
    },
    {
     "data": {
      "image/png": "[encoded data removed]",
      "text/plain": [
       "<Figure size 432x288 with 1 Axes>"
      ]
     },
     "metadata": {
      "needs_background": "light"
     },
     "output_type": "display_data"
    }
   ],
   "source": [
    "race=sns.countplot(x=salary_train_df['race'],hue=salary_train_df['Salary'],data=salary_train_df)\n",
    "race.set_xticklabels(race.get_xticklabels(), rotation=45)"
   ]
  },
  {
   "cell_type": "markdown",
   "id": "5a372404",
   "metadata": {},
   "source": [
    "People from both the categories are White"
   ]
  },
  {
   "cell_type": "code",
   "execution_count": 16,
   "id": "ae106b42",
   "metadata": {},
   "outputs": [
    {
     "data": {
      "text/plain": [
       "[Text(0, 0, ' Male'), Text(1, 0, ' Female')]"
      ]
     },
     "execution_count": 16,
     "metadata": {},
     "output_type": "execute_result"
    },
    {
     "data": {
      "image/png": "[encoded data removed]",
      "text/plain": [
       "<Figure size 432x288 with 1 Axes>"
      ]
     },
     "metadata": {
      "needs_background": "light"
     },
     "output_type": "display_data"
    }
   ],
   "source": [
    "gend=sns.countplot(x=salary_train_df['sex'],hue=salary_train_df['Salary'],data=salary_train_df)\n",
    "gend.set_xticklabels(gend.get_xticklabels(), rotation=45)"
   ]
  },
  {
   "cell_type": "markdown",
   "id": "66811fb9",
   "metadata": {},
   "source": [
    "People from both the categories are male "
   ]
  },
  {
   "cell_type": "code",
   "execution_count": 17,
   "id": "a075aa1c",
   "metadata": {},
   "outputs": [
    {
     "data": {
      "text/plain": [
       "[Text(0, 0, ' <=50K'), Text(1, 0, ' >50K')]"
      ]
     },
     "execution_count": 17,
     "metadata": {},
     "output_type": "execute_result"
    },
    {
     "data": {
      "image/png": "[encoded data removed]",
      "text/plain": [
       "<Figure size 432x288 with 1 Axes>"
      ]
     },
     "metadata": {
      "needs_background": "light"
     },
     "output_type": "display_data"
    }
   ],
   "source": [
    "capg=sns.boxplot(y=salary_train_df['capitalgain'],x=salary_train_df['Salary'],data=salary_train_df)\n",
    "capg.set_xticklabels(capg.get_xticklabels(), rotation=45)"
   ]
  },
  {
   "cell_type": "code",
   "execution_count": 18,
   "id": "c9832baa",
   "metadata": {},
   "outputs": [
    {
     "data": {
      "text/plain": [
       "[Text(0, 0, ' <=50K'), Text(1, 0, ' >50K')]"
      ]
     },
     "execution_count": 18,
     "metadata": {},
     "output_type": "execute_result"
    },
    {
     "data": {
      "image/png": "[encoded data removed]",
      "text/plain": [
       "<Figure size 432x288 with 1 Axes>"
      ]
     },
     "metadata": {
      "needs_background": "light"
     },
     "output_type": "display_data"
    }
   ],
   "source": [
    "capl=sns.boxplot(y=salary_train_df['capitalloss'],x=salary_train_df['Salary'],data=salary_train_df)\n",
    "capl.set_xticklabels(capl.get_xticklabels(), rotation=45)"
   ]
  },
  {
   "cell_type": "markdown",
   "id": "c299a840",
   "metadata": {},
   "source": [
    "The distribution of capital loss is same in both the categories"
   ]
  },
  {
   "cell_type": "code",
   "execution_count": 19,
   "id": "a8c02652",
   "metadata": {},
   "outputs": [
    {
     "data": {
      "text/plain": [
       "[Text(0, 0, ' <=50K'), Text(1, 0, ' >50K')]"
      ]
     },
     "execution_count": 19,
     "metadata": {},
     "output_type": "execute_result"
    },
    {
     "data": {
      "image/png": "[encoded data removed]",
      "text/plain": [
       "<Figure size 432x288 with 1 Axes>"
      ]
     },
     "metadata": {
      "needs_background": "light"
     },
     "output_type": "display_data"
    }
   ],
   "source": [
    "hpw=sns.boxplot(y=salary_train_df['hoursperweek'],x=salary_train_df['Salary'],data=salary_train_df)\n",
    "hpw.set_xticklabels(hpw.get_xticklabels(), rotation=45)"
   ]
  },
  {
   "cell_type": "markdown",
   "id": "547f9509",
   "metadata": {},
   "source": [
    "Hours per week is more for more than 50k salaried people"
   ]
  },
  {
   "cell_type": "code",
   "execution_count": 20,
   "id": "eaf617cd",
   "metadata": {},
   "outputs": [
    {
     "data": {
      "text/plain": [
       "<AxesSubplot:xlabel='Salary', ylabel='age'>"
      ]
     },
     "execution_count": 20,
     "metadata": {},
     "output_type": "execute_result"
    },
    {
     "data": {
      "image/png": "[encoded data removed]",
      "text/plain": [
       "<Figure size 432x288 with 1 Axes>"
      ]
     },
     "metadata": {
      "needs_background": "light"
     },
     "output_type": "display_data"
    }
   ],
   "source": [
    "sns.boxplot(x=salary_train_df['Salary'],y=salary_train_df['age'])"
   ]
  },
  {
   "cell_type": "code",
   "execution_count": 21,
   "id": "386a2a26",
   "metadata": {},
   "outputs": [
    {
     "data": {
      "text/plain": [
       "<AxesSubplot:xlabel='Salary', ylabel='educationno'>"
      ]
     },
     "execution_count": 21,
     "metadata": {},
     "output_type": "execute_result"
    },
    {
     "data": {
      "image/png": "[encoded data removed]",
      "text/plain": [
       "<Figure size 432x288 with 1 Axes>"
      ]
     },
     "metadata": {
      "needs_background": "light"
     },
     "output_type": "display_data"
    }
   ],
   "source": [
    "sns.boxplot(x=salary_train_df['Salary'],y=salary_train_df['educationno'])"
   ]
  },
  {
   "cell_type": "code",
   "execution_count": 22,
   "id": "9f311f8d",
   "metadata": {},
   "outputs": [],
   "source": [
    "# Pre Processing the data"
   ]
  },
  {
   "cell_type": "code",
   "execution_count": 23,
   "id": "7c6317ca",
   "metadata": {},
   "outputs": [],
   "source": [
    "# Salary Column:\n",
    "salary_train_df['Salary']=salary_train_df['Salary'].replace(['<=50K','>50K'],['0','1'],regex=True)\n",
    "salary_test_df['Salary']=salary_test_df['Salary'].replace(['<=50K','>50K'],['0','1'],regex=True)"
   ]
  },
  {
   "cell_type": "code",
   "execution_count": 24,
   "id": "790d3ff1",
   "metadata": {},
   "outputs": [],
   "source": [
    "# Label encodinng the rest of the columns\n",
    "\n",
    "label_encoder=preprocessing.LabelEncoder()\n",
    "col_le=['workclass','education','educationno','maritalstatus','occupation','relationship','race','sex','native']\n",
    "\n",
    "for i in col_le:\n",
    "    salary_test_df[i]=label_encoder.fit_transform(salary_test_df[i])\n",
    "    salary_train_df[i]=label_encoder.fit_transform(salary_train_df[i])"
   ]
  },
  {
   "cell_type": "code",
   "execution_count": 25,
   "id": "512c9468",
   "metadata": {},
   "outputs": [
    {
     "data": {
      "text/html": [
       "<div>\n",
       "<style scoped>\n",
       "    .dataframe tbody tr th:only-of-type {\n",
       "        vertical-align: middle;\n",
       "    }\n",
       "\n",
       "    .dataframe tbody tr th {\n",
       "        vertical-align: top;\n",
       "    }\n",
       "\n",
       "    .dataframe thead th {\n",
       "        text-align: right;\n",
       "    }\n",
       "</style>\n",
       "<table border=\"1\" class=\"dataframe\">\n",
       "  <thead>\n",
       "    <tr style=\"text-align: right;\">\n",
       "      <th></th>\n",
       "      <th>age</th>\n",
       "      <th>workclass</th>\n",
       "      <th>education</th>\n",
       "      <th>educationno</th>\n",
       "      <th>maritalstatus</th>\n",
       "      <th>occupation</th>\n",
       "      <th>relationship</th>\n",
       "      <th>race</th>\n",
       "      <th>sex</th>\n",
       "      <th>capitalgain</th>\n",
       "      <th>capitalloss</th>\n",
       "      <th>hoursperweek</th>\n",
       "      <th>native</th>\n",
       "      <th>Salary</th>\n",
       "    </tr>\n",
       "  </thead>\n",
       "  <tbody>\n",
       "    <tr>\n",
       "      <th>0</th>\n",
       "      <td>39</td>\n",
       "      <td>5</td>\n",
       "      <td>9</td>\n",
       "      <td>12</td>\n",
       "      <td>4</td>\n",
       "      <td>0</td>\n",
       "      <td>1</td>\n",
       "      <td>4</td>\n",
       "      <td>1</td>\n",
       "      <td>2174</td>\n",
       "      <td>0</td>\n",
       "      <td>40</td>\n",
       "      <td>37</td>\n",
       "      <td>0</td>\n",
       "    </tr>\n",
       "    <tr>\n",
       "      <th>1</th>\n",
       "      <td>50</td>\n",
       "      <td>4</td>\n",
       "      <td>9</td>\n",
       "      <td>12</td>\n",
       "      <td>2</td>\n",
       "      <td>3</td>\n",
       "      <td>0</td>\n",
       "      <td>4</td>\n",
       "      <td>1</td>\n",
       "      <td>0</td>\n",
       "      <td>0</td>\n",
       "      <td>13</td>\n",
       "      <td>37</td>\n",
       "      <td>0</td>\n",
       "    </tr>\n",
       "    <tr>\n",
       "      <th>2</th>\n",
       "      <td>38</td>\n",
       "      <td>2</td>\n",
       "      <td>11</td>\n",
       "      <td>8</td>\n",
       "      <td>0</td>\n",
       "      <td>5</td>\n",
       "      <td>1</td>\n",
       "      <td>4</td>\n",
       "      <td>1</td>\n",
       "      <td>0</td>\n",
       "      <td>0</td>\n",
       "      <td>40</td>\n",
       "      <td>37</td>\n",
       "      <td>0</td>\n",
       "    </tr>\n",
       "    <tr>\n",
       "      <th>3</th>\n",
       "      <td>53</td>\n",
       "      <td>2</td>\n",
       "      <td>1</td>\n",
       "      <td>6</td>\n",
       "      <td>2</td>\n",
       "      <td>5</td>\n",
       "      <td>0</td>\n",
       "      <td>2</td>\n",
       "      <td>1</td>\n",
       "      <td>0</td>\n",
       "      <td>0</td>\n",
       "      <td>40</td>\n",
       "      <td>37</td>\n",
       "      <td>0</td>\n",
       "    </tr>\n",
       "    <tr>\n",
       "      <th>4</th>\n",
       "      <td>28</td>\n",
       "      <td>2</td>\n",
       "      <td>9</td>\n",
       "      <td>12</td>\n",
       "      <td>2</td>\n",
       "      <td>9</td>\n",
       "      <td>5</td>\n",
       "      <td>2</td>\n",
       "      <td>0</td>\n",
       "      <td>0</td>\n",
       "      <td>0</td>\n",
       "      <td>40</td>\n",
       "      <td>4</td>\n",
       "      <td>0</td>\n",
       "    </tr>\n",
       "  </tbody>\n",
       "</table>\n",
       "</div>"
      ],
      "text/plain": [
       "   age  workclass  education  educationno  maritalstatus  occupation  \\\n",
       "0   39          5          9           12              4           0   \n",
       "1   50          4          9           12              2           3   \n",
       "2   38          2         11            8              0           5   \n",
       "3   53          2          1            6              2           5   \n",
       "4   28          2          9           12              2           9   \n",
       "\n",
       "   relationship  race  sex  capitalgain  capitalloss  hoursperweek  native  \\\n",
       "0             1     4    1         2174            0            40      37   \n",
       "1             0     4    1            0            0            13      37   \n",
       "2             1     4    1            0            0            40      37   \n",
       "3             0     2    1            0            0            40      37   \n",
       "4             5     2    0            0            0            40       4   \n",
       "\n",
       "  Salary  \n",
       "0      0  \n",
       "1      0  \n",
       "2      0  \n",
       "3      0  \n",
       "4      0  "
      ]
     },
     "execution_count": 25,
     "metadata": {},
     "output_type": "execute_result"
    }
   ],
   "source": [
    "salary_train_df.head()"
   ]
  },
  {
   "cell_type": "code",
   "execution_count": 26,
   "id": "6d3ea3e9",
   "metadata": {},
   "outputs": [],
   "source": [
    "# normalizing the data\n",
    "\n",
    "from sklearn.preprocessing import MinMaxScaler\n"
   ]
  },
  {
   "cell_type": "code",
   "execution_count": 27,
   "id": "17921845",
   "metadata": {},
   "outputs": [],
   "source": [
    "x_train=salary_train_df.iloc[:,0:-1]\n",
    "y_train=salary_train_df.iloc[:,-1]\n",
    "x_test=salary_test_df.iloc[:,0:-1]\n",
    "y_test=salary_test_df.iloc[:,-1]"
   ]
  },
  {
   "cell_type": "code",
   "execution_count": 28,
   "id": "f72c68d3",
   "metadata": {},
   "outputs": [],
   "source": [
    "minMax=MinMaxScaler()\n",
    "# train data\n",
    "minMax.fit(x_train)\n",
    "x_train=minMax.transform(x_train)\n",
    "# test data\n",
    "minMax.fit(x_test)\n",
    "x_test=minMax.transform(x_test)"
   ]
  },
  {
   "cell_type": "code",
   "execution_count": 29,
   "id": "541ee96b",
   "metadata": {},
   "outputs": [
    {
     "data": {
      "text/plain": [
       "(15060, 14)"
      ]
     },
     "execution_count": 29,
     "metadata": {},
     "output_type": "execute_result"
    }
   ],
   "source": [
    "salary_test_df.shape"
   ]
  },
  {
   "cell_type": "code",
   "execution_count": 30,
   "id": "4f18fdfc",
   "metadata": {},
   "outputs": [],
   "source": [
    "# Dimension reduction using PCA as it is taking much time to execute using SVM"
   ]
  },
  {
   "cell_type": "code",
   "execution_count": 31,
   "id": "37521816",
   "metadata": {},
   "outputs": [],
   "source": [
    "from sklearn.decomposition import PCA"
   ]
  },
  {
   "cell_type": "code",
   "execution_count": 32,
   "id": "0acd762c",
   "metadata": {},
   "outputs": [],
   "source": [
    "pca=PCA()\n",
    "pc_values=pca.fit_transform(x_train)"
   ]
  },
  {
   "cell_type": "code",
   "execution_count": 33,
   "id": "90cca4fc",
   "metadata": {},
   "outputs": [],
   "source": [
    "var=pca.explained_variance_ratio_"
   ]
  },
  {
   "cell_type": "code",
   "execution_count": 34,
   "id": "04b612c8",
   "metadata": {},
   "outputs": [
    {
     "data": {
      "text/plain": [
       "array([37.32, 50.55, 60.99, 70.  , 77.11, 83.06, 86.8 , 90.12, 93.35,\n",
       "       96.32, 98.09, 99.26, 99.99])"
      ]
     },
     "execution_count": 34,
     "metadata": {},
     "output_type": "execute_result"
    }
   ],
   "source": [
    "var1 = np.cumsum(np.round(var,decimals = 4)*100)\n",
    "var1"
   ]
  },
  {
   "cell_type": "code",
   "execution_count": 35,
   "id": "d3e0cc33",
   "metadata": {},
   "outputs": [],
   "source": [
    "import matplotlib.pyplot as plt"
   ]
  },
  {
   "cell_type": "code",
   "execution_count": 36,
   "id": "16ca68b4",
   "metadata": {},
   "outputs": [
    {
     "data": {
      "image/png": "[encoded data removed]",
      "text/plain": [
       "<Figure size 432x288 with 1 Axes>"
      ]
     },
     "metadata": {
      "needs_background": "light"
     },
     "output_type": "display_data"
    }
   ],
   "source": [
    "plt.plot(var1,color=\"red\")\n",
    "plt.ylim(0,100)\n",
    "plt.grid()"
   ]
  },
  {
   "cell_type": "code",
   "execution_count": 37,
   "id": "7b6d0aca",
   "metadata": {},
   "outputs": [],
   "source": [
    "# 80 % of the data is covered with 5 pc's"
   ]
  },
  {
   "cell_type": "code",
   "execution_count": 38,
   "id": "7f28fcb5",
   "metadata": {},
   "outputs": [],
   "source": [
    "# considering 5 components as 80% of the data is covered in it\n",
    "pca=PCA()\n",
    "pca_train=PCA(n_components=5)\n",
    "pc_values_train=pca_train.fit_transform(x_train)\n",
    "\n",
    "pca_test=PCA(n_components=5)\n",
    "pc_values_test=pca_train.fit_transform(x_test)"
   ]
  },
  {
   "cell_type": "code",
   "execution_count": 39,
   "id": "4a90f96e",
   "metadata": {},
   "outputs": [
    {
     "data": {
      "text/plain": [
       "(15060, 5)"
      ]
     },
     "execution_count": 39,
     "metadata": {},
     "output_type": "execute_result"
    }
   ],
   "source": [
    "pc_values_test.shape"
   ]
  },
  {
   "cell_type": "code",
   "execution_count": 40,
   "id": "f445f5cd",
   "metadata": {},
   "outputs": [
    {
     "data": {
      "text/html": [
       "<div>\n",
       "<style scoped>\n",
       "    .dataframe tbody tr th:only-of-type {\n",
       "        vertical-align: middle;\n",
       "    }\n",
       "\n",
       "    .dataframe tbody tr th {\n",
       "        vertical-align: top;\n",
       "    }\n",
       "\n",
       "    .dataframe thead th {\n",
       "        text-align: right;\n",
       "    }\n",
       "</style>\n",
       "<table border=\"1\" class=\"dataframe\">\n",
       "  <thead>\n",
       "    <tr style=\"text-align: right;\">\n",
       "      <th></th>\n",
       "      <th>pc1</th>\n",
       "      <th>pc2</th>\n",
       "      <th>pc3</th>\n",
       "      <th>pc4</th>\n",
       "      <th>pc5</th>\n",
       "    </tr>\n",
       "  </thead>\n",
       "  <tbody>\n",
       "    <tr>\n",
       "      <th>0</th>\n",
       "      <td>-0.079508</td>\n",
       "      <td>0.000802</td>\n",
       "      <td>0.847002</td>\n",
       "      <td>0.112688</td>\n",
       "      <td>0.209752</td>\n",
       "    </tr>\n",
       "    <tr>\n",
       "      <th>1</th>\n",
       "      <td>-0.424842</td>\n",
       "      <td>-0.179029</td>\n",
       "      <td>-0.081614</td>\n",
       "      <td>0.033488</td>\n",
       "      <td>-0.042203</td>\n",
       "    </tr>\n",
       "    <tr>\n",
       "      <th>2</th>\n",
       "      <td>-0.431156</td>\n",
       "      <td>0.300715</td>\n",
       "      <td>0.072747</td>\n",
       "      <td>0.139434</td>\n",
       "      <td>-0.035714</td>\n",
       "    </tr>\n",
       "    <tr>\n",
       "      <th>3</th>\n",
       "      <td>-0.403302</td>\n",
       "      <td>-0.023324</td>\n",
       "      <td>-0.223071</td>\n",
       "      <td>-0.180012</td>\n",
       "      <td>0.012899</td>\n",
       "    </tr>\n",
       "    <tr>\n",
       "      <th>4</th>\n",
       "      <td>-0.295943</td>\n",
       "      <td>0.068150</td>\n",
       "      <td>0.699975</td>\n",
       "      <td>0.343592</td>\n",
       "      <td>-0.123792</td>\n",
       "    </tr>\n",
       "    <tr>\n",
       "      <th>...</th>\n",
       "      <td>...</td>\n",
       "      <td>...</td>\n",
       "      <td>...</td>\n",
       "      <td>...</td>\n",
       "      <td>...</td>\n",
       "    </tr>\n",
       "    <tr>\n",
       "      <th>15055</th>\n",
       "      <td>-0.122406</td>\n",
       "      <td>0.236714</td>\n",
       "      <td>0.324636</td>\n",
       "      <td>-0.278168</td>\n",
       "      <td>0.188773</td>\n",
       "    </tr>\n",
       "    <tr>\n",
       "      <th>15056</th>\n",
       "      <td>0.493457</td>\n",
       "      <td>0.263226</td>\n",
       "      <td>-0.442212</td>\n",
       "      <td>0.423731</td>\n",
       "      <td>-0.019931</td>\n",
       "    </tr>\n",
       "    <tr>\n",
       "      <th>15057</th>\n",
       "      <td>-0.446484</td>\n",
       "      <td>0.225078</td>\n",
       "      <td>-0.075347</td>\n",
       "      <td>0.073380</td>\n",
       "      <td>-0.042255</td>\n",
       "    </tr>\n",
       "    <tr>\n",
       "      <th>15058</th>\n",
       "      <td>-0.127849</td>\n",
       "      <td>-0.467234</td>\n",
       "      <td>0.022282</td>\n",
       "      <td>0.053222</td>\n",
       "      <td>0.621856</td>\n",
       "    </tr>\n",
       "    <tr>\n",
       "      <th>15059</th>\n",
       "      <td>-0.433776</td>\n",
       "      <td>-0.232286</td>\n",
       "      <td>-0.080251</td>\n",
       "      <td>0.064753</td>\n",
       "      <td>-0.058799</td>\n",
       "    </tr>\n",
       "  </tbody>\n",
       "</table>\n",
       "<p>15060 rows × 5 columns</p>\n",
       "</div>"
      ],
      "text/plain": [
       "            pc1       pc2       pc3       pc4       pc5\n",
       "0     -0.079508  0.000802  0.847002  0.112688  0.209752\n",
       "1     -0.424842 -0.179029 -0.081614  0.033488 -0.042203\n",
       "2     -0.431156  0.300715  0.072747  0.139434 -0.035714\n",
       "3     -0.403302 -0.023324 -0.223071 -0.180012  0.012899\n",
       "4     -0.295943  0.068150  0.699975  0.343592 -0.123792\n",
       "...         ...       ...       ...       ...       ...\n",
       "15055 -0.122406  0.236714  0.324636 -0.278168  0.188773\n",
       "15056  0.493457  0.263226 -0.442212  0.423731 -0.019931\n",
       "15057 -0.446484  0.225078 -0.075347  0.073380 -0.042255\n",
       "15058 -0.127849 -0.467234  0.022282  0.053222  0.621856\n",
       "15059 -0.433776 -0.232286 -0.080251  0.064753 -0.058799\n",
       "\n",
       "[15060 rows x 5 columns]"
      ]
     },
     "execution_count": 40,
     "metadata": {},
     "output_type": "execute_result"
    }
   ],
   "source": [
    "pc_train=pd.DataFrame(pc_values_train,columns=['pc1','pc2','pc3','pc4','pc5'])\n",
    "pc_train\n",
    "\n",
    "pc_test=pd.DataFrame(pc_values_test,columns=['pc1','pc2','pc3','pc4','pc5'])\n",
    "pc_test"
   ]
  },
  {
   "cell_type": "code",
   "execution_count": null,
   "id": "03ab3497",
   "metadata": {},
   "outputs": [],
   "source": []
  },
  {
   "cell_type": "markdown",
   "id": "b5f0ca42",
   "metadata": {},
   "source": [
    "# SVM"
   ]
  },
  {
   "cell_type": "code",
   "execution_count": 41,
   "id": "b2bb18e4",
   "metadata": {},
   "outputs": [],
   "source": [
    "# SVM using linear model\n",
    "#       model_linear=svm.SVC(kernel='linear',C=1).fit(x_train.iloc[0:500,:],y_train[0:500])\n",
    " #       pred_linear=model_linear.predict(x_test)\n",
    " #       print(metrics.accuracy_score(y_test,pred_linear))"
   ]
  },
  {
   "cell_type": "code",
   "execution_count": 42,
   "id": "358daa7c",
   "metadata": {},
   "outputs": [
    {
     "name": "stdout",
     "output_type": "stream",
     "text": [
      "Accuracy for C= 1  is : 0.7543160690571049\n",
      "Accuracy for C= 11  is : 0.7543160690571049\n",
      "Accuracy for C= 21  is : 0.7543160690571049\n",
      "Accuracy for C= 31  is : 0.7543160690571049\n",
      "Accuracy for C= 41  is : 0.7543160690571049\n",
      "Accuracy for C= 0.1  is : 0.7543160690571049\n",
      "Accuracy for C= 0.001  is : 0.7543160690571049\n",
      "Accuracy for C= 1e-05  is : 0.7543160690571049\n"
     ]
    }
   ],
   "source": [
    "# SVM using linear model\n",
    "\n",
    "c=[*range(1,50,10),0.1,0.001,0.00001]\n",
    "\n",
    "for i in range(0,len(c)):\n",
    "    model_linear=svm.SVC(kernel='linear',C=c[i]).fit(pc_train,y_train)\n",
    "    pred_linear=model_linear.predict(pc_test)\n",
    "    print(\"Accuracy for C=\",c[i],\" is :\", metrics.accuracy_score(y_test,pred_linear))"
   ]
  },
  {
   "cell_type": "markdown",
   "id": "356db800",
   "metadata": {},
   "source": [
    "For any value of C , the accuracy is same ..so C=1 is better for Linear model"
   ]
  },
  {
   "cell_type": "code",
   "execution_count": 44,
   "id": "4709a337",
   "metadata": {},
   "outputs": [
    {
     "name": "stdout",
     "output_type": "stream",
     "text": [
      "Accuracy for gamma = 1 is  0.7805444887118194\n",
      "Accuracy for gamma = 11 is  0.8107569721115537\n",
      "Accuracy for gamma = 21 is  0.8174634794156707\n",
      "Accuracy for gamma = 31 is  0.8193227091633466\n",
      "Accuracy for gamma = 41 is  0.8189243027888446\n",
      "Accuracy for gamma = 0.1 is  0.7543160690571049\n",
      "Accuracy for gamma = 0.01 is  0.7543160690571049\n",
      "Accuracy for gamma = 0.001 is  0.7543160690571049\n",
      "Accuracy for gamma = 1e-05 is  0.7543160690571049\n"
     ]
    }
   ],
   "source": [
    "# SVM using rbf model\n",
    "\n",
    "gamma=[*range(1,50,10),0.1,0.01,0.001,0.00001]\n",
    "\n",
    "for i in range(0,len(gamma)):\n",
    "    model_rbf=svm.SVC(C=1, kernel='rbf',gamma=gamma[i]).fit(pc_train,y_train)\n",
    "    pred_rbf=model_rbf.predict(pc_test)\n",
    "    print(\"Accuracy for gamma =\",gamma[i],\"is \",metrics.accuracy_score(y_test,pred_rbf))"
   ]
  },
  {
   "cell_type": "markdown",
   "id": "73704492",
   "metadata": {},
   "source": [
    "Gamma = 31 has got the best accuracy in rbf model "
   ]
  },
  {
   "cell_type": "code",
   "execution_count": 45,
   "id": "7e6d3272",
   "metadata": {},
   "outputs": [
    {
     "name": "stdout",
     "output_type": "stream",
     "text": [
      " Accuracy for degree  1 is  0.7543160690571049\n",
      " Accuracy for degree  3 is  0.7614873837981407\n",
      " Accuracy for degree  5 is  0.7644754316069057\n",
      " Accuracy for degree  7 is  0.7658034528552456\n",
      " Accuracy for degree  9 is  0.7636786188579018\n",
      " Accuracy for degree  11 is  0.7610889774236388\n",
      " Accuracy for degree  13 is  0.7589641434262948\n"
     ]
    }
   ],
   "source": [
    "# SVM using polynomial model\n",
    "for i in range(1,14,2):\n",
    "    model_poly=svm.SVC(C=1, kernel='poly',degree=i).fit(pc_train,y_train)\n",
    "    pred_poly=model_poly.predict(pc_test)\n",
    "    print(\" Accuracy for degree \",i,\"is \",metrics.accuracy_score(y_test,pred_poly))"
   ]
  },
  {
   "cell_type": "code",
   "execution_count": 46,
   "id": "f0e8ec2a",
   "metadata": {},
   "outputs": [],
   "source": [
    "# Using GridSearchCv to find the best possible kernal and their parameters"
   ]
  },
  {
   "cell_type": "code",
   "execution_count": 47,
   "id": "088967bf",
   "metadata": {},
   "outputs": [],
   "source": [
    "param_grid = [{'kernel' : [\"linear\",\"poly\",\"rbf\",\"sigmoid\"] ,\n",
    "               'gamma' : [*range(1,50,10),0.1,0.001,0.00001] ,\n",
    "                'C':[1,15,14,13,12,11,10,0.1]  }]"
   ]
  },
  {
   "cell_type": "code",
   "execution_count": null,
   "id": "a56b2d7d",
   "metadata": {},
   "outputs": [],
   "source": [
    "model=svm.SVC()\n",
    "gscv=GridSearchCV(model,param_grid,cv=10).fit(pc_train,y_train)"
   ]
  },
  {
   "cell_type": "code",
   "execution_count": null,
   "id": "eb383567",
   "metadata": {},
   "outputs": [],
   "source": [
    "gscv.best_params_,gscv.best_score_"
   ]
  },
  {
   "cell_type": "code",
   "execution_count": null,
   "id": "e3dafdfa",
   "metadata": {},
   "outputs": [],
   "source": []
  }
 ],
 "metadata": {
  "kernelspec": {
   "display_name": "Python 3 (ipykernel)",
   "language": "python",
   "name": "python3"
  },
  "language_info": {
   "codemirror_mode": {
    "name": "ipython",
    "version": 3
   },
   "file_extension": ".py",
   "mimetype": "text/x-python",
   "name": "python",
   "nbconvert_exporter": "python",
   "pygments_lexer": "ipython3",
   "version": "3.9.7"
  }
 },
 "nbformat": 4,
 "nbformat_minor": 5
}
