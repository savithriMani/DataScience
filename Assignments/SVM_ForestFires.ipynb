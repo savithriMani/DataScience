{
 "cells": [
  {
   "cell_type": "code",
   "execution_count": 1,
   "id": "669a412f",
   "metadata": {},
   "outputs": [],
   "source": [
    "import pandas as pd\n",
    "import numpy as np\n",
    "import seaborn as sns\n",
    "from sklearn import svm\n",
    "from sklearn.model_selection import train_test_split\n",
    "from sklearn.model_selection import GridSearchCV\n",
    "from sklearn import metrics"
   ]
  },
  {
   "cell_type": "code",
   "execution_count": 2,
   "id": "52ac4a29",
   "metadata": {},
   "outputs": [],
   "source": [
    "ff_df=pd.read_csv(\"forestfires.csv\")"
   ]
  },
  {
   "cell_type": "code",
   "execution_count": 3,
   "id": "b8501185",
   "metadata": {},
   "outputs": [
    {
     "data": {
      "text/html": [
       "<div>\n",
       "<style scoped>\n",
       "    .dataframe tbody tr th:only-of-type {\n",
       "        vertical-align: middle;\n",
       "    }\n",
       "\n",
       "    .dataframe tbody tr th {\n",
       "        vertical-align: top;\n",
       "    }\n",
       "\n",
       "    .dataframe thead th {\n",
       "        text-align: right;\n",
       "    }\n",
       "</style>\n",
       "<table border=\"1\" class=\"dataframe\">\n",
       "  <thead>\n",
       "    <tr style=\"text-align: right;\">\n",
       "      <th></th>\n",
       "      <th>month</th>\n",
       "      <th>day</th>\n",
       "      <th>FFMC</th>\n",
       "      <th>DMC</th>\n",
       "      <th>DC</th>\n",
       "      <th>ISI</th>\n",
       "      <th>temp</th>\n",
       "      <th>RH</th>\n",
       "      <th>wind</th>\n",
       "      <th>rain</th>\n",
       "      <th>...</th>\n",
       "      <th>monthfeb</th>\n",
       "      <th>monthjan</th>\n",
       "      <th>monthjul</th>\n",
       "      <th>monthjun</th>\n",
       "      <th>monthmar</th>\n",
       "      <th>monthmay</th>\n",
       "      <th>monthnov</th>\n",
       "      <th>monthoct</th>\n",
       "      <th>monthsep</th>\n",
       "      <th>size_category</th>\n",
       "    </tr>\n",
       "  </thead>\n",
       "  <tbody>\n",
       "    <tr>\n",
       "      <th>0</th>\n",
       "      <td>mar</td>\n",
       "      <td>fri</td>\n",
       "      <td>86.2</td>\n",
       "      <td>26.2</td>\n",
       "      <td>94.3</td>\n",
       "      <td>5.1</td>\n",
       "      <td>8.2</td>\n",
       "      <td>51</td>\n",
       "      <td>6.7</td>\n",
       "      <td>0.0</td>\n",
       "      <td>...</td>\n",
       "      <td>0</td>\n",
       "      <td>0</td>\n",
       "      <td>0</td>\n",
       "      <td>0</td>\n",
       "      <td>1</td>\n",
       "      <td>0</td>\n",
       "      <td>0</td>\n",
       "      <td>0</td>\n",
       "      <td>0</td>\n",
       "      <td>small</td>\n",
       "    </tr>\n",
       "    <tr>\n",
       "      <th>1</th>\n",
       "      <td>oct</td>\n",
       "      <td>tue</td>\n",
       "      <td>90.6</td>\n",
       "      <td>35.4</td>\n",
       "      <td>669.1</td>\n",
       "      <td>6.7</td>\n",
       "      <td>18.0</td>\n",
       "      <td>33</td>\n",
       "      <td>0.9</td>\n",
       "      <td>0.0</td>\n",
       "      <td>...</td>\n",
       "      <td>0</td>\n",
       "      <td>0</td>\n",
       "      <td>0</td>\n",
       "      <td>0</td>\n",
       "      <td>0</td>\n",
       "      <td>0</td>\n",
       "      <td>0</td>\n",
       "      <td>1</td>\n",
       "      <td>0</td>\n",
       "      <td>small</td>\n",
       "    </tr>\n",
       "    <tr>\n",
       "      <th>2</th>\n",
       "      <td>oct</td>\n",
       "      <td>sat</td>\n",
       "      <td>90.6</td>\n",
       "      <td>43.7</td>\n",
       "      <td>686.9</td>\n",
       "      <td>6.7</td>\n",
       "      <td>14.6</td>\n",
       "      <td>33</td>\n",
       "      <td>1.3</td>\n",
       "      <td>0.0</td>\n",
       "      <td>...</td>\n",
       "      <td>0</td>\n",
       "      <td>0</td>\n",
       "      <td>0</td>\n",
       "      <td>0</td>\n",
       "      <td>0</td>\n",
       "      <td>0</td>\n",
       "      <td>0</td>\n",
       "      <td>1</td>\n",
       "      <td>0</td>\n",
       "      <td>small</td>\n",
       "    </tr>\n",
       "    <tr>\n",
       "      <th>3</th>\n",
       "      <td>mar</td>\n",
       "      <td>fri</td>\n",
       "      <td>91.7</td>\n",
       "      <td>33.3</td>\n",
       "      <td>77.5</td>\n",
       "      <td>9.0</td>\n",
       "      <td>8.3</td>\n",
       "      <td>97</td>\n",
       "      <td>4.0</td>\n",
       "      <td>0.2</td>\n",
       "      <td>...</td>\n",
       "      <td>0</td>\n",
       "      <td>0</td>\n",
       "      <td>0</td>\n",
       "      <td>0</td>\n",
       "      <td>1</td>\n",
       "      <td>0</td>\n",
       "      <td>0</td>\n",
       "      <td>0</td>\n",
       "      <td>0</td>\n",
       "      <td>small</td>\n",
       "    </tr>\n",
       "    <tr>\n",
       "      <th>4</th>\n",
       "      <td>mar</td>\n",
       "      <td>sun</td>\n",
       "      <td>89.3</td>\n",
       "      <td>51.3</td>\n",
       "      <td>102.2</td>\n",
       "      <td>9.6</td>\n",
       "      <td>11.4</td>\n",
       "      <td>99</td>\n",
       "      <td>1.8</td>\n",
       "      <td>0.0</td>\n",
       "      <td>...</td>\n",
       "      <td>0</td>\n",
       "      <td>0</td>\n",
       "      <td>0</td>\n",
       "      <td>0</td>\n",
       "      <td>1</td>\n",
       "      <td>0</td>\n",
       "      <td>0</td>\n",
       "      <td>0</td>\n",
       "      <td>0</td>\n",
       "      <td>small</td>\n",
       "    </tr>\n",
       "  </tbody>\n",
       "</table>\n",
       "<p>5 rows × 31 columns</p>\n",
       "</div>"
      ],
      "text/plain": [
       "  month  day  FFMC   DMC     DC  ISI  temp  RH  wind  rain  ...  monthfeb  \\\n",
       "0   mar  fri  86.2  26.2   94.3  5.1   8.2  51   6.7   0.0  ...         0   \n",
       "1   oct  tue  90.6  35.4  669.1  6.7  18.0  33   0.9   0.0  ...         0   \n",
       "2   oct  sat  90.6  43.7  686.9  6.7  14.6  33   1.3   0.0  ...         0   \n",
       "3   mar  fri  91.7  33.3   77.5  9.0   8.3  97   4.0   0.2  ...         0   \n",
       "4   mar  sun  89.3  51.3  102.2  9.6  11.4  99   1.8   0.0  ...         0   \n",
       "\n",
       "   monthjan  monthjul  monthjun  monthmar  monthmay  monthnov  monthoct  \\\n",
       "0         0         0         0         1         0         0         0   \n",
       "1         0         0         0         0         0         0         1   \n",
       "2         0         0         0         0         0         0         1   \n",
       "3         0         0         0         1         0         0         0   \n",
       "4         0         0         0         1         0         0         0   \n",
       "\n",
       "   monthsep  size_category  \n",
       "0         0          small  \n",
       "1         0          small  \n",
       "2         0          small  \n",
       "3         0          small  \n",
       "4         0          small  \n",
       "\n",
       "[5 rows x 31 columns]"
      ]
     },
     "execution_count": 3,
     "metadata": {},
     "output_type": "execute_result"
    }
   ],
   "source": [
    "ff_df.head()"
   ]
  },
  {
   "cell_type": "code",
   "execution_count": 4,
   "id": "bfa96921",
   "metadata": {},
   "outputs": [
    {
     "name": "stdout",
     "output_type": "stream",
     "text": [
      "<class 'pandas.core.frame.DataFrame'>\n",
      "RangeIndex: 517 entries, 0 to 516\n",
      "Data columns (total 31 columns):\n",
      " #   Column         Non-Null Count  Dtype  \n",
      "---  ------         --------------  -----  \n",
      " 0   month          517 non-null    object \n",
      " 1   day            517 non-null    object \n",
      " 2   FFMC           517 non-null    float64\n",
      " 3   DMC            517 non-null    float64\n",
      " 4   DC             517 non-null    float64\n",
      " 5   ISI            517 non-null    float64\n",
      " 6   temp           517 non-null    float64\n",
      " 7   RH             517 non-null    int64  \n",
      " 8   wind           517 non-null    float64\n",
      " 9   rain           517 non-null    float64\n",
      " 10  area           517 non-null    float64\n",
      " 11  dayfri         517 non-null    int64  \n",
      " 12  daymon         517 non-null    int64  \n",
      " 13  daysat         517 non-null    int64  \n",
      " 14  daysun         517 non-null    int64  \n",
      " 15  daythu         517 non-null    int64  \n",
      " 16  daytue         517 non-null    int64  \n",
      " 17  daywed         517 non-null    int64  \n",
      " 18  monthapr       517 non-null    int64  \n",
      " 19  monthaug       517 non-null    int64  \n",
      " 20  monthdec       517 non-null    int64  \n",
      " 21  monthfeb       517 non-null    int64  \n",
      " 22  monthjan       517 non-null    int64  \n",
      " 23  monthjul       517 non-null    int64  \n",
      " 24  monthjun       517 non-null    int64  \n",
      " 25  monthmar       517 non-null    int64  \n",
      " 26  monthmay       517 non-null    int64  \n",
      " 27  monthnov       517 non-null    int64  \n",
      " 28  monthoct       517 non-null    int64  \n",
      " 29  monthsep       517 non-null    int64  \n",
      " 30  size_category  517 non-null    object \n",
      "dtypes: float64(8), int64(20), object(3)\n",
      "memory usage: 125.3+ KB\n"
     ]
    }
   ],
   "source": [
    "ff_df.info()"
   ]
  },
  {
   "cell_type": "code",
   "execution_count": 5,
   "id": "f9a112e5",
   "metadata": {},
   "outputs": [],
   "source": [
    "# No null values in the data"
   ]
  },
  {
   "cell_type": "markdown",
   "id": "af35eba0",
   "metadata": {},
   "source": [
    "# Data visualization"
   ]
  },
  {
   "cell_type": "code",
   "execution_count": 6,
   "id": "0b80791e",
   "metadata": {},
   "outputs": [
    {
     "data": {
      "text/plain": [
       "<AxesSubplot:xlabel='month', ylabel='count'>"
      ]
     },
     "execution_count": 6,
     "metadata": {},
     "output_type": "execute_result"
    },
    {
     "data": {
      "image/png": "[encoded data removed]",
      "text/plain": [
       "<Figure size 432x288 with 1 Axes>"
      ]
     },
     "metadata": {
      "needs_background": "light"
     },
     "output_type": "display_data"
    }
   ],
   "source": [
    "sns.countplot(x=ff_df['month'],hue=ff_df['size_category'])"
   ]
  },
  {
   "cell_type": "markdown",
   "id": "b6ba1cc0",
   "metadata": {},
   "source": [
    "#  \n",
    "In aug and sep we have small and large fires when compared to the rest of the month"
   ]
  },
  {
   "cell_type": "code",
   "execution_count": 7,
   "id": "fe33383e",
   "metadata": {},
   "outputs": [
    {
     "data": {
      "text/plain": [
       "<AxesSubplot:xlabel='day', ylabel='count'>"
      ]
     },
     "execution_count": 7,
     "metadata": {},
     "output_type": "execute_result"
    },
    {
     "data": {
      "image/png": "[encoded data removed]",
      "text/plain": [
       "<Figure size 432x288 with 1 Axes>"
      ]
     },
     "metadata": {
      "needs_background": "light"
     },
     "output_type": "display_data"
    }
   ],
   "source": [
    "sns.countplot(x=ff_df['day'],hue=ff_df['size_category'])"
   ]
  },
  {
   "cell_type": "markdown",
   "id": "9df50ea3",
   "metadata": {},
   "source": [
    "On sunday there are little more forest fires than that on friday "
   ]
  },
  {
   "cell_type": "code",
   "execution_count": 8,
   "id": "a562f564",
   "metadata": {},
   "outputs": [
    {
     "data": {
      "text/plain": [
       "<AxesSubplot:xlabel='size_category', ylabel='FFMC'>"
      ]
     },
     "execution_count": 8,
     "metadata": {},
     "output_type": "execute_result"
    },
    {
     "data": {
      "image/png": "[encoded data removed]",
      "text/plain": [
       "<Figure size 432x288 with 1 Axes>"
      ]
     },
     "metadata": {
      "needs_background": "light"
     },
     "output_type": "display_data"
    }
   ],
   "source": [
    "sns.boxplot(y=ff_df['FFMC'],x=ff_df['size_category'])"
   ]
  },
  {
   "cell_type": "code",
   "execution_count": 9,
   "id": "ba1924ee",
   "metadata": {},
   "outputs": [
    {
     "data": {
      "text/plain": [
       "<AxesSubplot:xlabel='size_category', ylabel='DMC'>"
      ]
     },
     "execution_count": 9,
     "metadata": {},
     "output_type": "execute_result"
    },
    {
     "data": {
      "image/png": "[encoded data removed]",
      "text/plain": [
       "<Figure size 432x288 with 1 Axes>"
      ]
     },
     "metadata": {
      "needs_background": "light"
     },
     "output_type": "display_data"
    }
   ],
   "source": [
    "sns.boxplot(y=ff_df['DMC'],x=ff_df['size_category'])"
   ]
  },
  {
   "cell_type": "code",
   "execution_count": 10,
   "id": "7e1b7ffd",
   "metadata": {},
   "outputs": [
    {
     "data": {
      "text/plain": [
       "<AxesSubplot:xlabel='size_category', ylabel='DC'>"
      ]
     },
     "execution_count": 10,
     "metadata": {},
     "output_type": "execute_result"
    },
    {
     "data": {
      "image/png": "[encoded data removed]",
      "text/plain": [
       "<Figure size 432x288 with 1 Axes>"
      ]
     },
     "metadata": {
      "needs_background": "light"
     },
     "output_type": "display_data"
    }
   ],
   "source": [
    "sns.boxplot(y=ff_df['DC'],x=ff_df['size_category'])"
   ]
  },
  {
   "cell_type": "code",
   "execution_count": 11,
   "id": "aa3e7e11",
   "metadata": {},
   "outputs": [
    {
     "data": {
      "text/plain": [
       "<AxesSubplot:xlabel='size_category', ylabel='ISI'>"
      ]
     },
     "execution_count": 11,
     "metadata": {},
     "output_type": "execute_result"
    },
    {
     "data": {
      "image/png": "[encoded data removed]",
      "text/plain": [
       "<Figure size 432x288 with 1 Axes>"
      ]
     },
     "metadata": {
      "needs_background": "light"
     },
     "output_type": "display_data"
    }
   ],
   "source": [
    "sns.boxplot(y=ff_df['ISI'],x=ff_df['size_category'])"
   ]
  },
  {
   "cell_type": "code",
   "execution_count": 12,
   "id": "ef8dc6b6",
   "metadata": {},
   "outputs": [
    {
     "data": {
      "text/plain": [
       "<AxesSubplot:xlabel='size_category', ylabel='temp'>"
      ]
     },
     "execution_count": 12,
     "metadata": {},
     "output_type": "execute_result"
    },
    {
     "data": {
      "image/png": "[encoded data removed]",
      "text/plain": [
       "<Figure size 432x288 with 1 Axes>"
      ]
     },
     "metadata": {
      "needs_background": "light"
     },
     "output_type": "display_data"
    }
   ],
   "source": [
    "sns.boxplot(y=ff_df['temp'],x=ff_df['size_category'])"
   ]
  },
  {
   "cell_type": "code",
   "execution_count": 13,
   "id": "a81b4f26",
   "metadata": {},
   "outputs": [
    {
     "data": {
      "text/plain": [
       "<AxesSubplot:xlabel='size_category', ylabel='RH'>"
      ]
     },
     "execution_count": 13,
     "metadata": {},
     "output_type": "execute_result"
    },
    {
     "data": {
      "image/png": "[encoded data removed]",
      "text/plain": [
       "<Figure size 432x288 with 1 Axes>"
      ]
     },
     "metadata": {
      "needs_background": "light"
     },
     "output_type": "display_data"
    }
   ],
   "source": [
    "sns.boxplot(y=ff_df['RH'],x=ff_df['size_category'])"
   ]
  },
  {
   "cell_type": "code",
   "execution_count": 14,
   "id": "d0b7dd1a",
   "metadata": {},
   "outputs": [
    {
     "data": {
      "text/plain": [
       "<AxesSubplot:xlabel='size_category', ylabel='wind'>"
      ]
     },
     "execution_count": 14,
     "metadata": {},
     "output_type": "execute_result"
    },
    {
     "data": {
      "image/png": "[encoded data removed]",
      "text/plain": [
       "<Figure size 432x288 with 1 Axes>"
      ]
     },
     "metadata": {
      "needs_background": "light"
     },
     "output_type": "display_data"
    }
   ],
   "source": [
    "sns.boxplot(y=ff_df['wind'],x=ff_df['size_category'])"
   ]
  },
  {
   "cell_type": "code",
   "execution_count": 15,
   "id": "0596b858",
   "metadata": {},
   "outputs": [
    {
     "data": {
      "text/plain": [
       "<AxesSubplot:xlabel='size_category', ylabel='rain'>"
      ]
     },
     "execution_count": 15,
     "metadata": {},
     "output_type": "execute_result"
    },
    {
     "data": {
      "image/png": "[encoded data removed]",
      "text/plain": [
       "<Figure size 432x288 with 1 Axes>"
      ]
     },
     "metadata": {
      "needs_background": "light"
     },
     "output_type": "display_data"
    }
   ],
   "source": [
    "sns.boxplot(y=ff_df['rain'],x=ff_df['size_category'])"
   ]
  },
  {
   "cell_type": "code",
   "execution_count": 16,
   "id": "8d91a5eb",
   "metadata": {},
   "outputs": [
    {
     "data": {
      "text/plain": [
       "<AxesSubplot:xlabel='size_category', ylabel='area'>"
      ]
     },
     "execution_count": 16,
     "metadata": {},
     "output_type": "execute_result"
    },
    {
     "data": {
      "image/png": "[encoded data removed]",
      "text/plain": [
       "<Figure size 432x288 with 1 Axes>"
      ]
     },
     "metadata": {
      "needs_background": "light"
     },
     "output_type": "display_data"
    }
   ],
   "source": [
    "sns.boxplot(y=ff_df['area'],x=ff_df['size_category'])"
   ]
  },
  {
   "cell_type": "markdown",
   "id": "c2f92ff5",
   "metadata": {},
   "source": [
    " the distribution of rest of the variables is almost same for small and large fires"
   ]
  },
  {
   "cell_type": "code",
   "execution_count": 17,
   "id": "8343f334",
   "metadata": {},
   "outputs": [],
   "source": [
    "# removing columns which are already duplicated\n",
    "ff_df=ff_df.drop(['month','day'],axis=1)"
   ]
  },
  {
   "cell_type": "code",
   "execution_count": 18,
   "id": "820c5d0e",
   "metadata": {},
   "outputs": [
    {
     "data": {
      "text/html": [
       "<div>\n",
       "<style scoped>\n",
       "    .dataframe tbody tr th:only-of-type {\n",
       "        vertical-align: middle;\n",
       "    }\n",
       "\n",
       "    .dataframe tbody tr th {\n",
       "        vertical-align: top;\n",
       "    }\n",
       "\n",
       "    .dataframe thead th {\n",
       "        text-align: right;\n",
       "    }\n",
       "</style>\n",
       "<table border=\"1\" class=\"dataframe\">\n",
       "  <thead>\n",
       "    <tr style=\"text-align: right;\">\n",
       "      <th></th>\n",
       "      <th>FFMC</th>\n",
       "      <th>DMC</th>\n",
       "      <th>DC</th>\n",
       "      <th>ISI</th>\n",
       "      <th>temp</th>\n",
       "      <th>RH</th>\n",
       "      <th>wind</th>\n",
       "      <th>rain</th>\n",
       "      <th>area</th>\n",
       "      <th>dayfri</th>\n",
       "      <th>...</th>\n",
       "      <th>monthfeb</th>\n",
       "      <th>monthjan</th>\n",
       "      <th>monthjul</th>\n",
       "      <th>monthjun</th>\n",
       "      <th>monthmar</th>\n",
       "      <th>monthmay</th>\n",
       "      <th>monthnov</th>\n",
       "      <th>monthoct</th>\n",
       "      <th>monthsep</th>\n",
       "      <th>size_category</th>\n",
       "    </tr>\n",
       "  </thead>\n",
       "  <tbody>\n",
       "    <tr>\n",
       "      <th>0</th>\n",
       "      <td>86.2</td>\n",
       "      <td>26.2</td>\n",
       "      <td>94.3</td>\n",
       "      <td>5.1</td>\n",
       "      <td>8.2</td>\n",
       "      <td>51</td>\n",
       "      <td>6.7</td>\n",
       "      <td>0.0</td>\n",
       "      <td>0.0</td>\n",
       "      <td>1</td>\n",
       "      <td>...</td>\n",
       "      <td>0</td>\n",
       "      <td>0</td>\n",
       "      <td>0</td>\n",
       "      <td>0</td>\n",
       "      <td>1</td>\n",
       "      <td>0</td>\n",
       "      <td>0</td>\n",
       "      <td>0</td>\n",
       "      <td>0</td>\n",
       "      <td>small</td>\n",
       "    </tr>\n",
       "    <tr>\n",
       "      <th>1</th>\n",
       "      <td>90.6</td>\n",
       "      <td>35.4</td>\n",
       "      <td>669.1</td>\n",
       "      <td>6.7</td>\n",
       "      <td>18.0</td>\n",
       "      <td>33</td>\n",
       "      <td>0.9</td>\n",
       "      <td>0.0</td>\n",
       "      <td>0.0</td>\n",
       "      <td>0</td>\n",
       "      <td>...</td>\n",
       "      <td>0</td>\n",
       "      <td>0</td>\n",
       "      <td>0</td>\n",
       "      <td>0</td>\n",
       "      <td>0</td>\n",
       "      <td>0</td>\n",
       "      <td>0</td>\n",
       "      <td>1</td>\n",
       "      <td>0</td>\n",
       "      <td>small</td>\n",
       "    </tr>\n",
       "    <tr>\n",
       "      <th>2</th>\n",
       "      <td>90.6</td>\n",
       "      <td>43.7</td>\n",
       "      <td>686.9</td>\n",
       "      <td>6.7</td>\n",
       "      <td>14.6</td>\n",
       "      <td>33</td>\n",
       "      <td>1.3</td>\n",
       "      <td>0.0</td>\n",
       "      <td>0.0</td>\n",
       "      <td>0</td>\n",
       "      <td>...</td>\n",
       "      <td>0</td>\n",
       "      <td>0</td>\n",
       "      <td>0</td>\n",
       "      <td>0</td>\n",
       "      <td>0</td>\n",
       "      <td>0</td>\n",
       "      <td>0</td>\n",
       "      <td>1</td>\n",
       "      <td>0</td>\n",
       "      <td>small</td>\n",
       "    </tr>\n",
       "    <tr>\n",
       "      <th>3</th>\n",
       "      <td>91.7</td>\n",
       "      <td>33.3</td>\n",
       "      <td>77.5</td>\n",
       "      <td>9.0</td>\n",
       "      <td>8.3</td>\n",
       "      <td>97</td>\n",
       "      <td>4.0</td>\n",
       "      <td>0.2</td>\n",
       "      <td>0.0</td>\n",
       "      <td>1</td>\n",
       "      <td>...</td>\n",
       "      <td>0</td>\n",
       "      <td>0</td>\n",
       "      <td>0</td>\n",
       "      <td>0</td>\n",
       "      <td>1</td>\n",
       "      <td>0</td>\n",
       "      <td>0</td>\n",
       "      <td>0</td>\n",
       "      <td>0</td>\n",
       "      <td>small</td>\n",
       "    </tr>\n",
       "    <tr>\n",
       "      <th>4</th>\n",
       "      <td>89.3</td>\n",
       "      <td>51.3</td>\n",
       "      <td>102.2</td>\n",
       "      <td>9.6</td>\n",
       "      <td>11.4</td>\n",
       "      <td>99</td>\n",
       "      <td>1.8</td>\n",
       "      <td>0.0</td>\n",
       "      <td>0.0</td>\n",
       "      <td>0</td>\n",
       "      <td>...</td>\n",
       "      <td>0</td>\n",
       "      <td>0</td>\n",
       "      <td>0</td>\n",
       "      <td>0</td>\n",
       "      <td>1</td>\n",
       "      <td>0</td>\n",
       "      <td>0</td>\n",
       "      <td>0</td>\n",
       "      <td>0</td>\n",
       "      <td>small</td>\n",
       "    </tr>\n",
       "  </tbody>\n",
       "</table>\n",
       "<p>5 rows × 29 columns</p>\n",
       "</div>"
      ],
      "text/plain": [
       "   FFMC   DMC     DC  ISI  temp  RH  wind  rain  area  dayfri  ...  monthfeb  \\\n",
       "0  86.2  26.2   94.3  5.1   8.2  51   6.7   0.0   0.0       1  ...         0   \n",
       "1  90.6  35.4  669.1  6.7  18.0  33   0.9   0.0   0.0       0  ...         0   \n",
       "2  90.6  43.7  686.9  6.7  14.6  33   1.3   0.0   0.0       0  ...         0   \n",
       "3  91.7  33.3   77.5  9.0   8.3  97   4.0   0.2   0.0       1  ...         0   \n",
       "4  89.3  51.3  102.2  9.6  11.4  99   1.8   0.0   0.0       0  ...         0   \n",
       "\n",
       "   monthjan  monthjul  monthjun  monthmar  monthmay  monthnov  monthoct  \\\n",
       "0         0         0         0         1         0         0         0   \n",
       "1         0         0         0         0         0         0         1   \n",
       "2         0         0         0         0         0         0         1   \n",
       "3         0         0         0         1         0         0         0   \n",
       "4         0         0         0         1         0         0         0   \n",
       "\n",
       "   monthsep  size_category  \n",
       "0         0          small  \n",
       "1         0          small  \n",
       "2         0          small  \n",
       "3         0          small  \n",
       "4         0          small  \n",
       "\n",
       "[5 rows x 29 columns]"
      ]
     },
     "execution_count": 18,
     "metadata": {},
     "output_type": "execute_result"
    }
   ],
   "source": [
    "ff_df.head()"
   ]
  },
  {
   "cell_type": "markdown",
   "id": "6fe03dc0",
   "metadata": {},
   "source": [
    "# Label Encoding"
   ]
  },
  {
   "cell_type": "code",
   "execution_count": 19,
   "id": "a4486a13",
   "metadata": {},
   "outputs": [],
   "source": [
    "from sklearn.preprocessing import LabelEncoder\n",
    "label_encoder=LabelEncoder()"
   ]
  },
  {
   "cell_type": "code",
   "execution_count": 20,
   "id": "22905f9e",
   "metadata": {},
   "outputs": [],
   "source": [
    "ff_df['size_category']=label_encoder.fit_transform(ff_df['size_category'])"
   ]
  },
  {
   "cell_type": "markdown",
   "id": "358c9d45",
   "metadata": {},
   "source": [
    "# Normalizing the Data"
   ]
  },
  {
   "cell_type": "code",
   "execution_count": 21,
   "id": "ecc1b648",
   "metadata": {},
   "outputs": [],
   "source": [
    "from sklearn.preprocessing import StandardScaler"
   ]
  },
  {
   "cell_type": "code",
   "execution_count": 22,
   "id": "b4d10cca",
   "metadata": {},
   "outputs": [],
   "source": [
    "scaler=StandardScaler()\n",
    "ff_df_norm=scaler.fit_transform(ff_df.iloc[:,0:-1])"
   ]
  },
  {
   "cell_type": "code",
   "execution_count": 23,
   "id": "b2ed6429",
   "metadata": {},
   "outputs": [],
   "source": [
    "ff_df_norm=pd.DataFrame(ff_df_norm)"
   ]
  },
  {
   "cell_type": "markdown",
   "id": "3998cb89",
   "metadata": {},
   "source": [
    "# Train test split"
   ]
  },
  {
   "cell_type": "code",
   "execution_count": 24,
   "id": "7e944404",
   "metadata": {},
   "outputs": [],
   "source": [
    "x=ff_df_norm\n",
    "y=ff_df.iloc[:,-1]\n"
   ]
  },
  {
   "cell_type": "code",
   "execution_count": 25,
   "id": "4fa8a222",
   "metadata": {},
   "outputs": [],
   "source": [
    "x_train,x_test,y_train,y_test=train_test_split(x,y,test_size=0.2,\n",
    "                                                random_state=40,\n",
    "                                                shuffle=True)"
   ]
  },
  {
   "cell_type": "markdown",
   "id": "80a72617",
   "metadata": {},
   "source": [
    "# SVM"
   ]
  },
  {
   "cell_type": "code",
   "execution_count": 26,
   "id": "e7227d23",
   "metadata": {},
   "outputs": [
    {
     "data": {
      "text/html": [
       "<div>\n",
       "<style scoped>\n",
       "    .dataframe tbody tr th:only-of-type {\n",
       "        vertical-align: middle;\n",
       "    }\n",
       "\n",
       "    .dataframe tbody tr th {\n",
       "        vertical-align: top;\n",
       "    }\n",
       "\n",
       "    .dataframe thead th {\n",
       "        text-align: right;\n",
       "    }\n",
       "</style>\n",
       "<table border=\"1\" class=\"dataframe\">\n",
       "  <thead>\n",
       "    <tr style=\"text-align: right;\">\n",
       "      <th></th>\n",
       "      <th>0</th>\n",
       "      <th>1</th>\n",
       "      <th>2</th>\n",
       "      <th>3</th>\n",
       "      <th>4</th>\n",
       "      <th>5</th>\n",
       "      <th>6</th>\n",
       "      <th>7</th>\n",
       "      <th>8</th>\n",
       "      <th>9</th>\n",
       "      <th>...</th>\n",
       "      <th>18</th>\n",
       "      <th>19</th>\n",
       "      <th>20</th>\n",
       "      <th>21</th>\n",
       "      <th>22</th>\n",
       "      <th>23</th>\n",
       "      <th>24</th>\n",
       "      <th>25</th>\n",
       "      <th>26</th>\n",
       "      <th>27</th>\n",
       "    </tr>\n",
       "  </thead>\n",
       "  <tbody>\n",
       "    <tr>\n",
       "      <th>373</th>\n",
       "      <td>0.753489</td>\n",
       "      <td>1.743042</td>\n",
       "      <td>0.607926</td>\n",
       "      <td>1.070970</td>\n",
       "      <td>0.243205</td>\n",
       "      <td>-0.140366</td>\n",
       "      <td>-0.736124</td>\n",
       "      <td>-0.073268</td>\n",
       "      <td>-0.202020</td>\n",
       "      <td>-0.443576</td>\n",
       "      <td>...</td>\n",
       "      <td>-0.133103</td>\n",
       "      <td>-0.200603</td>\n",
       "      <td>-0.062318</td>\n",
       "      <td>-0.256865</td>\n",
       "      <td>-0.184391</td>\n",
       "      <td>-0.341512</td>\n",
       "      <td>-0.062318</td>\n",
       "      <td>-0.044023</td>\n",
       "      <td>-0.17286</td>\n",
       "      <td>-0.706081</td>\n",
       "    </tr>\n",
       "    <tr>\n",
       "      <th>428</th>\n",
       "      <td>0.753489</td>\n",
       "      <td>1.743042</td>\n",
       "      <td>0.607926</td>\n",
       "      <td>1.070970</td>\n",
       "      <td>1.260269</td>\n",
       "      <td>-0.631113</td>\n",
       "      <td>0.995798</td>\n",
       "      <td>-0.073268</td>\n",
       "      <td>-0.202020</td>\n",
       "      <td>-0.443576</td>\n",
       "      <td>...</td>\n",
       "      <td>-0.133103</td>\n",
       "      <td>-0.200603</td>\n",
       "      <td>-0.062318</td>\n",
       "      <td>-0.256865</td>\n",
       "      <td>-0.184391</td>\n",
       "      <td>-0.341512</td>\n",
       "      <td>-0.062318</td>\n",
       "      <td>-0.044023</td>\n",
       "      <td>-0.17286</td>\n",
       "      <td>-0.706081</td>\n",
       "    </tr>\n",
       "    <tr>\n",
       "      <th>47</th>\n",
       "      <td>0.644690</td>\n",
       "      <td>-0.759127</td>\n",
       "      <td>-0.423846</td>\n",
       "      <td>0.434316</td>\n",
       "      <td>0.708641</td>\n",
       "      <td>-0.508426</td>\n",
       "      <td>-0.512650</td>\n",
       "      <td>-0.073268</td>\n",
       "      <td>-0.202020</td>\n",
       "      <td>-0.443576</td>\n",
       "      <td>...</td>\n",
       "      <td>-0.133103</td>\n",
       "      <td>-0.200603</td>\n",
       "      <td>-0.062318</td>\n",
       "      <td>3.893103</td>\n",
       "      <td>-0.184391</td>\n",
       "      <td>-0.341512</td>\n",
       "      <td>-0.062318</td>\n",
       "      <td>-0.044023</td>\n",
       "      <td>-0.17286</td>\n",
       "      <td>-0.706081</td>\n",
       "    </tr>\n",
       "    <tr>\n",
       "      <th>167</th>\n",
       "      <td>0.971087</td>\n",
       "      <td>0.253619</td>\n",
       "      <td>0.091031</td>\n",
       "      <td>1.641763</td>\n",
       "      <td>0.777595</td>\n",
       "      <td>-0.692456</td>\n",
       "      <td>0.269509</td>\n",
       "      <td>-0.073268</td>\n",
       "      <td>-0.162551</td>\n",
       "      <td>-0.443576</td>\n",
       "      <td>...</td>\n",
       "      <td>-0.133103</td>\n",
       "      <td>-0.200603</td>\n",
       "      <td>-0.062318</td>\n",
       "      <td>-0.256865</td>\n",
       "      <td>-0.184391</td>\n",
       "      <td>-0.341512</td>\n",
       "      <td>-0.062318</td>\n",
       "      <td>-0.044023</td>\n",
       "      <td>-0.17286</td>\n",
       "      <td>-0.706081</td>\n",
       "    </tr>\n",
       "    <tr>\n",
       "      <th>361</th>\n",
       "      <td>0.336427</td>\n",
       "      <td>0.173912</td>\n",
       "      <td>0.975522</td>\n",
       "      <td>0.258687</td>\n",
       "      <td>-0.273947</td>\n",
       "      <td>0.043664</td>\n",
       "      <td>-0.009834</td>\n",
       "      <td>-0.073268</td>\n",
       "      <td>-0.140064</td>\n",
       "      <td>2.254407</td>\n",
       "      <td>...</td>\n",
       "      <td>-0.133103</td>\n",
       "      <td>-0.200603</td>\n",
       "      <td>-0.062318</td>\n",
       "      <td>-0.256865</td>\n",
       "      <td>-0.184391</td>\n",
       "      <td>-0.341512</td>\n",
       "      <td>-0.062318</td>\n",
       "      <td>-0.044023</td>\n",
       "      <td>-0.17286</td>\n",
       "      <td>1.416268</td>\n",
       "    </tr>\n",
       "    <tr>\n",
       "      <th>...</th>\n",
       "      <td>...</td>\n",
       "      <td>...</td>\n",
       "      <td>...</td>\n",
       "      <td>...</td>\n",
       "      <td>...</td>\n",
       "      <td>...</td>\n",
       "      <td>...</td>\n",
       "      <td>...</td>\n",
       "      <td>...</td>\n",
       "      <td>...</td>\n",
       "      <td>...</td>\n",
       "      <td>...</td>\n",
       "      <td>...</td>\n",
       "      <td>...</td>\n",
       "      <td>...</td>\n",
       "      <td>...</td>\n",
       "      <td>...</td>\n",
       "      <td>...</td>\n",
       "      <td>...</td>\n",
       "      <td>...</td>\n",
       "      <td>...</td>\n",
       "    </tr>\n",
       "    <tr>\n",
       "      <th>440</th>\n",
       "      <td>-0.062501</td>\n",
       "      <td>2.799547</td>\n",
       "      <td>1.240224</td>\n",
       "      <td>-0.356013</td>\n",
       "      <td>-0.463569</td>\n",
       "      <td>0.841128</td>\n",
       "      <td>-0.233308</td>\n",
       "      <td>-0.073268</td>\n",
       "      <td>-0.202020</td>\n",
       "      <td>2.254407</td>\n",
       "      <td>...</td>\n",
       "      <td>-0.133103</td>\n",
       "      <td>-0.200603</td>\n",
       "      <td>-0.062318</td>\n",
       "      <td>-0.256865</td>\n",
       "      <td>-0.184391</td>\n",
       "      <td>-0.341512</td>\n",
       "      <td>-0.062318</td>\n",
       "      <td>-0.044023</td>\n",
       "      <td>-0.17286</td>\n",
       "      <td>1.416268</td>\n",
       "    </tr>\n",
       "    <tr>\n",
       "      <th>165</th>\n",
       "      <td>-1.041690</td>\n",
       "      <td>-1.448356</td>\n",
       "      <td>-1.989056</td>\n",
       "      <td>-1.321971</td>\n",
       "      <td>-2.342553</td>\n",
       "      <td>1.577248</td>\n",
       "      <td>0.269509</td>\n",
       "      <td>-0.073268</td>\n",
       "      <td>-0.168369</td>\n",
       "      <td>-0.443576</td>\n",
       "      <td>...</td>\n",
       "      <td>-0.133103</td>\n",
       "      <td>-0.200603</td>\n",
       "      <td>-0.062318</td>\n",
       "      <td>-0.256865</td>\n",
       "      <td>-0.184391</td>\n",
       "      <td>2.928152</td>\n",
       "      <td>-0.062318</td>\n",
       "      <td>-0.044023</td>\n",
       "      <td>-0.17286</td>\n",
       "      <td>-0.706081</td>\n",
       "    </tr>\n",
       "    <tr>\n",
       "      <th>7</th>\n",
       "      <td>0.155096</td>\n",
       "      <td>0.539625</td>\n",
       "      <td>0.243154</td>\n",
       "      <td>0.368455</td>\n",
       "      <td>-1.877117</td>\n",
       "      <td>2.558742</td>\n",
       "      <td>-1.015466</td>\n",
       "      <td>-0.073268</td>\n",
       "      <td>-0.202020</td>\n",
       "      <td>-0.443576</td>\n",
       "      <td>...</td>\n",
       "      <td>-0.133103</td>\n",
       "      <td>-0.200603</td>\n",
       "      <td>-0.062318</td>\n",
       "      <td>-0.256865</td>\n",
       "      <td>-0.184391</td>\n",
       "      <td>-0.341512</td>\n",
       "      <td>-0.062318</td>\n",
       "      <td>-0.044023</td>\n",
       "      <td>-0.17286</td>\n",
       "      <td>-0.706081</td>\n",
       "    </tr>\n",
       "    <tr>\n",
       "      <th>219</th>\n",
       "      <td>-0.098768</td>\n",
       "      <td>-1.112337</td>\n",
       "      <td>-1.861547</td>\n",
       "      <td>-0.619456</td>\n",
       "      <td>-0.635953</td>\n",
       "      <td>-1.060516</td>\n",
       "      <td>-0.512650</td>\n",
       "      <td>-0.073268</td>\n",
       "      <td>0.298969</td>\n",
       "      <td>-0.443576</td>\n",
       "      <td>...</td>\n",
       "      <td>-0.133103</td>\n",
       "      <td>-0.200603</td>\n",
       "      <td>-0.062318</td>\n",
       "      <td>-0.256865</td>\n",
       "      <td>-0.184391</td>\n",
       "      <td>2.928152</td>\n",
       "      <td>-0.062318</td>\n",
       "      <td>-0.044023</td>\n",
       "      <td>-0.17286</td>\n",
       "      <td>-0.706081</td>\n",
       "    </tr>\n",
       "    <tr>\n",
       "      <th>326</th>\n",
       "      <td>0.282028</td>\n",
       "      <td>-0.133975</td>\n",
       "      <td>0.821382</td>\n",
       "      <td>-0.136477</td>\n",
       "      <td>0.898263</td>\n",
       "      <td>-1.060516</td>\n",
       "      <td>-0.512650</td>\n",
       "      <td>-0.073268</td>\n",
       "      <td>-0.202020</td>\n",
       "      <td>-0.443576</td>\n",
       "      <td>...</td>\n",
       "      <td>-0.133103</td>\n",
       "      <td>-0.200603</td>\n",
       "      <td>-0.062318</td>\n",
       "      <td>-0.256865</td>\n",
       "      <td>-0.184391</td>\n",
       "      <td>-0.341512</td>\n",
       "      <td>-0.062318</td>\n",
       "      <td>-0.044023</td>\n",
       "      <td>-0.17286</td>\n",
       "      <td>1.416268</td>\n",
       "    </tr>\n",
       "  </tbody>\n",
       "</table>\n",
       "<p>413 rows × 28 columns</p>\n",
       "</div>"
      ],
      "text/plain": [
       "           0         1         2         3         4         5         6   \\\n",
       "373  0.753489  1.743042  0.607926  1.070970  0.243205 -0.140366 -0.736124   \n",
       "428  0.753489  1.743042  0.607926  1.070970  1.260269 -0.631113  0.995798   \n",
       "47   0.644690 -0.759127 -0.423846  0.434316  0.708641 -0.508426 -0.512650   \n",
       "167  0.971087  0.253619  0.091031  1.641763  0.777595 -0.692456  0.269509   \n",
       "361  0.336427  0.173912  0.975522  0.258687 -0.273947  0.043664 -0.009834   \n",
       "..        ...       ...       ...       ...       ...       ...       ...   \n",
       "440 -0.062501  2.799547  1.240224 -0.356013 -0.463569  0.841128 -0.233308   \n",
       "165 -1.041690 -1.448356 -1.989056 -1.321971 -2.342553  1.577248  0.269509   \n",
       "7    0.155096  0.539625  0.243154  0.368455 -1.877117  2.558742 -1.015466   \n",
       "219 -0.098768 -1.112337 -1.861547 -0.619456 -0.635953 -1.060516 -0.512650   \n",
       "326  0.282028 -0.133975  0.821382 -0.136477  0.898263 -1.060516 -0.512650   \n",
       "\n",
       "           7         8         9   ...        18        19        20  \\\n",
       "373 -0.073268 -0.202020 -0.443576  ... -0.133103 -0.200603 -0.062318   \n",
       "428 -0.073268 -0.202020 -0.443576  ... -0.133103 -0.200603 -0.062318   \n",
       "47  -0.073268 -0.202020 -0.443576  ... -0.133103 -0.200603 -0.062318   \n",
       "167 -0.073268 -0.162551 -0.443576  ... -0.133103 -0.200603 -0.062318   \n",
       "361 -0.073268 -0.140064  2.254407  ... -0.133103 -0.200603 -0.062318   \n",
       "..        ...       ...       ...  ...       ...       ...       ...   \n",
       "440 -0.073268 -0.202020  2.254407  ... -0.133103 -0.200603 -0.062318   \n",
       "165 -0.073268 -0.168369 -0.443576  ... -0.133103 -0.200603 -0.062318   \n",
       "7   -0.073268 -0.202020 -0.443576  ... -0.133103 -0.200603 -0.062318   \n",
       "219 -0.073268  0.298969 -0.443576  ... -0.133103 -0.200603 -0.062318   \n",
       "326 -0.073268 -0.202020 -0.443576  ... -0.133103 -0.200603 -0.062318   \n",
       "\n",
       "           21        22        23        24        25       26        27  \n",
       "373 -0.256865 -0.184391 -0.341512 -0.062318 -0.044023 -0.17286 -0.706081  \n",
       "428 -0.256865 -0.184391 -0.341512 -0.062318 -0.044023 -0.17286 -0.706081  \n",
       "47   3.893103 -0.184391 -0.341512 -0.062318 -0.044023 -0.17286 -0.706081  \n",
       "167 -0.256865 -0.184391 -0.341512 -0.062318 -0.044023 -0.17286 -0.706081  \n",
       "361 -0.256865 -0.184391 -0.341512 -0.062318 -0.044023 -0.17286  1.416268  \n",
       "..        ...       ...       ...       ...       ...      ...       ...  \n",
       "440 -0.256865 -0.184391 -0.341512 -0.062318 -0.044023 -0.17286  1.416268  \n",
       "165 -0.256865 -0.184391  2.928152 -0.062318 -0.044023 -0.17286 -0.706081  \n",
       "7   -0.256865 -0.184391 -0.341512 -0.062318 -0.044023 -0.17286 -0.706081  \n",
       "219 -0.256865 -0.184391  2.928152 -0.062318 -0.044023 -0.17286 -0.706081  \n",
       "326 -0.256865 -0.184391 -0.341512 -0.062318 -0.044023 -0.17286  1.416268  \n",
       "\n",
       "[413 rows x 28 columns]"
      ]
     },
     "execution_count": 26,
     "metadata": {},
     "output_type": "execute_result"
    }
   ],
   "source": [
    "x_train"
   ]
  },
  {
   "cell_type": "code",
   "execution_count": 27,
   "id": "844ea25c",
   "metadata": {},
   "outputs": [
    {
     "name": "stdout",
     "output_type": "stream",
     "text": [
      "0.9615384615384616\n"
     ]
    }
   ],
   "source": [
    "# model using linear \n",
    "\n",
    "model_linear=svm.SVC(kernel='linear',C=1).fit(x_train,y_train)\n",
    "pred_linear=model_linear.predict(x_test)\n",
    "\n",
    "print(metrics.accuracy_score(y_test,pred_linear))\n"
   ]
  },
  {
   "cell_type": "code",
   "execution_count": 28,
   "id": "a5fd1095",
   "metadata": {},
   "outputs": [
    {
     "name": "stdout",
     "output_type": "stream",
     "text": [
      "0.7596153846153846\n"
     ]
    }
   ],
   "source": [
    "# model using polynomial\n",
    "\n",
    "model_poly=svm.SVC(kernel='poly',C=1,degree=20).fit(x_train,y_train)\n",
    "pred_poly=model_poly.predict(x_test)\n",
    "\n",
    "print(metrics.accuracy_score(y_test,pred_poly))"
   ]
  },
  {
   "cell_type": "code",
   "execution_count": 29,
   "id": "b205fca9",
   "metadata": {},
   "outputs": [
    {
     "name": "stdout",
     "output_type": "stream",
     "text": [
      "0.7596153846153846\n"
     ]
    }
   ],
   "source": [
    "# model using rbf \n",
    "\n",
    "model_rbf=svm.SVC(kernel='rbf',C=1,gamma=0.0001).fit(x_train,y_train)\n",
    "pred_rbf=model_rbf.predict(x_test)\n",
    "\n",
    "print(metrics.accuracy_score(y_test,pred_rbf))"
   ]
  },
  {
   "cell_type": "markdown",
   "id": "9b96088e",
   "metadata": {},
   "source": [
    "# Using GridsearchCV to find the best possible kernel and their parameters"
   ]
  },
  {
   "cell_type": "code",
   "execution_count": 30,
   "id": "805c8411",
   "metadata": {},
   "outputs": [],
   "source": [
    "param_grid = [{'kernel' : [\"linear\",\"poly\",\"rbf\",\"sigmoid\"] ,\n",
    "               'gamma' : [*range(1,50,10),0.1,0.001,0.00001] ,\n",
    "                'C':[1,15,14,13,12,11,10,0.1]  }]"
   ]
  },
  {
   "cell_type": "code",
   "execution_count": 31,
   "id": "8c6278d9",
   "metadata": {},
   "outputs": [],
   "source": [
    "model=svm.SVC()\n",
    "gsv=GridSearchCV(model,param_grid,cv=10).fit(x_train,y_train)"
   ]
  },
  {
   "cell_type": "code",
   "execution_count": 32,
   "id": "7977623d",
   "metadata": {},
   "outputs": [
    {
     "data": {
      "text/plain": [
       "({'C': 15, 'gamma': 1, 'kernel': 'linear'}, 0.9830429732868758)"
      ]
     },
     "execution_count": 32,
     "metadata": {},
     "output_type": "execute_result"
    }
   ],
   "source": [
    "gsv.best_params_,gsv.best_score_"
   ]
  },
  {
   "cell_type": "markdown",
   "id": "64288655",
   "metadata": {},
   "source": [
    " 98% accuracy is given for linear kernel and gamma =1 and C= 15"
   ]
  },
  {
   "cell_type": "code",
   "execution_count": null,
   "id": "9602f8dd",
   "metadata": {},
   "outputs": [],
   "source": []
  }
 ],
 "metadata": {
  "kernelspec": {
   "display_name": "Python 3 (ipykernel)",
   "language": "python",
   "name": "python3"
  },
  "language_info": {
   "codemirror_mode": {
    "name": "ipython",
    "version": 3
   },
   "file_extension": ".py",
   "mimetype": "text/x-python",
   "name": "python",
   "nbconvert_exporter": "python",
   "pygments_lexer": "ipython3",
   "version": "3.9.7"
  }
 },
 "nbformat": 4,
 "nbformat_minor": 5
}
