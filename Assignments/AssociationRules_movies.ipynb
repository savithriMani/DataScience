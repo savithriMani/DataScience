{
 "cells": [
  {
   "cell_type": "code",
   "execution_count": null,
   "id": "04886a55",
   "metadata": {},
   "outputs": [],
   "source": [
    "import pandas as pd \n",
    "\n",
    "from mlxtend.frequent_patterns import apriori,association_rules\n",
    "from mlxtend.preprocessing import TransactionEncoder"
   ]
  },
  {
   "cell_type": "code",
   "execution_count": null,
   "id": "71790a63",
   "metadata": {},
   "outputs": [],
   "source": [
    "movie_df=pd.read_csv(\"my_movies.csv\")"
   ]
  },
  {
   "cell_type": "code",
   "execution_count": null,
   "id": "d767e6ca",
   "metadata": {},
   "outputs": [],
   "source": [
    "movie_df.head()"
   ]
  },
  {
   "cell_type": "code",
   "execution_count": null,
   "id": "a61e0857",
   "metadata": {},
   "outputs": [],
   "source": [
    "movie_df.info()"
   ]
  },
  {
   "cell_type": "code",
   "execution_count": null,
   "id": "f3b216bb",
   "metadata": {},
   "outputs": [],
   "source": [
    "# Removing categorical since dummies are already present"
   ]
  },
  {
   "cell_type": "code",
   "execution_count": null,
   "id": "a8121db4",
   "metadata": {},
   "outputs": [],
   "source": [
    "movie_df=movie_df.iloc[:,5:]"
   ]
  },
  {
   "cell_type": "code",
   "execution_count": null,
   "id": "d366bc1d",
   "metadata": {},
   "outputs": [],
   "source": [
    "movie_df.head()"
   ]
  },
  {
   "cell_type": "code",
   "execution_count": null,
   "id": "6a5f5fa9",
   "metadata": {},
   "outputs": [],
   "source": [
    "# Building the model using Aproiori algorithm"
   ]
  },
  {
   "cell_type": "code",
   "execution_count": null,
   "id": "c0ea79df",
   "metadata": {},
   "outputs": [],
   "source": [
    "total_itemsets = apriori(movie_df, min_support=0.15, use_colnames=True)\n",
    "total_itemsets"
   ]
  },
  {
   "cell_type": "code",
   "execution_count": null,
   "id": "84bf2eb5",
   "metadata": {},
   "outputs": [],
   "source": [
    "rules = association_rules(total_itemsets, metric=\"lift\", min_threshold=1.3)\n",
    "rules"
   ]
  },
  {
   "cell_type": "code",
   "execution_count": null,
   "id": "aa56f5ef",
   "metadata": {},
   "outputs": [],
   "source": [
    "rules.sort_values('lift',ascending = False)"
   ]
  },
  {
   "cell_type": "code",
   "execution_count": null,
   "id": "4684c4b3",
   "metadata": {},
   "outputs": [],
   "source": [
    "rules[rules.lift>9].shape"
   ]
  },
  {
   "cell_type": "code",
   "execution_count": null,
   "id": "7a5e1495",
   "metadata": {},
   "outputs": [],
   "source": [
    "rules[rules.support>0.1]"
   ]
  },
  {
   "cell_type": "code",
   "execution_count": null,
   "id": "fb40892f",
   "metadata": {},
   "outputs": [],
   "source": [
    "import matplotlib.pyplot as plt\n",
    "rules[['support','confidence','lift']].hist()"
   ]
  },
  {
   "cell_type": "code",
   "execution_count": null,
   "id": "84f0e420",
   "metadata": {},
   "outputs": [],
   "source": []
  },
  {
   "cell_type": "code",
   "execution_count": null,
   "id": "bcb59d3c",
   "metadata": {},
   "outputs": [],
   "source": []
  }
 ],
 "metadata": {
  "kernelspec": {
   "display_name": "Python 3 (ipykernel)",
   "language": "python",
   "name": "python3"
  },
  "language_info": {
   "codemirror_mode": {
    "name": "ipython",
    "version": 3
   },
   "file_extension": ".py",
   "mimetype": "text/x-python",
   "name": "python",
   "nbconvert_exporter": "python",
   "pygments_lexer": "ipython3",
   "version": "3.9.7"
  }
 },
 "nbformat": 4,
 "nbformat_minor": 5
}
