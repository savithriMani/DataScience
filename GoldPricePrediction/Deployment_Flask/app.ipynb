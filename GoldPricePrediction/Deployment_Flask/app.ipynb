{
 "cells": [
  {
   "cell_type": "code",
   "execution_count": 1,
   "id": "5d603635",
   "metadata": {},
   "outputs": [
    {
     "name": "stdout",
     "output_type": "stream",
     "text": [
      " * Serving Flask app \"__main__\" (lazy loading)\n",
      " * Environment: production\n",
      "\u001b[31m   WARNING: This is a development server. Do not use it in a production deployment.\u001b[0m\n",
      "\u001b[2m   Use a production WSGI server instead.\u001b[0m\n",
      " * Debug mode: on\n"
     ]
    },
    {
     "name": "stderr",
     "output_type": "stream",
     "text": [
      " * Running on http://127.0.0.1:5000/ (Press CTRL+C to quit)\n",
      "127.0.0.1 - - [02/May/2022 21:47:47] \"GET / HTTP/1.1\" 200 -\n",
      "127.0.0.1 - - [02/May/2022 21:47:51] \"POST /predict HTTP/1.1\" 200 -\n"
     ]
    },
    {
     "name": "stdout",
     "output_type": "stream",
     "text": [
      "***************************************** \n",
      "[100]\n",
      "[array([100])]\n",
      "***************************************** \n",
      "Prediction:              predicted_mean\n",
      "2021-12-22     4361.370508\n",
      "2021-12-23     4317.473695\n",
      "2021-12-24     4299.144285\n",
      "2021-12-25     4288.192035\n",
      "2021-12-26     4276.488109\n",
      "...                    ...\n",
      "2022-03-27     4405.829962\n",
      "2022-03-28     4402.596389\n",
      "2022-03-29     4394.903222\n",
      "2022-03-30     4397.339900\n",
      "2022-03-31     4394.583899\n",
      "\n",
      "[100 rows x 1 columns]\n"
     ]
    },
    {
     "name": "stderr",
     "output_type": "stream",
     "text": [
      "127.0.0.1 - - [02/May/2022 21:48:01] \"POST /predict HTTP/1.1\" 200 -\n"
     ]
    },
    {
     "name": "stdout",
     "output_type": "stream",
     "text": [
      "***************************************** \n",
      "[40]\n",
      "[array([40])]\n",
      "***************************************** \n",
      "Prediction:              predicted_mean\n",
      "2021-12-22     4361.370508\n",
      "2021-12-23     4317.473695\n",
      "2021-12-24     4299.144285\n",
      "2021-12-25     4288.192035\n",
      "2021-12-26     4276.488109\n",
      "2021-12-27     4307.719438\n",
      "2021-12-28     4303.559737\n",
      "2021-12-29     4302.519477\n",
      "2021-12-30     4285.664414\n",
      "2021-12-31     4275.232006\n",
      "2022-01-01     4319.319216\n",
      "2022-01-02     4263.616513\n",
      "2022-01-03     4166.525168\n",
      "2022-01-04     4261.954260\n",
      "2022-01-05     4319.053860\n",
      "2022-01-06     4344.466131\n",
      "2022-01-07     4293.372159\n",
      "2022-01-08     4226.921961\n",
      "2022-01-09     4246.421319\n",
      "2022-01-10     4249.287369\n",
      "2022-01-11     4334.000084\n",
      "2022-01-12     4281.463291\n",
      "2022-01-13     4314.888290\n",
      "2022-01-14     4277.674159\n",
      "2022-01-15     4289.211870\n",
      "2022-01-16     4313.879341\n",
      "2022-01-17     4326.721217\n",
      "2022-01-18     4336.539673\n",
      "2022-01-19     4345.197212\n",
      "2022-01-20     4325.700869\n",
      "2022-01-21     4333.797025\n",
      "2022-01-22     4345.402188\n",
      "2022-01-23     4351.492346\n",
      "2022-01-24     4352.749323\n",
      "2022-01-25     4349.515750\n",
      "2022-01-26     4341.822583\n",
      "2022-01-27     4344.259262\n",
      "2022-01-28     4341.503260\n",
      "2022-01-29     4338.188775\n",
      "2022-01-30     4316.378947\n"
     ]
    },
    {
     "name": "stderr",
     "output_type": "stream",
     "text": [
      "127.0.0.1 - - [02/May/2022 21:48:06] \"POST /predict HTTP/1.1\" 200 -\n"
     ]
    },
    {
     "name": "stdout",
     "output_type": "stream",
     "text": [
      "***************************************** \n",
      "[2]\n",
      "[array([2])]\n",
      "***************************************** \n",
      "Prediction:              predicted_mean\n",
      "2021-12-22     4361.370508\n",
      "2021-12-23     4317.473695\n"
     ]
    },
    {
     "name": "stderr",
     "output_type": "stream",
     "text": [
      "127.0.0.1 - - [02/May/2022 21:48:23] \"POST /predict HTTP/1.1\" 200 -\n"
     ]
    },
    {
     "name": "stdout",
     "output_type": "stream",
     "text": [
      "***************************************** \n",
      "[50]\n",
      "[array([50])]\n",
      "***************************************** \n",
      "Prediction:              predicted_mean\n",
      "2021-12-22     4361.370508\n",
      "2021-12-23     4317.473695\n",
      "2021-12-24     4299.144285\n",
      "2021-12-25     4288.192035\n",
      "2021-12-26     4276.488109\n",
      "2021-12-27     4307.719438\n",
      "2021-12-28     4303.559737\n",
      "2021-12-29     4302.519477\n",
      "2021-12-30     4285.664414\n",
      "2021-12-31     4275.232006\n",
      "2022-01-01     4319.319216\n",
      "2022-01-02     4263.616513\n",
      "2022-01-03     4166.525168\n",
      "2022-01-04     4261.954260\n",
      "2022-01-05     4319.053860\n",
      "2022-01-06     4344.466131\n",
      "2022-01-07     4293.372159\n",
      "2022-01-08     4226.921961\n",
      "2022-01-09     4246.421319\n",
      "2022-01-10     4249.287369\n",
      "2022-01-11     4334.000084\n",
      "2022-01-12     4281.463291\n",
      "2022-01-13     4314.888290\n",
      "2022-01-14     4277.674159\n",
      "2022-01-15     4289.211870\n",
      "2022-01-16     4313.879341\n",
      "2022-01-17     4326.721217\n",
      "2022-01-18     4336.539673\n",
      "2022-01-19     4345.197212\n",
      "2022-01-20     4325.700869\n",
      "2022-01-21     4333.797025\n",
      "2022-01-22     4345.402188\n",
      "2022-01-23     4351.492346\n",
      "2022-01-24     4352.749323\n",
      "2022-01-25     4349.515750\n",
      "2022-01-26     4341.822583\n",
      "2022-01-27     4344.259262\n",
      "2022-01-28     4341.503260\n",
      "2022-01-29     4338.188775\n",
      "2022-01-30     4316.378947\n",
      "2022-01-31     4319.901446\n",
      "2022-02-01     4316.286816\n",
      "2022-02-02     4312.144800\n",
      "2022-02-03     4314.481729\n",
      "2022-02-04     4303.384879\n",
      "2022-02-05     4304.676235\n",
      "2022-02-06     4298.172134\n",
      "2022-02-07     4308.538546\n",
      "2022-02-08     4307.381629\n",
      "2022-02-09     4282.116028\n"
     ]
    }
   ],
   "source": [
    "import numpy as np\n",
    "from flask import Flask, request, jsonify, render_template\n",
    "import pickle\n",
    "import pandas as pd\n",
    "\n",
    "\n",
    "app = Flask(__name__)\n",
    "model = pickle.load(open('model.pkl', 'rb'))\n",
    "\n",
    "\n",
    "@app.route('/')\n",
    "\n",
    "def helloWorld():\n",
    "    return render_template('Prediction.html')\n",
    "\n",
    "@app.route('/predict',methods=['POST'])\n",
    "\n",
    "def pred():\n",
    "    \n",
    "    int_features=[int(x) for x in request.form.values()]\n",
    "    final=[np.array(int_features)]\n",
    "    print(\"***************************************** \")\n",
    "    print(int_features)\n",
    "    print(final)\n",
    "    print(\"***************************************** \")\n",
    "    prediction = model.predict(start=2182,end=2181+int_features[0])\n",
    "    pred_df=pd.DataFrame(prediction)\n",
    "    print(\"Prediction: \",pred_df )\n",
    "   # return render_template('Prediction.html', table=[pred_df.to_html(classes='data', header=\"true\")])\n",
    "                \n",
    "    return render_template('Prediction.html',tables=[pred_df.to_html(classes='data', header=\"true\")])\n",
    "\n",
    "if __name__ == \"__main__\":\n",
    "    app.run(debug=True, use_reloader=False)\n",
    "    \n",
    "    \n",
    "    "
   ]
  },
  {
   "cell_type": "code",
   "execution_count": null,
   "id": "68aaa3ad",
   "metadata": {},
   "outputs": [],
   "source": []
  },
  {
   "cell_type": "code",
   "execution_count": null,
   "id": "5963d592",
   "metadata": {},
   "outputs": [],
   "source": []
  },
  {
   "cell_type": "code",
   "execution_count": null,
   "id": "35af6c57",
   "metadata": {},
   "outputs": [],
   "source": []
  },
  {
   "cell_type": "code",
   "execution_count": null,
   "id": "c38cb9f2",
   "metadata": {},
   "outputs": [],
   "source": []
  }
 ],
 "metadata": {
  "kernelspec": {
   "display_name": "Python 3 (ipykernel)",
   "language": "python",
   "name": "python3"
  },
  "language_info": {
   "codemirror_mode": {
    "name": "ipython",
    "version": 3
   },
   "file_extension": ".py",
   "mimetype": "text/x-python",
   "name": "python",
   "nbconvert_exporter": "python",
   "pygments_lexer": "ipython3",
   "version": "3.9.7"
  }
 },
 "nbformat": 4,
 "nbformat_minor": 5
}
