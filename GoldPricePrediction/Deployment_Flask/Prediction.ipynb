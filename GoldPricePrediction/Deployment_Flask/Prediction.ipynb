{
 "cells": [
  {
   "cell_type": "markdown",
   "id": "ec85b0e4",
   "metadata": {},
   "source": [
    "\n",
    "<html lang=\"en\">\n",
    "<head>\n",
    "  <meta http-equiv=\"Content-Type\" content=\"text/html; charset=UTF-8\"/>\n",
    "  <meta name=\"viewport\" content=\"width=device-width, initial-scale=1, maximum-scale=1.0\"/>\n",
    "  <title>Starter Template - Materialize</title>\n",
    "</head>\n",
    "\n",
    "<body>\n",
    "  \n",
    "  <div class=\"section no-pad-bot\" id=\"index-banner\">\n",
    "    <div class=\"container\">\n",
    "      <br><br>\n",
    "      <h1 class=\"header center orange-text\">Gold price Prediction</h1>\n",
    "      <div class=\"row center\">\n",
    "        <h5 class=\"header col s12 light\"> \n",
    "        <br>\n",
    "        </h5>\n",
    "      </div>\n",
    "\n",
    "              <div class=\"row\">\n",
    "    <form action='/predict' method=\"post\" class=\"col s12\">\n",
    "      <div class=\"row\">\n",
    "        <div class=\"input-field col s4\">\n",
    "            <label for=\"first_name\"><b>Enter no of days to predict : </b></label>\n",
    "            <br>\n",
    "          <input placeholder=\"No of Days \" name=\"Days\" id=\"first_name\" type=\"text\" class=\"validate\">\n",
    "        </div>\n",
    "        \n",
    "      </div>\n",
    "\n",
    "      <div class=\"row center\">\n",
    "\n",
    "          <button type=\"submit\" class=\"btn-large waves-effect waves-light orange\">Enter </button>\n",
    "      </div>\n",
    "    </form>\n",
    "      </div>\n",
    "\n",
    "      <table>\n",
    "         \n",
    "        <tr>\n",
    "            {% for table in tables %}\n",
    "               {{ table|safe }}\n",
    "            {% endfor %} \n",
    "          </tr>\n",
    "      </table>\n",
    "\n",
    "    </div>\n",
    "  </div>\n",
    "\n",
    "\n",
    "</body>\n",
    "</html>"
   ]
  }
 ],
 "metadata": {
  "kernelspec": {
   "display_name": "Python 3 (ipykernel)",
   "language": "python",
   "name": "python3"
  },
  "language_info": {
   "codemirror_mode": {
    "name": "ipython",
    "version": 3
   },
   "file_extension": ".py",
   "mimetype": "text/x-python",
   "name": "python",
   "nbconvert_exporter": "python",
   "pygments_lexer": "ipython3",
   "version": "3.9.7"
  }
 },
 "nbformat": 4,
 "nbformat_minor": 5
}
