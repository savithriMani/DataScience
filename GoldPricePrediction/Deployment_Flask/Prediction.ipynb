<div class="row">
<form action='/predict' method="post" class="col s12">
  <div class="row">
    <div class="input-field col s4">
        <label for="first_name"><b>Enter no of days to predict : </b></label>
        <br>
      <input placeholder="No of Days " name="Days" id="first_name" type="text" class="validate">
    </div>

  </div>

  <div class="row center">

      <button type="submit" class="btn-large waves-effect waves-light orange">Enter </button>
  </div>
</form>
  </div>

  <table>

    <tr>
        {% for table in tables %}
           {{ table|safe }}
        {% endfor %} 
      </tr>
  </table>

</div>
