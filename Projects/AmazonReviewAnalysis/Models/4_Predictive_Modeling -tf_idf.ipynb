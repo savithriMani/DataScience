{
 "cells": [
  {
   "cell_type": "code",
   "execution_count": 1,
   "id": "6b2467bf",
   "metadata": {},
   "outputs": [
    {
     "name": "stderr",
     "output_type": "stream",
     "text": [
      "C:\\Users\\Mani\\anaconda3\\lib\\site-packages\\numpy\\_distributor_init.py:30: UserWarning: loaded more than 1 DLL from .libs:\n",
      "C:\\Users\\Mani\\anaconda3\\lib\\site-packages\\numpy\\.libs\\libopenblas.EL2C6PLE4ZYW3ECEVIV3OXXGRN2NRFM2.gfortran-win_amd64.dll\n",
      "C:\\Users\\Mani\\anaconda3\\lib\\site-packages\\numpy\\.libs\\libopenblas.GK7GX5KEQ4F6UYO3P26ULGBQYHGQO7J4.gfortran-win_amd64.dll\n",
      "  warnings.warn(\"loaded more than 1 DLL from .libs:\"\n",
      "<frozen importlib._bootstrap>:228: RuntimeWarning: scipy._lib.messagestream.MessageStream size changed, may indicate binary incompatibility. Expected 56 from C header, got 64 from PyObject\n"
     ]
    }
   ],
   "source": [
    "import pandas as pd\n",
    "import numpy as np\n",
    "\n",
    "import imblearn \n",
    "\n",
    "from imblearn.over_sampling import SMOTE"
   ]
  },
  {
   "cell_type": "markdown",
   "id": "3d36caca",
   "metadata": {},
   "source": [
    "# Reading Pre-processed CSV file :"
   ]
  },
  {
   "cell_type": "code",
   "execution_count": 2,
   "id": "7ea34a27",
   "metadata": {},
   "outputs": [
    {
     "data": {
      "text/html": [
       "<div>\n",
       "<style scoped>\n",
       "    .dataframe tbody tr th:only-of-type {\n",
       "        vertical-align: middle;\n",
       "    }\n",
       "\n",
       "    .dataframe tbody tr th {\n",
       "        vertical-align: top;\n",
       "    }\n",
       "\n",
       "    .dataframe thead th {\n",
       "        text-align: right;\n",
       "    }\n",
       "</style>\n",
       "<table border=\"1\" class=\"dataframe\">\n",
       "  <thead>\n",
       "    <tr style=\"text-align: right;\">\n",
       "      <th></th>\n",
       "      <th>Reviews</th>\n",
       "      <th>Ratings</th>\n",
       "      <th>Orig_Reviews</th>\n",
       "      <th>no_of_characters</th>\n",
       "      <th>no_of_words</th>\n",
       "      <th>avd_Word_Length</th>\n",
       "      <th>Polarity</th>\n",
       "      <th>Subjectivity</th>\n",
       "    </tr>\n",
       "  </thead>\n",
       "  <tbody>\n",
       "    <tr>\n",
       "      <th>0</th>\n",
       "      <td>horrible noise come washing spinning return ba...</td>\n",
       "      <td>1</td>\n",
       "      <td>Horrible noise coming while washing or spinnin...</td>\n",
       "      <td>712</td>\n",
       "      <td>116</td>\n",
       "      <td>5.129310</td>\n",
       "      <td>-0.069444</td>\n",
       "      <td>0.691667</td>\n",
       "    </tr>\n",
       "    <tr>\n",
       "      <th>1</th>\n",
       "      <td>make life easierwrite review month use wash ev...</td>\n",
       "      <td>5</td>\n",
       "      <td>It's made my life easier.Writing this review a...</td>\n",
       "      <td>1366</td>\n",
       "      <td>245</td>\n",
       "      <td>4.563265</td>\n",
       "      <td>0.096825</td>\n",
       "      <td>0.531746</td>\n",
       "    </tr>\n",
       "    <tr>\n",
       "      <th>2</th>\n",
       "      <td>would like share experience one onedelivery ex...</td>\n",
       "      <td>5</td>\n",
       "      <td>I would like to share my experience one by one...</td>\n",
       "      <td>2673</td>\n",
       "      <td>453</td>\n",
       "      <td>4.852097</td>\n",
       "      <td>0.229518</td>\n",
       "      <td>0.560618</td>\n",
       "    </tr>\n",
       "    <tr>\n",
       "      <th>3</th>\n",
       "      <td>medium could load washing machine got deliver ...</td>\n",
       "      <td>5</td>\n",
       "      <td>The media could not be loaded.\\n              ...</td>\n",
       "      <td>842</td>\n",
       "      <td>149</td>\n",
       "      <td>4.550336</td>\n",
       "      <td>0.300000</td>\n",
       "      <td>0.556667</td>\n",
       "    </tr>\n",
       "    <tr>\n",
       "      <th>4</th>\n",
       "      <td>medium could load defective product recievedth...</td>\n",
       "      <td>2</td>\n",
       "      <td>The media could not be loaded.\\n              ...</td>\n",
       "      <td>1369</td>\n",
       "      <td>227</td>\n",
       "      <td>4.933921</td>\n",
       "      <td>-0.154167</td>\n",
       "      <td>0.381859</td>\n",
       "    </tr>\n",
       "  </tbody>\n",
       "</table>\n",
       "</div>"
      ],
      "text/plain": [
       "                                             Reviews  Ratings  \\\n",
       "0  horrible noise come washing spinning return ba...        1   \n",
       "1  make life easierwrite review month use wash ev...        5   \n",
       "2  would like share experience one onedelivery ex...        5   \n",
       "3  medium could load washing machine got deliver ...        5   \n",
       "4  medium could load defective product recievedth...        2   \n",
       "\n",
       "                                        Orig_Reviews  no_of_characters  \\\n",
       "0  Horrible noise coming while washing or spinnin...               712   \n",
       "1  It's made my life easier.Writing this review a...              1366   \n",
       "2  I would like to share my experience one by one...              2673   \n",
       "3  The media could not be loaded.\\n              ...               842   \n",
       "4  The media could not be loaded.\\n              ...              1369   \n",
       "\n",
       "   no_of_words  avd_Word_Length  Polarity  Subjectivity  \n",
       "0          116         5.129310 -0.069444      0.691667  \n",
       "1          245         4.563265  0.096825      0.531746  \n",
       "2          453         4.852097  0.229518      0.560618  \n",
       "3          149         4.550336  0.300000      0.556667  \n",
       "4          227         4.933921 -0.154167      0.381859  "
      ]
     },
     "execution_count": 2,
     "metadata": {},
     "output_type": "execute_result"
    }
   ],
   "source": [
    "df_reviews_ratings = pd.read_csv('PreProcessed_data.csv')\n",
    "df_reviews_ratings.head(5)"
   ]
  },
  {
   "cell_type": "code",
   "execution_count": 3,
   "id": "81a7ea6a",
   "metadata": {},
   "outputs": [
    {
     "data": {
      "text/plain": [
       "Reviews             4\n",
       "Ratings             0\n",
       "Orig_Reviews        2\n",
       "no_of_characters    0\n",
       "no_of_words         0\n",
       "avd_Word_Length     2\n",
       "Polarity            0\n",
       "Subjectivity        0\n",
       "dtype: int64"
      ]
     },
     "execution_count": 3,
     "metadata": {},
     "output_type": "execute_result"
    }
   ],
   "source": [
    "df_reviews_ratings.isnull().sum()"
   ]
  },
  {
   "cell_type": "code",
   "execution_count": 4,
   "id": "b7fbe99e",
   "metadata": {},
   "outputs": [],
   "source": [
    "df_reviews_ratings=df_reviews_ratings.dropna()"
   ]
  },
  {
   "cell_type": "code",
   "execution_count": 5,
   "id": "9952177b",
   "metadata": {},
   "outputs": [],
   "source": [
    "df_reviews_ratings=df_reviews_ratings.reset_index()"
   ]
  },
  {
   "cell_type": "code",
   "execution_count": null,
   "id": "806689ed",
   "metadata": {},
   "outputs": [],
   "source": []
  },
  {
   "cell_type": "code",
   "execution_count": 6,
   "id": "14dd579f",
   "metadata": {},
   "outputs": [],
   "source": [
    "corpus= []\n",
    "for i in range(0,len(df_reviews_ratings.Reviews)):\n",
    "    text = ''.join(df_reviews_ratings.Reviews[i])\n",
    "    corpus.append(text)"
   ]
  },
  {
   "cell_type": "code",
   "execution_count": null,
   "id": "61c2eee2",
   "metadata": {},
   "outputs": [],
   "source": []
  },
  {
   "cell_type": "code",
   "execution_count": null,
   "id": "4eff97eb",
   "metadata": {},
   "outputs": [],
   "source": []
  },
  {
   "cell_type": "markdown",
   "id": "7387e7ab",
   "metadata": {},
   "source": [
    "# TF-IDF :"
   ]
  },
  {
   "cell_type": "markdown",
   "id": "59d3a221",
   "metadata": {},
   "source": [
    " - Tf-idf is used to get the frequency of the words and hence has much impact on the models\n",
    " - where as CV only used 0's and 1's and gives equal importance to all the words .\n",
    " - Tf-idf focuses more on the frequency of the word in a sentences and the sentences as well "
   ]
  },
  {
   "cell_type": "code",
   "execution_count": 7,
   "id": "eca51cbd",
   "metadata": {},
   "outputs": [],
   "source": [
    "from sklearn.feature_extraction.text import TfidfVectorizer"
   ]
  },
  {
   "cell_type": "code",
   "execution_count": 8,
   "id": "ef436b9c",
   "metadata": {},
   "outputs": [],
   "source": [
    "tfidf = TfidfVectorizer()\n",
    "X = tfidf.fit_transform(corpus).toarray()\n",
    "y = df_reviews_ratings.iloc[:,2].values"
   ]
  },
  {
   "cell_type": "code",
   "execution_count": 9,
   "id": "3ac8a9f8",
   "metadata": {},
   "outputs": [
    {
     "data": {
      "text/plain": [
       "(986, 2399)"
      ]
     },
     "execution_count": 9,
     "metadata": {},
     "output_type": "execute_result"
    }
   ],
   "source": [
    "X.shape"
   ]
  },
  {
   "cell_type": "code",
   "execution_count": 10,
   "id": "888285e1",
   "metadata": {},
   "outputs": [
    {
     "data": {
      "text/plain": [
       "(986,)"
      ]
     },
     "execution_count": 10,
     "metadata": {},
     "output_type": "execute_result"
    }
   ],
   "source": [
    "y.shape"
   ]
  },
  {
   "cell_type": "markdown",
   "id": "116f6f42",
   "metadata": {},
   "source": [
    "# Balancing the data set using SMOTE : "
   ]
  },
  {
   "cell_type": "code",
   "execution_count": 11,
   "id": "afd12a60",
   "metadata": {},
   "outputs": [],
   "source": [
    "# As we are not having proper results with unbalanced data : "
   ]
  },
  {
   "cell_type": "code",
   "execution_count": 12,
   "id": "e5c20a6c",
   "metadata": {},
   "outputs": [],
   "source": [
    "sm =SMOTE(random_state = 100)          # SMOTENC(categorical_features=[0,1,2,3,4,9,10], random_state = 100)\n",
    "x_sm,y_sm = sm.fit_resample(X, y)"
   ]
  },
  {
   "cell_type": "code",
   "execution_count": 13,
   "id": "8db713e6",
   "metadata": {},
   "outputs": [
    {
     "data": {
      "text/plain": [
       "array([  0, 516, 516, 516, 516, 516], dtype=int64)"
      ]
     },
     "execution_count": 13,
     "metadata": {},
     "output_type": "execute_result"
    }
   ],
   "source": [
    "np.bincount(y_sm)"
   ]
  },
  {
   "cell_type": "code",
   "execution_count": 14,
   "id": "e651462a",
   "metadata": {},
   "outputs": [],
   "source": [
    "# All the categories are balanced"
   ]
  },
  {
   "cell_type": "code",
   "execution_count": 15,
   "id": "d6b1da0e",
   "metadata": {},
   "outputs": [],
   "source": [
    "from sklearn.model_selection import train_test_split\n",
    "import seaborn as sns\n",
    "from sklearn import metrics"
   ]
  },
  {
   "cell_type": "code",
   "execution_count": 16,
   "id": "822a7014",
   "metadata": {},
   "outputs": [],
   "source": [
    "# splitting the data set into training set and test set\n",
    "#Before Smote\n",
    " \n",
    "X_train, X_test, y_train, y_test = train_test_split(X, y, test_size = 0.25, random_state = 0)"
   ]
  },
  {
   "cell_type": "code",
   "execution_count": 17,
   "id": "a4adc888",
   "metadata": {},
   "outputs": [],
   "source": [
    "# After smote\n",
    "\n",
    "X_train_sm, X_test_sm, y_train_sm, y_test_sm = train_test_split(x_sm, y_sm, test_size = 0.25, random_state = 0)"
   ]
  },
  {
   "cell_type": "code",
   "execution_count": 18,
   "id": "cb93f028",
   "metadata": {},
   "outputs": [
    {
     "data": {
      "text/plain": [
       "(1935, 2399)"
      ]
     },
     "execution_count": 18,
     "metadata": {},
     "output_type": "execute_result"
    }
   ],
   "source": [
    "X_train_sm.shape"
   ]
  },
  {
   "cell_type": "code",
   "execution_count": 19,
   "id": "2bb8271d",
   "metadata": {},
   "outputs": [
    {
     "data": {
      "text/plain": [
       "(1935,)"
      ]
     },
     "execution_count": 19,
     "metadata": {},
     "output_type": "execute_result"
    }
   ],
   "source": [
    "y_train_sm.shape"
   ]
  },
  {
   "cell_type": "markdown",
   "id": "f06ccc1d",
   "metadata": {},
   "source": [
    "# Using all the ML models for CV : "
   ]
  },
  {
   "cell_type": "code",
   "execution_count": 20,
   "id": "ecb9faa5",
   "metadata": {},
   "outputs": [],
   "source": [
    "from sklearn.naive_bayes import MultinomialNB\n",
    "from sklearn.metrics import confusion_matrix\n",
    "\n",
    "from sklearn.linear_model import LogisticRegression\n",
    "\n",
    "from sklearn.tree import DecisionTreeClassifier\n",
    "\n",
    "from sklearn import svm\n",
    "from sklearn.svm import SVC\n",
    "from sklearn.model_selection import GridSearchCV\n",
    "from sklearn.metrics import classification_report\n",
    "\n",
    "from sklearn.ensemble import RandomForestClassifier"
   ]
  },
  {
   "cell_type": "code",
   "execution_count": 21,
   "id": "4849e327",
   "metadata": {},
   "outputs": [],
   "source": [
    "# Result wothout SMOTE "
   ]
  },
  {
   "cell_type": "code",
   "execution_count": 22,
   "id": "15142d0d",
   "metadata": {},
   "outputs": [
    {
     "name": "stdout",
     "output_type": "stream",
     "text": [
      "MultinomialNB(alpha=50) accuracy :: 0.5546558704453441\n",
      "              precision    recall  f1-score   support\n",
      "\n",
      "           1       0.00      0.00      0.00        40\n",
      "           2       0.00      0.00      0.00        13\n",
      "           3       0.00      0.00      0.00         8\n",
      "           4       0.00      0.00      0.00        49\n",
      "           5       0.55      1.00      0.71       137\n",
      "\n",
      "    accuracy                           0.55       247\n",
      "   macro avg       0.11      0.20      0.14       247\n",
      "weighted avg       0.31      0.55      0.40       247\n",
      "\n"
     ]
    },
    {
     "name": "stderr",
     "output_type": "stream",
     "text": [
      "C:\\Users\\Mani\\anaconda3\\lib\\site-packages\\sklearn\\metrics\\_classification.py:1318: UndefinedMetricWarning: Precision and F-score are ill-defined and being set to 0.0 in labels with no predicted samples. Use `zero_division` parameter to control this behavior.\n",
      "  _warn_prf(average, modifier, msg_start, len(result))\n",
      "C:\\Users\\Mani\\anaconda3\\lib\\site-packages\\sklearn\\metrics\\_classification.py:1318: UndefinedMetricWarning: Precision and F-score are ill-defined and being set to 0.0 in labels with no predicted samples. Use `zero_division` parameter to control this behavior.\n",
      "  _warn_prf(average, modifier, msg_start, len(result))\n",
      "C:\\Users\\Mani\\anaconda3\\lib\\site-packages\\sklearn\\metrics\\_classification.py:1318: UndefinedMetricWarning: Precision and F-score are ill-defined and being set to 0.0 in labels with no predicted samples. Use `zero_division` parameter to control this behavior.\n",
      "  _warn_prf(average, modifier, msg_start, len(result))\n"
     ]
    }
   ],
   "source": [
    "models=MultinomialNB(alpha=50) # range of alpha = 0-1\n",
    "models.fit(X_train,y_train)\n",
    "y_test_pred=models.predict(X_test)\n",
    "print(str(models),\"accuracy ::\",metrics.accuracy_score(y_test,y_test_pred))\n",
    "print(classification_report(y_test,y_test_pred))"
   ]
  },
  {
   "cell_type": "code",
   "execution_count": 24,
   "id": "8410e2cb",
   "metadata": {},
   "outputs": [
    {
     "name": "stdout",
     "output_type": "stream",
     "text": [
      "MultinomialNB() accuracy :: 0.5506072874493927\n",
      "LogisticRegression(multi_class='multinomial') accuracy :: 0.5910931174089069\n",
      "DecisionTreeClassifier() accuracy :: 0.4251012145748988\n",
      "RandomForestClassifier(max_features=2, random_state=8) accuracy :: 0.5344129554655871\n"
     ]
    }
   ],
   "source": [
    "models=[MultinomialNB(),LogisticRegression(multi_class='multinomial'),DecisionTreeClassifier(),\n",
    "        RandomForestClassifier(n_estimators=100,random_state=8,max_features = 2)]\n",
    "\n",
    "for model in models:\n",
    "    model.fit(X_train,y_train)\n",
    "    y_test_pred=model.predict(X_test)\n",
    "    print(str(model),\"accuracy ::\",metrics.accuracy_score(y_test,y_test_pred))\n",
    "    #print(classification_report(y_test,y_test_pred))"
   ]
  },
  {
   "cell_type": "markdown",
   "id": "eaa45c0a",
   "metadata": {},
   "source": [
    "### SVC :"
   ]
  },
  {
   "cell_type": "code",
   "execution_count": null,
   "id": "155ab2f6",
   "metadata": {},
   "outputs": [],
   "source": [
    "# Grid search CV for rbf kernal : S"
   ]
  },
  {
   "cell_type": "code",
   "execution_count": 31,
   "id": "404d084b",
   "metadata": {},
   "outputs": [
    {
     "data": {
      "text/plain": [
       "GridSearchCV(cv=10, estimator=SVC(),\n",
       "             param_grid=[{'C': [1, 15, 14, 13, 12, 11, 10, 0.1],\n",
       "                          'gamma': [50, 5, 10, 0.5, 1, 0.1, 0.001, 0.0001],\n",
       "                          'kernel': ['rbf']}])"
      ]
     },
     "execution_count": 31,
     "metadata": {},
     "output_type": "execute_result"
    }
   ],
   "source": [
    "clf = SVC()\n",
    "param_grid = [{'kernel':[\"rbf\"],'gamma':[50,5,10,0.5,1,0.1,0.001,0.0001],'C':[1,15,14,13,12,11,10,0.1] }]\n",
    "gsv = GridSearchCV(clf,param_grid,cv=10)\n",
    "gsv.fit(X_train,y_train)"
   ]
  },
  {
   "cell_type": "code",
   "execution_count": 33,
   "id": "70ccb4ff",
   "metadata": {},
   "outputs": [
    {
     "data": {
      "text/plain": [
       "({'C': 15, 'gamma': 1, 'kernel': 'rbf'}, 0.5344872269529805)"
      ]
     },
     "execution_count": 33,
     "metadata": {},
     "output_type": "execute_result"
    }
   ],
   "source": [
    "gsv.best_params_ , gsv.best_score_ "
   ]
  },
  {
   "cell_type": "code",
   "execution_count": null,
   "id": "e35293e9",
   "metadata": {},
   "outputs": [],
   "source": [
    "# Grid search cv for linear kernal"
   ]
  },
  {
   "cell_type": "code",
   "execution_count": 25,
   "id": "259b04c9",
   "metadata": {},
   "outputs": [
    {
     "data": {
      "text/plain": [
       "GridSearchCV(cv=10, estimator=SVC(),\n",
       "             param_grid=[{'gamma': [50, 5, 10, 0.5, 1, 0.1, 0.001, 0.0001],\n",
       "                          'kernel': ['linear']}])"
      ]
     },
     "execution_count": 25,
     "metadata": {},
     "output_type": "execute_result"
    }
   ],
   "source": [
    "clf = SVC()\n",
    "param_grid = [{'kernel':[\"linear\"],'gamma':[50,5,10,0.5,1,0.1,0.001,0.0001] }]\n",
    "gsv = GridSearchCV(clf,param_grid,cv=10)\n",
    "gsv.fit(X_train,y_train)"
   ]
  },
  {
   "cell_type": "code",
   "execution_count": 26,
   "id": "03d7681e",
   "metadata": {},
   "outputs": [
    {
     "data": {
      "text/plain": [
       "({'gamma': 50, 'kernel': 'linear'}, 0.5385597926693817)"
      ]
     },
     "execution_count": 26,
     "metadata": {},
     "output_type": "execute_result"
    }
   ],
   "source": [
    "gsv.best_params_ , gsv.best_score_ "
   ]
  },
  {
   "cell_type": "code",
   "execution_count": null,
   "id": "54b8422f",
   "metadata": {},
   "outputs": [],
   "source": []
  },
  {
   "cell_type": "code",
   "execution_count": null,
   "id": "11855b92",
   "metadata": {},
   "outputs": [],
   "source": [
    "# After using SMOTE :"
   ]
  },
  {
   "cell_type": "markdown",
   "id": "19bfce5e",
   "metadata": {},
   "source": [
    "- Naive Bayes : Used MultinomialNB() as we have multiple classes in the target variable(Ratings : 1,2,3,4,5)\n",
    "- Logistic regression : we used a parameter multi_class='multinomial' to indicate that the clossification is into multiple classes"
   ]
  },
  {
   "cell_type": "code",
   "execution_count": 21,
   "id": "5c84bfe6",
   "metadata": {},
   "outputs": [
    {
     "name": "stdout",
     "output_type": "stream",
     "text": [
      "MultinomialNB() accuracy :: 0.7085271317829457\n",
      "LogisticRegression(multi_class='multinomial') accuracy :: 0.7705426356589147\n",
      "DecisionTreeClassifier() accuracy :: 0.7209302325581395\n",
      "RandomForestClassifier(max_features=2, random_state=8) accuracy :: 0.8635658914728682\n"
     ]
    }
   ],
   "source": [
    "models=[MultinomialNB(),LogisticRegression(multi_class='multinomial'),DecisionTreeClassifier(),\n",
    "        RandomForestClassifier(n_estimators=100,random_state=8,max_features = 2)]\n",
    "\n",
    "for model in models:\n",
    "    model.fit(X_train_sm,y_train_sm)\n",
    "    y_test_pred_sm=model.predict(X_test_sm)\n",
    "    print(str(model),\"accuracy ::\",metrics.accuracy_score(y_test_sm,y_test_pred_sm))"
   ]
  },
  {
   "cell_type": "code",
   "execution_count": 22,
   "id": "dece02e3",
   "metadata": {},
   "outputs": [],
   "source": [
    "# Random forest classifier is giving an accuracy of 86% on test data "
   ]
  },
  {
   "cell_type": "code",
   "execution_count": 27,
   "id": "800bb65b",
   "metadata": {},
   "outputs": [
    {
     "name": "stdout",
     "output_type": "stream",
     "text": [
      "RandomForestClassifier(max_features=2, random_state=8) accuracy :: 0.9624031007751938\n"
     ]
    }
   ],
   "source": [
    "model=RandomForestClassifier(n_estimators=100,random_state=8,max_features = 2)\n",
    "model.fit(X_train_sm,y_train_sm)\n",
    "y_pred_sm=model.predict(x_sm)\n",
    "print(str(model),\"accuracy ::\",metrics.accuracy_score(y_sm,y_pred_sm))\n",
    "clf_df=classification_report(y_sm,y_pred_sm,output_dict=True)"
   ]
  },
  {
   "cell_type": "code",
   "execution_count": 29,
   "id": "de1646ef",
   "metadata": {},
   "outputs": [],
   "source": [
    "new = pd.DataFrame.from_dict(clf_df) "
   ]
  },
  {
   "cell_type": "code",
   "execution_count": 30,
   "id": "8c784deb",
   "metadata": {},
   "outputs": [
    {
     "data": {
      "text/html": [
       "<div>\n",
       "<style scoped>\n",
       "    .dataframe tbody tr th:only-of-type {\n",
       "        vertical-align: middle;\n",
       "    }\n",
       "\n",
       "    .dataframe tbody tr th {\n",
       "        vertical-align: top;\n",
       "    }\n",
       "\n",
       "    .dataframe thead th {\n",
       "        text-align: right;\n",
       "    }\n",
       "</style>\n",
       "<table border=\"1\" class=\"dataframe\">\n",
       "  <thead>\n",
       "    <tr style=\"text-align: right;\">\n",
       "      <th></th>\n",
       "      <th>1</th>\n",
       "      <th>2</th>\n",
       "      <th>3</th>\n",
       "      <th>4</th>\n",
       "      <th>5</th>\n",
       "      <th>accuracy</th>\n",
       "      <th>macro avg</th>\n",
       "      <th>weighted avg</th>\n",
       "    </tr>\n",
       "  </thead>\n",
       "  <tbody>\n",
       "    <tr>\n",
       "      <th>precision</th>\n",
       "      <td>0.959302</td>\n",
       "      <td>0.994208</td>\n",
       "      <td>0.996117</td>\n",
       "      <td>0.939048</td>\n",
       "      <td>0.922925</td>\n",
       "      <td>0.962403</td>\n",
       "      <td>0.962320</td>\n",
       "      <td>0.962320</td>\n",
       "    </tr>\n",
       "    <tr>\n",
       "      <th>recall</th>\n",
       "      <td>0.959302</td>\n",
       "      <td>0.998062</td>\n",
       "      <td>0.994186</td>\n",
       "      <td>0.955426</td>\n",
       "      <td>0.905039</td>\n",
       "      <td>0.962403</td>\n",
       "      <td>0.962403</td>\n",
       "      <td>0.962403</td>\n",
       "    </tr>\n",
       "    <tr>\n",
       "      <th>f1-score</th>\n",
       "      <td>0.959302</td>\n",
       "      <td>0.996132</td>\n",
       "      <td>0.995150</td>\n",
       "      <td>0.947166</td>\n",
       "      <td>0.913894</td>\n",
       "      <td>0.962403</td>\n",
       "      <td>0.962329</td>\n",
       "      <td>0.962329</td>\n",
       "    </tr>\n",
       "    <tr>\n",
       "      <th>support</th>\n",
       "      <td>516.000000</td>\n",
       "      <td>516.000000</td>\n",
       "      <td>516.000000</td>\n",
       "      <td>516.000000</td>\n",
       "      <td>516.000000</td>\n",
       "      <td>0.962403</td>\n",
       "      <td>2580.000000</td>\n",
       "      <td>2580.000000</td>\n",
       "    </tr>\n",
       "  </tbody>\n",
       "</table>\n",
       "</div>"
      ],
      "text/plain": [
       "                    1           2           3           4           5  \\\n",
       "precision    0.959302    0.994208    0.996117    0.939048    0.922925   \n",
       "recall       0.959302    0.998062    0.994186    0.955426    0.905039   \n",
       "f1-score     0.959302    0.996132    0.995150    0.947166    0.913894   \n",
       "support    516.000000  516.000000  516.000000  516.000000  516.000000   \n",
       "\n",
       "           accuracy    macro avg  weighted avg  \n",
       "precision  0.962403     0.962320      0.962320  \n",
       "recall     0.962403     0.962403      0.962403  \n",
       "f1-score   0.962403     0.962329      0.962329  \n",
       "support    0.962403  2580.000000   2580.000000  "
      ]
     },
     "execution_count": 30,
     "metadata": {},
     "output_type": "execute_result"
    }
   ],
   "source": [
    "new"
   ]
  },
  {
   "cell_type": "markdown",
   "id": "00ccb303",
   "metadata": {},
   "source": [
    "# Accuracy of the whole data is 96% with random forest"
   ]
  },
  {
   "cell_type": "code",
   "execution_count": null,
   "id": "c2c30854",
   "metadata": {},
   "outputs": [],
   "source": [
    "Converting them into "
   ]
  }
 ],
 "metadata": {
  "kernelspec": {
   "display_name": "Python 3 (ipykernel)",
   "language": "python",
   "name": "python3"
  },
  "language_info": {
   "codemirror_mode": {
    "name": "ipython",
    "version": 3
   },
   "file_extension": ".py",
   "mimetype": "text/x-python",
   "name": "python",
   "nbconvert_exporter": "python",
   "pygments_lexer": "ipython3",
   "version": "3.9.7"
  }
 },
 "nbformat": 4,
 "nbformat_minor": 5
}
